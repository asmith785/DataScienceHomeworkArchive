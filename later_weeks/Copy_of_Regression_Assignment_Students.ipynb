{
  "cells": [
    {
      "cell_type": "markdown",
      "id": "9d74b4e3",
      "metadata": {
        "id": "9d74b4e3"
      },
      "source": [
        "# Question 1"
      ]
    },
    {
      "cell_type": "markdown",
      "id": "d6b58907",
      "metadata": {
        "id": "d6b58907"
      },
      "source": [
        "    Define Gradient Descent using your own words."
      ]
    },
    {
      "cell_type": "code",
      "execution_count": null,
      "id": "0a03465c",
      "metadata": {
        "id": "0a03465c"
      },
      "outputs": [],
      "source": [
        "#gradient descent is used to find the best fit parameters for the minima"
      ]
    },
    {
      "cell_type": "markdown",
      "id": "fbfc4c6c",
      "metadata": {
        "id": "fbfc4c6c"
      },
      "source": [
        "# Question 2"
      ]
    },
    {
      "cell_type": "markdown",
      "id": "fedf0ba0",
      "metadata": {
        "id": "fedf0ba0"
      },
      "source": [
        "    Define what a loss function is, and what it is used for."
      ]
    },
    {
      "cell_type": "code",
      "execution_count": null,
      "id": "c10c2d81",
      "metadata": {
        "id": "c10c2d81"
      },
      "outputs": [],
      "source": [
        "#it is used to determine best fit\n",
        "#loss function specifies a penalty for an incorrect estimate from a statistical model"
      ]
    },
    {
      "cell_type": "markdown",
      "id": "60c700ae",
      "metadata": {
        "id": "60c700ae"
      },
      "source": [
        "# Question 3"
      ]
    },
    {
      "cell_type": "markdown",
      "source": [
        "We talked about 3 common loss functions. Please write down the loss function, the cost function built out of the loss function, and the benfits and negatives of using a particular loss function. Remember, loss function is the measure of error at a singular point, the COST is the measure of error across the entire dataset.\n"
      ],
      "metadata": {
        "id": "DhvRBbOH3ejZ"
      },
      "id": "DhvRBbOH3ejZ"
    },
    {
      "cell_type": "markdown",
      "id": "c44d153f",
      "metadata": {
        "id": "c44d153f"
      },
      "source": [
        "### L1 Loss"
      ]
    },
    {
      "cell_type": "code",
      "execution_count": null,
      "id": "ad6873e3",
      "metadata": {
        "id": "ad6873e3"
      },
      "outputs": [],
      "source": [
        "MSE\n",
        "#Mean of these Squared Errors (MSE)\n"
      ]
    },
    {
      "cell_type": "code",
      "source": [
        "#neeed to decode\n",
        "\n",
        "'''\n",
        "def gradient_descent(x,y,alpha,tolerance,iterations,theta_0=0,theta_1=0):\n",
        "        i = 0\n",
        "        list_of_theta_0s = [0]\n",
        "        list_of_theta_1s = [0]\n",
        "        mean_squared_error = sum([(theta_0 + (theta_1*x[i]) - y[i])**2 for i in range(len(x))])\n",
        "        list_of_errors = []\n",
        "\n",
        "        avg = 1/(len(x))\n",
        "        while i < iterations:\n",
        "\n",
        "\n",
        "            #Calculate average of the partial derivative of theta_0\n",
        "            sum_of_MSE_theta_0 = 0\n",
        "            for counter,value in enumerate(x):\n",
        "                sum_of_MSE_theta_0 += ( (theta_0 + (theta_1*x[counter])) - y[counter])\n",
        "\n",
        "\n",
        "            #Calculate average of the partial derivative of theta_1\n",
        "            sum_of_MSE_theta_1 = 0\n",
        "            for counter,value in enumerate(x):\n",
        "                sum_of_MSE_theta_1 += (((theta_0 +(theta_1* x[counter])) - y[counter]) *   x[counter]   )\n",
        "\n",
        "\n",
        "\n",
        "\n",
        "            #Update the value of theta_0\n",
        "            new_theta_0 =  theta_0 - ((alpha * avg) * sum_of_MSE_theta_0)\n",
        "            list_of_theta_0s.append(new_theta_0)\n",
        "\n",
        "            #Update the value of theta_1\n",
        "            new_theta_1 =  theta_1 - ((alpha * avg) * sum_of_MSE_theta_1)\n",
        "            list_of_theta_1s.append(new_theta_1)\n",
        "\n",
        "\n",
        "            new_mean_squared_error = sum([(theta_0 + (theta_1*x[i]) - y[i])**2 for i in range(len(x))])\n",
        "            list_of_errors.append(mean_squared_error)\n",
        "            if abs(new_mean_squared_error-mean_squared_error) <= tolerance:\n",
        "                return new_theta_0,new_theta_1,list_of_theta_0s,list_of_theta_1s,list_of_errors,i\n",
        "            mean_squred_error = new_mean_squared_error\n",
        "            theta_0 = new_theta_0\n",
        "            theta_1 = new_theta_1\n",
        "            i+=1\n",
        "\n",
        "\n",
        "        return new_theta_0,new_theta_1,list_of_theta_0s,list_of_theta_1s,list_of_errors,i"
      ],
      "metadata": {
        "id": "OnvCYoUAdlRA"
      },
      "id": "OnvCYoUAdlRA",
      "execution_count": null,
      "outputs": []
    },
    {
      "cell_type": "code",
      "source": [
        "x_train,x_test, y_train,y_test = train_test_split(df__fill_in___,df['  '], test_size=0.3, random_state=0)\n",
        "\n",
        "unscaled_Regressor = SGDRegressor(loss='mse')\n",
        "unscaled_Regressor.fit(x_train,y_train)\n",
        "unscaled_Regressor.score(x_train, y_train)"
      ],
      "metadata": {
        "id": "I-L5Eqf1zqae"
      },
      "id": "I-L5Eqf1zqae",
      "execution_count": null,
      "outputs": []
    },
    {
      "cell_type": "markdown",
      "id": "5ea47cd2",
      "metadata": {
        "id": "5ea47cd2"
      },
      "source": [
        "### L2 Loss"
      ]
    },
    {
      "cell_type": "code",
      "execution_count": null,
      "id": "fc81ceae",
      "metadata": {
        "id": "fc81ceae"
      },
      "outputs": [],
      "source": [
        "MAE\n",
        "#Mean of these Absolute Errors (MAE)"
      ]
    },
    {
      "cell_type": "code",
      "source": [
        "#neeed to decode\n",
        "\n",
        "\n",
        "'''\n",
        "def gradient_descent_with_MAE(x,y,alpha,tolerance,iterations,theta_0=0,theta_1=0):\n",
        "    avg = 1/(len(x))\n",
        "\n",
        "    total_error = sum([abs(theta_0+(theta_1*x[i]) -y[i]) for i in range(len(x))])\n",
        "\n",
        "    for i in range(0,iterations):\n",
        "\n",
        "        sum_of_theta_1s = 0\n",
        "        sum_of_theta_0s = 0\n",
        "\n",
        "        for i in range(0,len(x)):\n",
        "\n",
        "            sum_of_theta_1s += -x[i] * ((y[i]-(theta_1*x[i] + theta_0))/(abs(y[i]-(theta_1*x[i]-theta_0))))\n",
        "            sum_of_theta_0s += -((y[i]-(theta_1*x[i] + theta_0))/(abs(y[i]-(theta_1*x[i]-theta_0))))\n",
        "\n",
        "        new_theta_1 = theta_1 - (avg * sum_of_theta_1s * alpha)\n",
        "        new_theta_0 = theta_0 - (avg * sum_of_theta_0s * alpha)\n",
        "\n",
        "        new_total_error = sum([abs(new_theta_0 + (new_theta_1*x[i]) - y[i]) for i in range(len(x))])\n",
        "\n",
        "        if abs(total_error-new_total_error) <= tolerance:\n",
        "            return new_theta_0,new_theta_1\n",
        "\n",
        "        total_error = new_total_error\n",
        "        theta_0 = new_theta_0\n",
        "        theta_1 = new_theta_1\n",
        "\n",
        "'''"
      ],
      "metadata": {
        "id": "wdS8irHTqc4L"
      },
      "id": "wdS8irHTqc4L",
      "execution_count": null,
      "outputs": []
    },
    {
      "cell_type": "markdown",
      "id": "a35b20d0",
      "metadata": {
        "id": "a35b20d0"
      },
      "source": [
        "### Huber Loss"
      ]
    },
    {
      "cell_type": "code",
      "execution_count": null,
      "id": "12474388",
      "metadata": {
        "id": "12474388"
      },
      "outputs": [],
      "source": [
        "#The Huber loss combines the best properties of MSE and MAE."
      ]
    },
    {
      "cell_type": "code",
      "source": [
        "x_train,x_test, y_train,y_test = train_test_split(df_to_test,df['  '], test_size=0.3, random_state=0)\n",
        "\n",
        "unscaled_Regressor = SGDRegressor(loss='huber')\n",
        "unscaled_Regressor.fit(x_train,y_train)\n",
        "unscaled_Regressor.score(x_train, y_train)"
      ],
      "metadata": {
        "id": "NEDz9lJAdrWS"
      },
      "id": "NEDz9lJAdrWS",
      "execution_count": null,
      "outputs": []
    },
    {
      "cell_type": "markdown",
      "id": "ac0acb04",
      "metadata": {
        "id": "ac0acb04"
      },
      "source": [
        "# Question 4"
      ]
    },
    {
      "cell_type": "markdown",
      "id": "01a2f7a0",
      "metadata": {
        "id": "01a2f7a0"
      },
      "source": [
        "    Why is Stochastic Gradient Descent preferable to Batch Gradient Descent?"
      ]
    },
    {
      "cell_type": "markdown",
      "source": [
        "Stochastic Gradient Descent picks random”instance of training data at each step and then computes the gradient making it much faster as there is much fewer data to manipulate which is less costly compaired tp Batch Gradient Descent."
      ],
      "metadata": {
        "id": "Uezr5NcvbhyC"
      },
      "id": "Uezr5NcvbhyC"
    },
    {
      "cell_type": "markdown",
      "id": "46d3e50c",
      "metadata": {
        "id": "46d3e50c"
      },
      "source": [
        "# Question 5"
      ]
    },
    {
      "cell_type": "markdown",
      "id": "f855c565",
      "metadata": {
        "id": "f855c565"
      },
      "source": [
        "    There are four assumptions about our data before we do linear regression. What are they?"
      ]
    },
    {
      "cell_type": "markdown",
      "source": [
        "There are four assumptions associated with a linear regression model: Linearity: The relationship between X and the mean of Y is linear. Homoscedasticity: The variance of residual is the same for any value of X. Independence: Observations are independent of each other.\n"
      ],
      "metadata": {
        "id": "LvhZ9PWAaocJ"
      },
      "id": "LvhZ9PWAaocJ"
    },
    {
      "cell_type": "code",
      "execution_count": null,
      "id": "96404254",
      "metadata": {
        "id": "96404254"
      },
      "outputs": [],
      "source": [
        "#There should be no correlation between the residual (error) terms. Absence of this phenomenon is known as Autocorrelation.\n"
      ]
    },
    {
      "cell_type": "markdown",
      "id": "dc8a1bb3",
      "metadata": {
        "id": "dc8a1bb3"
      },
      "source": [
        "# Question 6"
      ]
    },
    {
      "cell_type": "markdown",
      "id": "44d4aec0",
      "metadata": {
        "id": "44d4aec0"
      },
      "source": [
        "    Using SKLearn, create three Regression Lines for the x's and y's provided. Use the three different cost functions.\n",
        "    \n",
        "    Create a plot that shows your Regression Lines plotted against the data set.\n",
        "    (hint: Remember, you can get theta_0 and theta_1 from your SGDRegressor. Use that to build out your line.)"
      ]
    },
    {
      "cell_type": "code",
      "execution_count": null,
      "id": "2c62b85f",
      "metadata": {
        "id": "2c62b85f"
      },
      "outputs": [],
      "source": [
        "from sklearn.linear_model import SGDRegressor"
      ]
    },
    {
      "cell_type": "code",
      "execution_count": null,
      "id": "f5cac625",
      "metadata": {
        "id": "f5cac625"
      },
      "outputs": [],
      "source": [
        "x_set_to_use = [[83],[42],[23],[54],[57],[69],[47],[69],[80],[41],[24],[11],[4],[52],[39],[43],[19],[53],[1],[18],[10],[11],[78],[66]]"
      ]
    },
    {
      "cell_type": "code",
      "execution_count": null,
      "id": "b4a8d016",
      "metadata": {
        "id": "b4a8d016"
      },
      "outputs": [],
      "source": [
        "y_set_to_use = [19,73,51,54,47,48,37,15,4,89,50,88,91,77,57,36,96,61,91,71,87,99,11,39]"
      ]
    },
    {
      "cell_type": "code",
      "source": [
        "SGDR = SGDRegressor(loss='huber',penalty=None,alpha=0.0001,max_iter=1000,epsilon=0.1)"
      ],
      "metadata": {
        "id": "_zWs3FsQkRMn"
      },
      "id": "_zWs3FsQkRMn",
      "execution_count": null,
      "outputs": []
    },
    {
      "cell_type": "code",
      "source": [
        "SGDR.fit(x_set_to_use,y_set_to_use)"
      ],
      "metadata": {
        "colab": {
          "base_uri": "https://localhost:8080/"
        },
        "id": "XpmeQ-06lPbK",
        "outputId": "278f96c4-34b4-4a34-8926-eaab3e182d1c"
      },
      "id": "XpmeQ-06lPbK",
      "execution_count": null,
      "outputs": [
        {
          "output_type": "execute_result",
          "data": {
            "text/plain": [
              "SGDRegressor(loss='huber', penalty=None)"
            ]
          },
          "metadata": {},
          "execution_count": 7
        }
      ]
    },
    {
      "cell_type": "code",
      "source": [
        "SGDR.coef_"
      ],
      "metadata": {
        "colab": {
          "base_uri": "https://localhost:8080/"
        },
        "id": "FF_aG3PTlXu5",
        "outputId": "4a71a897-abe0-4c80-dcb9-dbfe03a2e0bf"
      },
      "id": "FF_aG3PTlXu5",
      "execution_count": null,
      "outputs": [
        {
          "output_type": "execute_result",
          "data": {
            "text/plain": [
              "array([0.78406442])"
            ]
          },
          "metadata": {},
          "execution_count": 8
        }
      ]
    },
    {
      "cell_type": "code",
      "source": [
        "SGDR.intercept_"
      ],
      "metadata": {
        "colab": {
          "base_uri": "https://localhost:8080/"
        },
        "id": "D4laDNMBlc7p",
        "outputId": "18c46bb5-e48c-4090-dc0d-178c2cfad69d"
      },
      "id": "D4laDNMBlc7p",
      "execution_count": null,
      "outputs": [
        {
          "output_type": "execute_result",
          "data": {
            "text/plain": [
              "array([0.06902584])"
            ]
          },
          "metadata": {},
          "execution_count": 9
        }
      ]
    },
    {
      "cell_type": "code",
      "source": [
        "import matplotlib.pyplot as plt"
      ],
      "metadata": {
        "id": "oltu6PBflv7c"
      },
      "id": "oltu6PBflv7c",
      "execution_count": null,
      "outputs": []
    },
    {
      "cell_type": "code",
      "source": [
        "plt.plot(x_set_to_use,color='red')\n",
        "plt.scatter(x_set_to_use,y_set_to_use)\n",
        "plt.title('huber linear reggression')\n",
        "plt.show()"
      ],
      "metadata": {
        "colab": {
          "base_uri": "https://localhost:8080/",
          "height": 281
        },
        "id": "yxvpUvM1llTm",
        "outputId": "7eb482df-bec0-47f7-e529-5c26c384296b"
      },
      "id": "yxvpUvM1llTm",
      "execution_count": null,
      "outputs": [
        {
          "output_type": "display_data",
          "data": {
            "text/plain": [
              "<Figure size 432x288 with 1 Axes>"
            ],
            "image/png": "[encoded data removed]"
          },
          "metadata": {
            "needs_background": "light"
          }
        }
      ]
    },
    {
      "cell_type": "code",
      "source": [
        "SGDR = SGDRegressor(loss='mse',penalty=None,alpha=0.0001,max_iter=1000,epsilon=0.1)\n",
        "SGDR.fit(x_set_to_use,y_set_to_use)\n",
        "SGDR.coef_"
      ],
      "metadata": {
        "colab": {
          "base_uri": "https://localhost:8080/",
          "height": 345
        },
        "id": "on8npsbfm_2c",
        "outputId": "5c26f1ba-3551-41d4-def8-9b4d18f9958d"
      },
      "id": "on8npsbfm_2c",
      "execution_count": null,
      "outputs": [
        {
          "output_type": "error",
          "ename": "ValueError",
          "evalue": "ignored",
          "traceback": [
            "\u001b[0;31m---------------------------------------------------------------------------\u001b[0m",
            "\u001b[0;31mValueError\u001b[0m                                Traceback (most recent call last)",
            "\u001b[0;32m<ipython-input-22-fc529e32e300>\u001b[0m in \u001b[0;36m<module>\u001b[0;34m()\u001b[0m\n\u001b[1;32m      1\u001b[0m \u001b[0mSGDR\u001b[0m \u001b[0;34m=\u001b[0m \u001b[0mSGDRegressor\u001b[0m\u001b[0;34m(\u001b[0m\u001b[0mloss\u001b[0m\u001b[0;34m=\u001b[0m\u001b[0;34m'mse'\u001b[0m\u001b[0;34m,\u001b[0m\u001b[0mpenalty\u001b[0m\u001b[0;34m=\u001b[0m\u001b[0;32mNone\u001b[0m\u001b[0;34m,\u001b[0m\u001b[0malpha\u001b[0m\u001b[0;34m=\u001b[0m\u001b[0;36m0.0001\u001b[0m\u001b[0;34m,\u001b[0m\u001b[0mmax_iter\u001b[0m\u001b[0;34m=\u001b[0m\u001b[0;36m1000\u001b[0m\u001b[0;34m,\u001b[0m\u001b[0mepsilon\u001b[0m\u001b[0;34m=\u001b[0m\u001b[0;36m0.1\u001b[0m\u001b[0;34m)\u001b[0m\u001b[0;34m\u001b[0m\u001b[0;34m\u001b[0m\u001b[0m\n\u001b[0;32m----> 2\u001b[0;31m \u001b[0mSGDR\u001b[0m\u001b[0;34m.\u001b[0m\u001b[0mfit\u001b[0m\u001b[0;34m(\u001b[0m\u001b[0mx_set_to_use\u001b[0m\u001b[0;34m,\u001b[0m\u001b[0my_set_to_use\u001b[0m\u001b[0;34m)\u001b[0m\u001b[0;34m\u001b[0m\u001b[0;34m\u001b[0m\u001b[0m\n\u001b[0m\u001b[1;32m      3\u001b[0m \u001b[0mSGDR\u001b[0m\u001b[0;34m.\u001b[0m\u001b[0mcoef_\u001b[0m\u001b[0;34m\u001b[0m\u001b[0;34m\u001b[0m\u001b[0m\n",
            "\u001b[0;32m/usr/local/lib/python3.7/dist-packages/sklearn/linear_model/_stochastic_gradient.py\u001b[0m in \u001b[0;36mfit\u001b[0;34m(self, X, y, coef_init, intercept_init, sample_weight)\u001b[0m\n\u001b[1;32m   1544\u001b[0m             \u001b[0mcoef_init\u001b[0m\u001b[0;34m=\u001b[0m\u001b[0mcoef_init\u001b[0m\u001b[0;34m,\u001b[0m\u001b[0;34m\u001b[0m\u001b[0;34m\u001b[0m\u001b[0m\n\u001b[1;32m   1545\u001b[0m             \u001b[0mintercept_init\u001b[0m\u001b[0;34m=\u001b[0m\u001b[0mintercept_init\u001b[0m\u001b[0;34m,\u001b[0m\u001b[0;34m\u001b[0m\u001b[0;34m\u001b[0m\u001b[0m\n\u001b[0;32m-> 1546\u001b[0;31m             \u001b[0msample_weight\u001b[0m\u001b[0;34m=\u001b[0m\u001b[0msample_weight\u001b[0m\u001b[0;34m,\u001b[0m\u001b[0;34m\u001b[0m\u001b[0;34m\u001b[0m\u001b[0m\n\u001b[0m\u001b[1;32m   1547\u001b[0m         )\n\u001b[1;32m   1548\u001b[0m \u001b[0;34m\u001b[0m\u001b[0m\n",
            "\u001b[0;32m/usr/local/lib/python3.7/dist-packages/sklearn/linear_model/_stochastic_gradient.py\u001b[0m in \u001b[0;36m_fit\u001b[0;34m(self, X, y, alpha, C, loss, learning_rate, coef_init, intercept_init, sample_weight)\u001b[0m\n\u001b[1;32m   1470\u001b[0m         \u001b[0msample_weight\u001b[0m\u001b[0;34m=\u001b[0m\u001b[0;32mNone\u001b[0m\u001b[0;34m,\u001b[0m\u001b[0;34m\u001b[0m\u001b[0;34m\u001b[0m\u001b[0m\n\u001b[1;32m   1471\u001b[0m     ):\n\u001b[0;32m-> 1472\u001b[0;31m         \u001b[0mself\u001b[0m\u001b[0;34m.\u001b[0m\u001b[0m_validate_params\u001b[0m\u001b[0;34m(\u001b[0m\u001b[0;34m)\u001b[0m\u001b[0;34m\u001b[0m\u001b[0;34m\u001b[0m\u001b[0m\n\u001b[0m\u001b[1;32m   1473\u001b[0m         \u001b[0;32mif\u001b[0m \u001b[0mself\u001b[0m\u001b[0;34m.\u001b[0m\u001b[0mwarm_start\u001b[0m \u001b[0;32mand\u001b[0m \u001b[0mgetattr\u001b[0m\u001b[0;34m(\u001b[0m\u001b[0mself\u001b[0m\u001b[0;34m,\u001b[0m \u001b[0;34m\"coef_\"\u001b[0m\u001b[0;34m,\u001b[0m \u001b[0;32mNone\u001b[0m\u001b[0;34m)\u001b[0m \u001b[0;32mis\u001b[0m \u001b[0;32mnot\u001b[0m \u001b[0;32mNone\u001b[0m\u001b[0;34m:\u001b[0m\u001b[0;34m\u001b[0m\u001b[0;34m\u001b[0m\u001b[0m\n\u001b[1;32m   1474\u001b[0m             \u001b[0;32mif\u001b[0m \u001b[0mcoef_init\u001b[0m \u001b[0;32mis\u001b[0m \u001b[0;32mNone\u001b[0m\u001b[0;34m:\u001b[0m\u001b[0;34m\u001b[0m\u001b[0;34m\u001b[0m\u001b[0m\n",
            "\u001b[0;32m/usr/local/lib/python3.7/dist-packages/sklearn/linear_model/_stochastic_gradient.py\u001b[0m in \u001b[0;36m_validate_params\u001b[0;34m(self, for_partial_fit)\u001b[0m\n\u001b[1;32m    160\u001b[0m \u001b[0;34m\u001b[0m\u001b[0m\n\u001b[1;32m    161\u001b[0m         \u001b[0;32mif\u001b[0m \u001b[0mself\u001b[0m\u001b[0;34m.\u001b[0m\u001b[0mloss\u001b[0m \u001b[0;32mnot\u001b[0m \u001b[0;32min\u001b[0m \u001b[0mself\u001b[0m\u001b[0;34m.\u001b[0m\u001b[0mloss_functions\u001b[0m\u001b[0;34m:\u001b[0m\u001b[0;34m\u001b[0m\u001b[0;34m\u001b[0m\u001b[0m\n\u001b[0;32m--> 162\u001b[0;31m             \u001b[0;32mraise\u001b[0m \u001b[0mValueError\u001b[0m\u001b[0;34m(\u001b[0m\u001b[0;34m\"The loss %s is not supported. \"\u001b[0m \u001b[0;34m%\u001b[0m \u001b[0mself\u001b[0m\u001b[0;34m.\u001b[0m\u001b[0mloss\u001b[0m\u001b[0;34m)\u001b[0m\u001b[0;34m\u001b[0m\u001b[0;34m\u001b[0m\u001b[0m\n\u001b[0m\u001b[1;32m    163\u001b[0m \u001b[0;34m\u001b[0m\u001b[0m\n\u001b[1;32m    164\u001b[0m         \u001b[0;32mif\u001b[0m \u001b[0mself\u001b[0m\u001b[0;34m.\u001b[0m\u001b[0mloss\u001b[0m \u001b[0;34m==\u001b[0m \u001b[0;34m\"squared_loss\"\u001b[0m\u001b[0;34m:\u001b[0m\u001b[0;34m\u001b[0m\u001b[0;34m\u001b[0m\u001b[0m\n",
            "\u001b[0;31mValueError\u001b[0m: The loss mse is not supported. "
          ]
        }
      ]
    },
    {
      "cell_type": "code",
      "source": [
        "import seaborn as sns"
      ],
      "metadata": {
        "id": "D5je3JA7niek"
      },
      "id": "D5je3JA7niek",
      "execution_count": null,
      "outputs": []
    },
    {
      "cell_type": "code",
      "source": [
        "sns.kdeplot(y_set_to_use)"
      ],
      "metadata": {
        "colab": {
          "base_uri": "https://localhost:8080/",
          "height": 282
        },
        "id": "H8gGLggvghao",
        "outputId": "5b17b823-d24b-43a2-f639-532c664bd9b5"
      },
      "execution_count": null,
      "outputs": [
        {
          "output_type": "execute_result",
          "data": {
            "text/plain": [
              "<matplotlib.axes._subplots.AxesSubplot at 0x7f7b06cdce10>"
            ]
          },
          "metadata": {},
          "execution_count": 25
        },
        {
          "output_type": "display_data",
          "data": {
            "text/plain": [
              "<Figure size 432x288 with 1 Axes>"
            ],
            "image/png": "[encoded data removed]"
          },
          "metadata": {
            "needs_background": "light"
          }
        }
      ],
      "id": "H8gGLggvghao"
    },
    {
      "cell_type": "code",
      "source": [
        "#TODO\n",
        "\n",
        "#need to review with tutor"
      ],
      "metadata": {
        "id": "WkwgxngHpe-R"
      },
      "id": "WkwgxngHpe-R",
      "execution_count": null,
      "outputs": []
    }
  ],
  "metadata": {
    "kernelspec": {
      "display_name": "Python 3",
      "language": "python",
      "name": "python3"
    },
    "language_info": {
      "codemirror_mode": {
        "name": "ipython",
        "version": 3
      },
      "file_extension": ".py",
      "mimetype": "text/x-python",
      "name": "python",
      "nbconvert_exporter": "python",
      "pygments_lexer": "ipython3",
      "version": "3.9.1"
    },
    "colab": {
      "provenance": []
    }
  },
  "nbformat": 4,
  "nbformat_minor": 5
}