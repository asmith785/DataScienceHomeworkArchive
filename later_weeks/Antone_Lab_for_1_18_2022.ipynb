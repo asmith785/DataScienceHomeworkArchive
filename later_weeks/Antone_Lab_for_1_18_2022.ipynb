{
  "cells": [
    {
      "cell_type": "markdown",
      "id": "5b5ef78b",
      "metadata": {
        "id": "5b5ef78b"
      },
      "source": [
        "### You will be given a series of 20 problems.\n",
        "These 20 questions are real world, interview questions, and programming problems. There is no expectation of you to finish these 20 questions within the class. The expectation is that you work with your group to finish as many as you can. Focus on understanding, and working within a group for this assignment. All that is expected of you to hand in is the first 5 solved, by next Monday, the 24th. Please work through these problems in your own time, and try your best to master them"
      ]
    },
    {
      "cell_type": "markdown",
      "id": "fd1ddcb2",
      "metadata": {
        "id": "fd1ddcb2"
      },
      "source": [
        "### Exercise 1:\n",
        "\n",
        "Given a list of positive integers of size, reverse every sub-array group of size K. Do not use built-ins.\n",
        "If the list cannot be reversed at all, return -1"
      ]
    },
    {
      "cell_type": "code",
      "execution_count": null,
      "id": "48856e23",
      "metadata": {
        "id": "48856e23"
      },
      "outputs": [],
      "source": [
        "\n",
        "\n"
      ]
    },
    {
      "cell_type": "markdown",
      "id": "30a7a230",
      "metadata": {
        "id": "30a7a230"
      },
      "source": [
        "### Exercise 2:\n",
        "\n",
        "Given a list, write a function that returns true if there is a triplet (a, b, c) that satisfies a2 + b2 = c2, otherwise false.\n",
        "Do not use anything but sqrt, from that math library.\n"
      ]
    },
    {
      "cell_type": "code",
      "source": [
        "lst = [3, 4, 5]\n",
        "\n",
        "def pythag(a, b, c):\n",
        "  if a**2 + b**2 == c**2:\n",
        "    return True\n",
        "  else:\n",
        "    return False"
      ],
      "metadata": {
        "id": "qDyfS7On4lwc"
      },
      "id": "qDyfS7On4lwc",
      "execution_count": null,
      "outputs": []
    },
    {
      "cell_type": "code",
      "source": [
        "lst = [3, 4, 5]\n",
        "\n",
        "sqr_lst = []\n",
        "for num in lst:\n",
        "  sqr_lst.append(num**2)\n",
        "for i in sqr_lst:\n",
        ""
      ],
      "metadata": {
        "id": "iA7fYZ_d6LOd"
      },
      "id": "iA7fYZ_d6LOd",
      "execution_count": null,
      "outputs": []
    },
    {
      "cell_type": "code",
      "source": [
        "c = 2**(1/2)"
      ],
      "metadata": {
        "id": "ExAB62i25xD0"
      },
      "id": "ExAB62i25xD0",
      "execution_count": null,
      "outputs": []
    },
    {
      "cell_type": "code",
      "source": [
        "c"
      ],
      "metadata": {
        "colab": {
          "base_uri": "https://localhost:8080/"
        },
        "id": "BWzAj2Ad58H9",
        "outputId": "9f66b20e-793a-44b4-c067-465c21204966"
      },
      "id": "BWzAj2Ad58H9",
      "execution_count": null,
      "outputs": [
        {
          "output_type": "execute_result",
          "data": {
            "text/plain": [
              "1.4142135623730951"
            ]
          },
          "metadata": {},
          "execution_count": 4
        }
      ]
    },
    {
      "cell_type": "code",
      "source": [
        "pythag(1, 1, c)"
      ],
      "metadata": {
        "colab": {
          "base_uri": "https://localhost:8080/"
        },
        "id": "ECo94_OS5VK7",
        "outputId": "6b68b8de-c4a1-4b97-b26f-504087aa2cb5"
      },
      "id": "ECo94_OS5VK7",
      "execution_count": null,
      "outputs": [
        {
          "output_type": "execute_result",
          "data": {
            "text/plain": [
              "False"
            ]
          },
          "metadata": {},
          "execution_count": 5
        }
      ]
    },
    {
      "cell_type": "code",
      "source": [
        "#2,4,5,6,7"
      ],
      "metadata": {
        "id": "ia-ADVf5vXWG"
      },
      "id": "ia-ADVf5vXWG",
      "execution_count": null,
      "outputs": []
    },
    {
      "cell_type": "markdown",
      "id": "c3aa6a26",
      "metadata": {
        "id": "c3aa6a26"
      },
      "source": [
        "### Exercise 3:\n",
        "\n",
        "Given a string S, find the longest palindromic substring in S.\n",
        "\n",
        "\n"
      ]
    },
    {
      "cell_type": "code",
      "execution_count": null,
      "id": "dffee421",
      "metadata": {
        "id": "dffee421"
      },
      "outputs": [],
      "source": []
    },
    {
      "cell_type": "markdown",
      "id": "c9fa530f",
      "metadata": {
        "id": "c9fa530f"
      },
      "source": [
        "### Exercise 4:\n",
        "\n",
        "Please create the code to make a linked list.\n",
        "\n",
        "\n",
        "Given a singly linked list of N nodes.\n",
        "The task is to find the middle of the linked list. For example, if the linked list is\n",
        "1-> 2->3->4->5, then the middle node of the list is 3.\n",
        "If there are two middle nodes(in case, when N is even), print the second middle element.\n",
        "For example, if the linked list given is 1->2->3->4->5->6, then the middle node of the list is 4."
      ]
    },
    {
      "cell_type": "code",
      "execution_count": null,
      "id": "81715cbe",
      "metadata": {
        "id": "81715cbe"
      },
      "outputs": [],
      "source": [
        "class Node:\n",
        "  def __init__(self, data):\n",
        "    self.data = data\n",
        "    self.next = None\n",
        "\n",
        "  # def __repr__(self):\n",
        "  #   d = str(self.data)\n",
        "  #   print(d)"
      ]
    },
    {
      "cell_type": "code",
      "source": [
        "class Linked_List:\n",
        "  def __init__(self):\n",
        "    self.head = None\n",
        "\n",
        "  def trav(self):\n",
        "    c = 1\n",
        "    n = self.head\n",
        "    while n.next != None:\n",
        "      c += 1\n",
        "      n.next = n.next.next\n",
        "    return c"
      ],
      "metadata": {
        "id": "NGQ4I2PC-wmn"
      },
      "id": "NGQ4I2PC-wmn",
      "execution_count": null,
      "outputs": []
    },
    {
      "cell_type": "code",
      "source": [
        "m = Node(5)"
      ],
      "metadata": {
        "id": "WBKFZuqp_6ui"
      },
      "id": "WBKFZuqp_6ui",
      "execution_count": null,
      "outputs": []
    },
    {
      "cell_type": "code",
      "source": [
        "m.next = Node(42)"
      ],
      "metadata": {
        "id": "AnXzpxp6AM7a"
      },
      "id": "AnXzpxp6AM7a",
      "execution_count": null,
      "outputs": []
    },
    {
      "cell_type": "code",
      "source": [
        "m.next.next = Node(23)"
      ],
      "metadata": {
        "id": "hRT1KcSnAtUk"
      },
      "id": "hRT1KcSnAtUk",
      "execution_count": null,
      "outputs": []
    },
    {
      "cell_type": "code",
      "source": [
        "m.next.next.next = Node(4)"
      ],
      "metadata": {
        "id": "cVvvZyKRGrgx"
      },
      "id": "cVvvZyKRGrgx",
      "execution_count": null,
      "outputs": []
    },
    {
      "cell_type": "code",
      "source": [
        "m.next.next.next.next = Node(100)"
      ],
      "metadata": {
        "id": "u1xUhYgLG4vo"
      },
      "id": "u1xUhYgLG4vo",
      "execution_count": null,
      "outputs": []
    },
    {
      "cell_type": "code",
      "source": [
        "jeff = Linked_List()"
      ],
      "metadata": {
        "id": "RWwvHIzRASTs"
      },
      "id": "RWwvHIzRASTs",
      "execution_count": null,
      "outputs": []
    },
    {
      "cell_type": "code",
      "source": [
        "jeff.head = m"
      ],
      "metadata": {
        "id": "CN9GWDlgAgMg"
      },
      "id": "CN9GWDlgAgMg",
      "execution_count": null,
      "outputs": []
    },
    {
      "cell_type": "code",
      "source": [
        "m.next.next.data"
      ],
      "metadata": {
        "colab": {
          "base_uri": "https://localhost:8080/"
        },
        "id": "d14ZHZZIBlgW",
        "outputId": "b1d6fa85-86e0-4568-bd7d-1b05e42818e5"
      },
      "id": "d14ZHZZIBlgW",
      "execution_count": null,
      "outputs": [
        {
          "output_type": "execute_result",
          "data": {
            "text/plain": [
              "23"
            ]
          },
          "metadata": {},
          "execution_count": 16
        }
      ]
    },
    {
      "cell_type": "code",
      "source": [
        "jeff.trav()"
      ],
      "metadata": {
        "colab": {
          "base_uri": "https://localhost:8080/"
        },
        "id": "uEx_m1SJCz5z",
        "outputId": "6d53c0e6-9ede-4c64-807d-03f2980a51b4"
      },
      "id": "uEx_m1SJCz5z",
      "execution_count": null,
      "outputs": [
        {
          "output_type": "execute_result",
          "data": {
            "text/plain": [
              "5"
            ]
          },
          "metadata": {},
          "execution_count": 17
        }
      ]
    },
    {
      "cell_type": "markdown",
      "id": "85cca66d",
      "metadata": {
        "id": "85cca66d"
      },
      "source": [
        "### Exercise 5:\n",
        "\n",
        "Given a Binary Tree, print Left view of it. Left view of a Binary Tree is set of nodes visible when tree is visited from Left side. The task is to complete the function leftView(), which accepts root of the tree as argument.\n",
        "\n",
        "Left view of following tree is 1 2 4 8."
      ]
    },
    {
      "cell_type": "code",
      "execution_count": null,
      "id": "671e5960",
      "metadata": {
        "id": "671e5960"
      },
      "outputs": [],
      "source": [
        "class Node_B:\n",
        "    def __init__(self, value,):\n",
        "        self.value = value\n",
        "        #self.parent = parent # Added in oder to delete a node easier\n",
        "        self.left = None\n",
        "        self.right = None\n",
        "    #left = None & right = None is because\n",
        "    #when we initize a node class it will have no children by default\n",
        "\n",
        "    def __repr__(self):\n",
        "        from pprint import pformat\n",
        "#override the string representation\n",
        "#repr = Return a string containing a printable representation of an object.\n",
        "\n",
        "        if self.left is None and self.right is None:\n",
        "            return str(self.value)\n",
        "        return pformat({\"%s\" %(self.value):(self.left, self.right)}, indent=2)"
      ]
    },
    {
      "cell_type": "code",
      "source": [
        "x = Node_B(1,1)"
      ],
      "metadata": {
        "id": "X-O2H-8m772o"
      },
      "id": "X-O2H-8m772o",
      "execution_count": null,
      "outputs": []
    },
    {
      "cell_type": "code",
      "source": [
        "x1 = Node_B(2,2)"
      ],
      "metadata": {
        "id": "4il31six9r2t"
      },
      "id": "4il31six9r2t",
      "execution_count": null,
      "outputs": []
    },
    {
      "cell_type": "code",
      "source": [
        "y = Node_B(4,3)"
      ],
      "metadata": {
        "id": "3Tm9q37p9x04"
      },
      "id": "3Tm9q37p9x04",
      "execution_count": null,
      "outputs": []
    },
    {
      "cell_type": "code",
      "source": [
        "y1 = Node_B(8,4)"
      ],
      "metadata": {
        "id": "j5HIdw6396iT"
      },
      "id": "j5HIdw6396iT",
      "execution_count": null,
      "outputs": []
    },
    {
      "cell_type": "code",
      "source": [
        "print(x, x1, y, y1)\n",
        "#node values printing out"
      ],
      "metadata": {
        "colab": {
          "base_uri": "https://localhost:8080/"
        },
        "id": "oA3tzf9y8JpK",
        "outputId": "e97a0171-53d9-429f-f74b-2791bb0fce44"
      },
      "id": "oA3tzf9y8JpK",
      "execution_count": null,
      "outputs": [
        {
          "output_type": "stream",
          "name": "stdout",
          "text": [
            "1 2 4 8\n"
          ]
        }
      ]
    },
    {
      "cell_type": "code",
      "source": [
        "print(x.left)\n",
        "print(x.right)"
      ],
      "metadata": {
        "colab": {
          "base_uri": "https://localhost:8080/"
        },
        "id": "znGlkDbO-Q6R",
        "outputId": "4f5ecabc-c3e7-47ba-9e33-ccb8085c744a"
      },
      "id": "znGlkDbO-Q6R",
      "execution_count": null,
      "outputs": [
        {
          "output_type": "stream",
          "name": "stdout",
          "text": [
            "None\n",
            "None\n"
          ]
        }
      ]
    },
    {
      "cell_type": "code",
      "source": [
        " # Recursive function print left view of a binary tree\n",
        "def leftViewUtil(root, level, highest_level):\n",
        "\n",
        "    # Base Case\n",
        "    if root is None:\n",
        "        return\n",
        "\n",
        "    # If this is the first node of its level\n",
        "    if (highest_level[0] < level):\n",
        "        print ({\"%s\" %(root.value)})\n",
        "        highest_level[0] = level\n",
        "\n",
        "    # Recur for left and right subtree\n",
        "    leftViewUtil(root.left, level + 1, highest_level)\n",
        "    leftViewUtil(root.right, level + 1, highest_level)\n",
        "\n",
        "\n",
        "# A wrapper over leftViewUtil()\n",
        "def leftView(root):\n",
        "    highest_level = [0]\n",
        "    leftViewUtil(root, 1, highest_level)\n",
        "\n",
        "\n"
      ],
      "metadata": {
        "id": "SXywHRK6F0in"
      },
      "id": "SXywHRK6F0in",
      "execution_count": null,
      "outputs": []
    },
    {
      "cell_type": "code",
      "source": [
        "# Driver or root program to test above function\n",
        "\n",
        "\n",
        "root = Node_B(1)\n",
        "root.left = Node_B(2)\n",
        "root.left.left = Node_B(4)\n",
        "root.left.left.left = Node_B(8)\n",
        "root.right = Node_B(111)\n",
        "root.right.right = Node_B(7)\n",
        "\n",
        "\n",
        "\n",
        "leftView(root)"
      ],
      "metadata": {
        "colab": {
          "base_uri": "https://localhost:8080/"
        },
        "id": "GYH0PqUGIbAe",
        "outputId": "02e07008-907f-4b04-a4ac-066210ec8a47"
      },
      "id": "GYH0PqUGIbAe",
      "execution_count": null,
      "outputs": [
        {
          "output_type": "stream",
          "name": "stdout",
          "text": [
            "{'1'}\n",
            "{'2'}\n",
            "{'4'}\n",
            "{'8'}\n"
          ]
        }
      ]
    },
    {
      "cell_type": "markdown",
      "id": "871dbd55",
      "metadata": {
        "id": "871dbd55"
      },
      "source": [
        "### Exercise 6:\n",
        "\n",
        "Given two binary trees, the task is to find if both of them are identical or not."
      ]
    },
    {
      "cell_type": "code",
      "execution_count": null,
      "id": "44fea93d",
      "metadata": {
        "id": "44fea93d"
      },
      "outputs": [],
      "source": []
    },
    {
      "cell_type": "markdown",
      "id": "6373ab77",
      "metadata": {
        "id": "6373ab77"
      },
      "source": [
        "### Exercise 7:\n",
        "\n",
        "Given a binary tree, find its height."
      ]
    },
    {
      "cell_type": "code",
      "source": [
        "#notes\n",
        "\n",
        "''' maxDepth()\n",
        "1. If tree is empty then return -1\n",
        "2. Else\n",
        "     (a) Get the max depth of left subtree recursively  i.e.,\n",
        "          call maxDepth( tree->left-subtree)\n",
        "     (a) Get the max depth of right subtree recursively  i.e.,\n",
        "          call maxDepth( tree->right-subtree)\n",
        "     (c) Get the max of max depths of left and right\n",
        "          subtrees and add 1 to it for the current node.\n",
        "         max_depth = max(max dept of left subtree,\n",
        "                             max depth of right subtree)\n",
        "                             + 1\n",
        "     (d) Return max_depth '''"
      ],
      "metadata": {
        "id": "Gu8KzJryLdKK"
      },
      "id": "Gu8KzJryLdKK",
      "execution_count": null,
      "outputs": []
    },
    {
      "cell_type": "code",
      "execution_count": null,
      "id": "bde95fc7",
      "metadata": {
        "id": "bde95fc7"
      },
      "outputs": [],
      "source": [
        "#recursive function maxDepth() for above example tree.\n",
        "\n",
        "\n",
        "\n",
        "''' maxDepth('1') = max(maxDepth('2'), maxDepth('3')) + 1\n",
        "                               = 1 + 1\n",
        "                                  /    \\\n",
        "                                /         \\\n",
        "                              /             \\\n",
        "                            /                 \\\n",
        "                          /                     \\\n",
        "               maxDepth('2') = 1                maxDepth('3') = 0\n",
        "= max(maxDepth('4'), maxDepth('5')) + 1\n",
        "= 1 + 0   = 1\n",
        "                   /    \\\n",
        "                 /        \\\n",
        "               /            \\\n",
        "             /                \\\n",
        "           /                    \\\n",
        " maxDepth('4') = 0     maxDepth('5') = 0"
      ]
    },
    {
      "cell_type": "markdown",
      "id": "0c6dc161",
      "metadata": {
        "id": "0c6dc161"
      },
      "source": [
        "### Exercise 8:\n",
        "\n",
        "What is heapsort? Implement the algorithm in python.\n"
      ]
    },
    {
      "cell_type": "code",
      "execution_count": null,
      "id": "2df1a6f6",
      "metadata": {
        "id": "2df1a6f6"
      },
      "outputs": [],
      "source": []
    },
    {
      "cell_type": "markdown",
      "id": "045504e9",
      "metadata": {
        "id": "045504e9"
      },
      "source": [
        "### Exercise 9:\n",
        "\n",
        "Given K sorted linked lists of different sizes. The task is to merge them in such a way that after merging they will be a single sorted linked list."
      ]
    },
    {
      "cell_type": "code",
      "execution_count": null,
      "id": "dd037ef2",
      "metadata": {
        "id": "dd037ef2"
      },
      "outputs": [],
      "source": []
    },
    {
      "cell_type": "markdown",
      "id": "fd980b30",
      "metadata": {
        "id": "fd980b30"
      },
      "source": [
        "### Exercise 10:\n",
        "Given an array of integers and another number. Find all the unique quadruple from the given array that sums up to the given number."
      ]
    },
    {
      "cell_type": "code",
      "execution_count": null,
      "id": "a32cbddf",
      "metadata": {
        "id": "a32cbddf"
      },
      "outputs": [],
      "source": []
    },
    {
      "cell_type": "markdown",
      "id": "c9e300ba",
      "metadata": {
        "id": "c9e300ba"
      },
      "source": [
        "### Exercise 11:\n",
        "\n",
        "Given a string str and another string patt. Find the first position (considering 0-based indexing) of the character in patt that is present at the minimum index in str."
      ]
    },
    {
      "cell_type": "code",
      "execution_count": null,
      "id": "5cbbff31",
      "metadata": {
        "id": "5cbbff31",
        "colab": {
          "base_uri": "https://localhost:8080/"
        },
        "outputId": "711e5570-d25f-469f-c31e-4ed8c519cdc4"
      },
      "outputs": [
        {
          "output_type": "stream",
          "name": "stdout",
          "text": [
            "o : 0\n"
          ]
        }
      ],
      "source": [
        "first_string = 'apples'\n",
        "\n",
        "second_string = 'oranges'\n",
        "counter = 0 # Counter for chars in second string\n",
        "\n",
        "for char in second_string: # For loop going through each charater in second string\n",
        "    if char == second_string[0].lower():\n",
        "        print(f'{char} : {counter}')\n",
        "        break\n",
        "    counter"
      ]
    },
    {
      "cell_type": "markdown",
      "id": "d69306fc",
      "metadata": {
        "id": "d69306fc"
      },
      "source": [
        "### Exercise 12:\n",
        "\n",
        "There is one meeting room in a firm. There are N meetings in the form of (start[i], end[i]) where start[i] is start time of meeting i and end[i] is finish time of meeting i.\n",
        "What is the maximum number of meetings that can be accommodated in the meeting room when only one meeting can be held in the meeting room at a particular time?"
      ]
    },
    {
      "cell_type": "code",
      "execution_count": null,
      "id": "a85988e6",
      "metadata": {
        "id": "a85988e6"
      },
      "outputs": [],
      "source": []
    },
    {
      "cell_type": "markdown",
      "id": "1bb6292c",
      "metadata": {
        "id": "1bb6292c"
      },
      "source": [
        "### Exercise 13:\n",
        "\n",
        " You have 5 jars of pills. Each pill weighs 10 grams, except for contaminated pills contained in one jar, where each pill weighs 9 grams. Given a scale, how could you tell which jar had the contaminated pills in just one measurement?\n"
      ]
    },
    {
      "cell_type": "code",
      "execution_count": null,
      "id": "57037caf",
      "metadata": {
        "id": "57037caf"
      },
      "outputs": [],
      "source": []
    },
    {
      "cell_type": "markdown",
      "id": "5fe2bd88",
      "metadata": {
        "id": "5fe2bd88"
      },
      "source": [
        "### Exercise 14:\n",
        "\n",
        "How to remove duplicate nodes in an unsorted linked list"
      ]
    },
    {
      "cell_type": "code",
      "execution_count": null,
      "id": "e57dd2a4",
      "metadata": {
        "id": "e57dd2a4"
      },
      "outputs": [],
      "source": []
    },
    {
      "cell_type": "markdown",
      "id": "23af9999",
      "metadata": {
        "id": "23af9999"
      },
      "source": [
        "### Exercise 15:\n",
        "GIVEN AN ARRAY OF INTEGERS, EVERY ELEMENT APPEARS TWICE EXCEPT FOR ONE. FIND THAT ONE.\n"
      ]
    },
    {
      "cell_type": "code",
      "execution_count": null,
      "id": "69ceeeeb",
      "metadata": {
        "id": "69ceeeeb"
      },
      "outputs": [],
      "source": []
    },
    {
      "cell_type": "markdown",
      "id": "c7f8610a",
      "metadata": {
        "id": "c7f8610a"
      },
      "source": [
        "### Exercise 16:\n",
        "GIVEN A BINARY TREE, PRINT THE BOTTOM VIEW FROM LEFT TO RIGHT."
      ]
    },
    {
      "cell_type": "code",
      "execution_count": null,
      "id": "50df318e",
      "metadata": {
        "id": "50df318e"
      },
      "outputs": [],
      "source": []
    },
    {
      "cell_type": "markdown",
      "id": "ef889415",
      "metadata": {
        "id": "ef889415"
      },
      "source": [
        "### Exercise 17:\n",
        "\n",
        "DESIGN A PARKING LOT USING OBJECT-ORIENTED PRINCIPLES"
      ]
    },
    {
      "cell_type": "code",
      "execution_count": null,
      "id": "5d43c202",
      "metadata": {
        "id": "5d43c202"
      },
      "outputs": [],
      "source": []
    },
    {
      "cell_type": "markdown",
      "id": "cbee4376",
      "metadata": {
        "id": "cbee4376"
      },
      "source": [
        "### Exercise 18:\n",
        "\n",
        "A Russian gangster kidnaps you. He puts two bullets in consecutive order in an empty six-round revolver, spins it, points it at your head and shoots. *click* You’re still alive. He then asks you, “do you want me to spin it again and fire or pull the trigger again right away?” For each option, what is the probability that you’ll be shot?"
      ]
    },
    {
      "cell_type": "code",
      "execution_count": null,
      "id": "231794a1",
      "metadata": {
        "id": "231794a1"
      },
      "outputs": [],
      "source": [
        "# for spin the revolver option you have a 1 out of 6 chance of gettting shot because there are 6 chambers and one bullet left.\n",
        "# for pull the trigger option you have a 2 out of 6 chance of gettting shot because you orignally started off with 2 bullets in the chamber\n",
        "\n",
        "\n",
        "#As for my choice I would spin the chamber again because you have a 16% chance of getting shot.\n",
        "#Both opitions arent the best but the probablity is lower so that's my choice if my life was on the line lol"
      ]
    },
    {
      "cell_type": "markdown",
      "source": [],
      "metadata": {
        "id": "Z_nMkFEqhB_V"
      },
      "id": "Z_nMkFEqhB_V"
    },
    {
      "cell_type": "markdown",
      "id": "3250d57c",
      "metadata": {
        "id": "3250d57c"
      },
      "source": [
        "### Exercise 19:\n",
        "\n",
        "According to the story, four prisoners are arrested for a crime, but the jail is full and the jailer has nowhere to put them. He eventually comes up with the solution of giving them a puzzle so if they succeed they can go free but if they fail they are executed.\n",
        "\n",
        "The jailer seats three of the men into a line. B faces the wall, C faces B, and D faces C and B. The fourth man, A, is put behind a screen (or in a separate room). The jailer gives all four men party hats. He explains that there are two black hats and two white hats, that each prisoner is wearing one of the hats, and that each of the prisoners see only the hats in front of him but neither on himself nor behind him. The fourth man behind the screen can't see or be seen by any other prisoner. No communication among the prisoners is allowed.\n",
        "\n",
        "If any prisoner can figure out what color hat he has on his own head with 100% certainty (without guessing) he must then announce it, and all four prisoners go free. If any prisoner suggests an incorrect answer, all four prisoners are executed. The puzzle is to find how the prisoners can escape."
      ]
    },
    {
      "cell_type": "code",
      "execution_count": null,
      "id": "2810026e",
      "metadata": {
        "id": "2810026e"
      },
      "outputs": [],
      "source": []
    },
    {
      "cell_type": "markdown",
      "id": "8a239793",
      "metadata": {
        "id": "8a239793"
      },
      "source": [
        "### Exercise 20:\n",
        "\n",
        "You are standing before two doors. One of the path leads to heaven and the other one leads to hell. There are two guardians, one by each door. You know one of them always tells the truth and the other always lies, but you don’t know who is the honest one and who is the liar. You can only ask one question to one of them in order to find the way to heaven. What is the question?"
      ]
    },
    {
      "cell_type": "code",
      "execution_count": null,
      "id": "6012e21d",
      "metadata": {
        "id": "6012e21d"
      },
      "outputs": [],
      "source": []
    },
    {
      "cell_type": "markdown",
      "source": [
        "\n",
        "For this question I actually have 2 solutions\n",
        "\n",
        "For the first solution if we know which door the each guardians is standing in front of you can ask a simple question for emplain \" what color is my shirt or are you standing infront of a door\" depending on the guardian answer you know which door you can choose from.\n",
        "\n",
        "Second solution is if your not sure which guardian is behind  the door leading to heaven or hell you can ask which door goes to hell. If the guardian that lies answers the guardian that tells the truth we have the urge to tell the truth and correct him.\n",
        "\n"
      ],
      "metadata": {
        "id": "dpfm_sVpRzHa"
      },
      "id": "dpfm_sVpRzHa"
    }
  ],
  "metadata": {
    "kernelspec": {
      "display_name": "Python 3",
      "language": "python",
      "name": "python3"
    },
    "language_info": {
      "codemirror_mode": {
        "name": "ipython",
        "version": 3
      },
      "file_extension": ".py",
      "mimetype": "text/x-python",
      "name": "python",
      "nbconvert_exporter": "python",
      "pygments_lexer": "ipython3",
      "version": "3.9.1"
    },
    "colab": {
      "provenance": [],
      "collapsed_sections": [
        "0c6dc161",
        "045504e9",
        "fd980b30",
        "d69306fc",
        "1bb6292c",
        "5fe2bd88",
        "23af9999",
        "c7f8610a",
        "ef889415",
        "cbee4376",
        "3250d57c"
      ]
    }
  },
  "nbformat": 4,
  "nbformat_minor": 5
}