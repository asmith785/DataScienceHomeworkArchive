{
  "nbformat": 4,
  "nbformat_minor": 0,
  "metadata": {
    "kernelspec": {
      "display_name": "Python 3",
      "language": "python",
      "name": "python3"
    },
    "language_info": {
      "codemirror_mode": {
        "name": "ipython",
        "version": 3
      },
      "file_extension": ".py",
      "mimetype": "text/x-python",
      "name": "python",
      "nbconvert_exporter": "python",
      "pygments_lexer": "ipython3",
      "version": "3.9.5"
    },
    "colab": {
      "provenance": []
    }
  },
  "cells": [
    {
      "cell_type": "markdown",
      "metadata": {
        "id": "PCy747kvUVwM"
      },
      "source": [
        "<div style=\"background: #000;\n",
        "            color: #FFF;\n",
        "            margin: 0px;\n",
        "            padding: 20px 0px 0px 0px;\">\n",
        "    <h1><center>Phase 1 Assessment</center></h1>\n",
        "</div>\n",
        "\n",
        "### Instructions:\n",
        "1. Rename this notebook to include your name in the following format: firstname_lastname_phase1assessment.ipynb (files submitted without names will be docked 20 points).\n",
        "2. Do NOT commit your solutions to github. Submit this file to google classroom __(automatic failure if you push this to github)__.\n",
        "3. Do NOT plagerize. Submit your own work (partial credit will be generous) __(automatic failure if caught)__.\n",
        "4. Please private message any questions to either members of staff so that any vagueness/uncertainty can be addressed.\n"
      ]
    },
    {
      "cell_type": "markdown",
      "metadata": {
        "id": "kAU6YmjlUVwU"
      },
      "source": [
        "### Exercise 1\n",
        "\n",
        "Create a function that takes two arguments (both arguments being lists) and uses them to create a dictionary. The first argument should be used for the keys and the second argument should be used as the values. Each element should match up (meaning the first element of the first argument/list should be the key while the first element of the second argument/list should be the value). If either list is missing an element that the other has, skip it.\n",
        "\n",
        "Examples\n",
        "```\n",
        "ex1([],[]) -> {}\n",
        "ex1([0,1,2],[]) -> {}\n",
        "ex1(['a', 'b', 'c'], [1,2,3]) -> {'a':1, 'b':2, 'c':3}\n",
        "\n",
        "\n",
        "```"
      ]
    },
    {
      "cell_type": "code",
      "metadata": {
        "id": "0GvKKv-GUVwV",
        "colab": {
          "base_uri": "https://localhost:8080/"
        },
        "outputId": "ffe2d1b0-04e0-4d1b-bf82-f61a39413c00"
      },
      "source": [
        "def exercise_1(lst1, lst2):\n",
        "    it = iter(lst1)\n",
        "    it2 = iter(lst2)\n",
        "    x = dict(zip(it,it2))\n",
        "    return x\n",
        "lst_1 = []\n",
        "lst_2 = []\n",
        "\n",
        "try:\n",
        "    assert(exercise_1([],[]) == {})\n",
        "    assert(exercise_1([0,1,2],[]) == {})\n",
        "    assert(exercise_1([0,1],[0]) == {0: 0})\n",
        "    assert(exercise_1(['a', 'b', 'c'],[1,2,3]) == {'a': 1, 'b': 2, 'c': 3})\n",
        "    print(\"solution is correct\")\n",
        "except AssertionError:\n",
        "    print(\"solution is incorrect\")"
      ],
      "execution_count": null,
      "outputs": [
        {
          "output_type": "stream",
          "name": "stdout",
          "text": [
            "solution is correct\n"
          ]
        }
      ]
    },
    {
      "cell_type": "code",
      "metadata": {
        "id": "sA5sCiZ1UVwZ",
        "outputId": "b69afc28-da72-442c-d52b-b08a1a821ed9"
      },
      "source": [
        "def exercise_1(lst1, lst2):\n",
        "    it = iter(lst1)\n",
        "    it2 = iter(lst2)\n",
        "    res_dct = dict(zip(it,it2))\n",
        "    return res_dct\n",
        "lst_1 = [\"a\", \"b\", \"c\"]\n",
        "lst_2 = [1,2,3]\n",
        "print(exercise_1(lst_1,lst_2))\n",
        "\n",
        "# try:\n",
        "#     assert(exercise_1([],[]) == {})\n",
        "#     assert(exercise_1([0,1,2],[]) == {})\n",
        "#     assert(exercise_1([0,1],[0]) == {0: 0})\n",
        "#     assert(exercise_1(['a', 'b', 'c'],[1,2,3]) == {'a': 1, 'b': 2, 'c': 3})\n",
        "#     print(\"solution is correct\")\n",
        "# except AssertionError:\n",
        "#     print(\"solution is incorrect\")"
      ],
      "execution_count": null,
      "outputs": [
        {
          "name": "stdout",
          "output_type": "stream",
          "text": [
            "{'a': 1, 'b': 2, 'c': 3}\n"
          ]
        }
      ]
    },
    {
      "cell_type": "markdown",
      "metadata": {
        "id": "-mTjpu28UVwa"
      },
      "source": [
        "### Exercise 2\n",
        "\n",
        "Create a function that outputs a list of all the even numbers from 1 to 500 that are also divisible by 3, 5 AND 7."
      ]
    },
    {
      "cell_type": "code",
      "metadata": {
        "id": "UxfjKqxgUVwb",
        "colab": {
          "base_uri": "https://localhost:8080/"
        },
        "outputId": "b6a94b68-0f0e-4b26-d90c-610e11a7db20"
      },
      "source": [
        "from hashlib import sha256\n",
        "\n",
        "def exercise_2():\n",
        "    div = []\n",
        "    for x in range(1, 501):\n",
        "        if (x%7==0) and (x%5==0) and (x%3==0) and (x%2==0):\n",
        "            div.append(x)\n",
        "    return div\n",
        "\n",
        "\n",
        "\n",
        "\n",
        "try:\n",
        "    assert(sha256(str(exercise_2()).encode('utf-8')).hexdigest() == \"b7e8451a417e44cd5335477fdb1d333005a24471781ff5e74f937996f933e50f\" )\n",
        "    print(\"solution is correct\")\n",
        "except AssertionError:\n",
        "    print(\"solution is incorrect\")"
      ],
      "execution_count": null,
      "outputs": [
        {
          "output_type": "stream",
          "name": "stdout",
          "text": [
            "solution is correct\n"
          ]
        }
      ]
    },
    {
      "cell_type": "code",
      "metadata": {
        "id": "qigeIjg9UVwc",
        "colab": {
          "base_uri": "https://localhost:8080/"
        },
        "outputId": "5b798517-263d-44f9-e47b-74dc95799864"
      },
      "source": [
        "num=[]\n",
        "for x in range(1, 500): # <--- REMEMBER TO CHANGE TO 501\n",
        "    if (x%7==0) and (x%5==0) and (x%3==0) :\n",
        "        num.append(str(x)). #<---dont need this part (turns number into a string value)\n",
        "print (','.join(num))\n",
        "\n",
        "\n",
        "#TODO need to figure out what the code in the assert line means"
      ],
      "execution_count": null,
      "outputs": [
        {
          "output_type": "stream",
          "name": "stdout",
          "text": [
            "105,210,315,420\n"
          ]
        }
      ]
    },
    {
      "cell_type": "markdown",
      "metadata": {
        "id": "NSDl4eMAUVwc"
      },
      "source": [
        "### Exercise 3\n",
        "\n",
        "Given the following two sets, assign to variable `exercise_4` a set that contains the elements of `m` and  the elements of `n`."
      ]
    },
    {
      "cell_type": "code",
      "metadata": {
        "id": "meBKIEC-UVwe",
        "colab": {
          "base_uri": "https://localhost:8080/"
        },
        "outputId": "1752f357-93f4-4b9b-c305-4ea3d21bf211"
      },
      "source": [
        "m = {1,2,3,4,5}\n",
        "n = {4,5,6,7,8}\n",
        "\n",
        "exercise_4 = m.union(n)\n",
        "\n",
        "try:\n",
        "    assert(exercise_4 == {1, 2, 3, 4, 5, 6, 7, 8})\n",
        "    print(\"solution is correct\")\n",
        "except AssertionError:\n",
        "    print(\"solution is incorrect\")"
      ],
      "execution_count": null,
      "outputs": [
        {
          "output_type": "stream",
          "name": "stdout",
          "text": [
            "solution is correct\n"
          ]
        }
      ]
    },
    {
      "cell_type": "code",
      "metadata": {
        "id": "SJxzw9-1UVwf",
        "outputId": "117f1453-882e-42fb-c179-6f95461fccb6"
      },
      "source": [
        "set1 = {1,2,3}\n",
        "set2 = {4,5,6}\n",
        "\n",
        "set3 = set1.union(set2)\n",
        "print(set3)"
      ],
      "execution_count": null,
      "outputs": [
        {
          "name": "stdout",
          "output_type": "stream",
          "text": [
            "{1, 2, 3, 4, 5, 6}\n"
          ]
        }
      ]
    },
    {
      "cell_type": "markdown",
      "metadata": {
        "id": "3wZyLj_xUVwg"
      },
      "source": [
        "### Exercise 4\n",
        "\n",
        "Create a class called `Circle` that inherits from the class `Shape`. `Circle` should be initialized with the same arguments as `Shape` but also take a new argument called `radius`. Override the area method so that it calculates the area of a circle using that `radius`.\n",
        "\n",
        "The area of a circle is calculated using the following formula:\n",
        "\n",
        "$$ A = \\pi r^2$$"
      ]
    },
    {
      "cell_type": "code",
      "metadata": {
        "id": "DcfIJydRUVwg",
        "colab": {
          "base_uri": "https://localhost:8080/"
        },
        "outputId": "d3a519e5-b261-48a1-ec9b-232e5f700cba"
      },
      "source": [
        "class Shape:\n",
        "    def __init__(self, color):\n",
        "        self.color = color\n",
        "\n",
        "    def area(self, r):\n",
        "      self.r = r\n",
        "      PI = 3.14\n",
        "      orignal_area = (PI * self.r*self.r)\n",
        "      return orignal_area\n",
        "\n",
        "class Circle(Shape,):\n",
        "    def __init__(self,color,r):\n",
        "      super().__init__(color)\n",
        "      self.r = r\n",
        "\n",
        "    def area(self):\n",
        "      return 3.14 * self.r**2\n",
        "\n",
        "try:\n",
        "    c = Circle(\"red\", 10)\n",
        "    assert(c.area() == round(314))\n",
        "    print(\"solution is correct\")\n",
        "except AssertionError:\n",
        "    print(\"solution is incorrect\")"
      ],
      "execution_count": null,
      "outputs": [
        {
          "output_type": "stream",
          "name": "stdout",
          "text": [
            "solution is correct\n"
          ]
        }
      ]
    },
    {
      "cell_type": "code",
      "metadata": {
        "id": "fH2r29GlUVwh"
      },
      "source": [
        "class Shape:\n",
        "    def __init__(self, color):\n",
        "        self.color = color\n",
        "\n",
        "    def area(self,r):\n",
        "        self.r = float(input())\n",
        "        PI = 3.14\n",
        "        return PI * self.r* self.r\n",
        "\n",
        "class Circle(Shape):\n",
        "    pass"
      ],
      "execution_count": null,
      "outputs": []
    },
    {
      "cell_type": "code",
      "metadata": {
        "id": "ZySSMMBHUVwh"
      },
      "source": [
        "def area(self,r):\n",
        "        self.r = int()\n",
        "        PI = 3.14\n",
        "        return PI * r*r"
      ],
      "execution_count": null,
      "outputs": []
    },
    {
      "cell_type": "markdown",
      "metadata": {
        "id": "x9d69O5OUVwk"
      },
      "source": [
        "### Exercise 5\n",
        "\n",
        "Create a class called `Vector` that takes two integer arguments (`x` and `y`) and sets them as instance attributes. Then create a function that overloads the addition and equality operators so you can add the Vectors together and then check if two `Vector` instances are equal.\n",
        "\n",
        "Vectors are equal if they corresponding `x` and `y` values are equal:\n",
        "```\n",
        ">>> u = Vector(4,5)\n",
        ">>> v = Vector(4,5)\n",
        ">>> z = Vector(4,6)\n",
        ">>> u == v\n",
        "True\n",
        ">>> u.x == v.x\n",
        "True\n",
        ">>> u == z\n",
        "False\n",
        ">>> u.y == z.y\n",
        "False\n",
        "\n",
        "```\n",
        "\n",
        "Vector addition should work as follows:\n",
        "```\n",
        ">>> u = Vector(4,5)\n",
        ">>> v = Vector(5,7)\n",
        ">>> u + v\n",
        "Vector(9, 12)\n",
        "\n",
        ">>> u = Vector(4, -5)\n",
        ">>> v = Vector(4, 5)\n",
        ">>> u + v\n",
        "Vector(8, 0)\n",
        "```\n",
        "\n",
        "\n"
      ]
    },
    {
      "cell_type": "code",
      "metadata": {
        "id": "qcUPwcbyUVwl",
        "colab": {
          "base_uri": "https://localhost:8080/",
          "height": 390
        },
        "outputId": "38f3b068-2e66-4ddb-f94f-802e9ca46b1a"
      },
      "source": [
        "class Vector:\n",
        "    def __init__(self, x, y):\n",
        "      self.x = x\n",
        "      self.y = y\n",
        "\n",
        "    def __add__ (self,other):\n",
        "      if self.x + other.x and self.y + other.y:\n",
        "        return\n",
        "\n",
        "    def __eq__(self,other):\n",
        "      if self.x == other.x and self.y == other.y:\n",
        "        return True\n",
        "\n",
        "#NEED TO FIND OUT WHY LINE 24 HAS A ERROR\n",
        "\n",
        "try:\n",
        "    u = Vector(4,5)\n",
        "    v = Vector(4,5)\n",
        "    assert(u.x == 4 and u.y == 5)\n",
        "    print(\"solution creating Vector class correct\")\n",
        "    assert(u == v)\n",
        "    print(\"solution to equality operator overloading correct\")\n",
        "    z = Vector(4,-5)\n",
        "    assert(v + z == Vector(8,0))\n",
        "    print(\"solution to addition operator overloading correct\")\n",
        "except AssertionError:\n",
        "    print(\"solution incorrect\")"
      ],
      "execution_count": null,
      "outputs": [
        {
          "output_type": "stream",
          "name": "stdout",
          "text": [
            "solution creating Vector class correct\n",
            "solution to equality operator overloading correct\n"
          ]
        },
        {
          "output_type": "error",
          "ename": "AttributeError",
          "evalue": "ignored",
          "traceback": [
            "\u001b[0;31m---------------------------------------------------------------------------\u001b[0m",
            "\u001b[0;31mAttributeError\u001b[0m                            Traceback (most recent call last)",
            "\u001b[0;32m<ipython-input-6-a06f941a7ac5>\u001b[0m in \u001b[0;36m<module>\u001b[0;34m()\u001b[0m\n\u001b[1;32m     22\u001b[0m     \u001b[0mprint\u001b[0m\u001b[0;34m(\u001b[0m\u001b[0;34m\"solution to equality operator overloading correct\"\u001b[0m\u001b[0;34m)\u001b[0m\u001b[0;34m\u001b[0m\u001b[0;34m\u001b[0m\u001b[0m\n\u001b[1;32m     23\u001b[0m     \u001b[0mz\u001b[0m \u001b[0;34m=\u001b[0m \u001b[0mVector\u001b[0m\u001b[0;34m(\u001b[0m\u001b[0;36m4\u001b[0m\u001b[0;34m,\u001b[0m\u001b[0;34m-\u001b[0m\u001b[0;36m5\u001b[0m\u001b[0;34m)\u001b[0m\u001b[0;34m\u001b[0m\u001b[0;34m\u001b[0m\u001b[0m\n\u001b[0;32m---> 24\u001b[0;31m     \u001b[0;32massert\u001b[0m\u001b[0;34m(\u001b[0m\u001b[0mv\u001b[0m \u001b[0;34m+\u001b[0m \u001b[0mz\u001b[0m \u001b[0;34m==\u001b[0m \u001b[0mVector\u001b[0m\u001b[0;34m(\u001b[0m\u001b[0;36m8\u001b[0m\u001b[0;34m,\u001b[0m\u001b[0;36m0\u001b[0m\u001b[0;34m)\u001b[0m\u001b[0;34m)\u001b[0m\u001b[0;34m\u001b[0m\u001b[0;34m\u001b[0m\u001b[0m\n\u001b[0m\u001b[1;32m     25\u001b[0m     \u001b[0mprint\u001b[0m\u001b[0;34m(\u001b[0m\u001b[0;34m\"solution to addition operator overloading correct\"\u001b[0m\u001b[0;34m)\u001b[0m\u001b[0;34m\u001b[0m\u001b[0;34m\u001b[0m\u001b[0m\n\u001b[1;32m     26\u001b[0m \u001b[0;32mexcept\u001b[0m \u001b[0mAssertionError\u001b[0m\u001b[0;34m:\u001b[0m\u001b[0;34m\u001b[0m\u001b[0;34m\u001b[0m\u001b[0m\n",
            "\u001b[0;32m<ipython-input-6-a06f941a7ac5>\u001b[0m in \u001b[0;36m__eq__\u001b[0;34m(self, other)\u001b[0m\n\u001b[1;32m      9\u001b[0m \u001b[0;34m\u001b[0m\u001b[0m\n\u001b[1;32m     10\u001b[0m     \u001b[0;32mdef\u001b[0m \u001b[0m__eq__\u001b[0m\u001b[0;34m(\u001b[0m\u001b[0mself\u001b[0m\u001b[0;34m,\u001b[0m\u001b[0mother\u001b[0m\u001b[0;34m)\u001b[0m\u001b[0;34m:\u001b[0m\u001b[0;34m\u001b[0m\u001b[0;34m\u001b[0m\u001b[0m\n\u001b[0;32m---> 11\u001b[0;31m       \u001b[0;32mif\u001b[0m \u001b[0mself\u001b[0m\u001b[0;34m.\u001b[0m\u001b[0mx\u001b[0m \u001b[0;34m==\u001b[0m \u001b[0mother\u001b[0m\u001b[0;34m.\u001b[0m\u001b[0mx\u001b[0m \u001b[0;32mand\u001b[0m \u001b[0mself\u001b[0m\u001b[0;34m.\u001b[0m\u001b[0my\u001b[0m \u001b[0;34m==\u001b[0m \u001b[0mother\u001b[0m\u001b[0;34m.\u001b[0m\u001b[0my\u001b[0m\u001b[0;34m:\u001b[0m\u001b[0;34m\u001b[0m\u001b[0;34m\u001b[0m\u001b[0m\n\u001b[0m\u001b[1;32m     12\u001b[0m         \u001b[0;32mreturn\u001b[0m \u001b[0;32mTrue\u001b[0m\u001b[0;34m\u001b[0m\u001b[0;34m\u001b[0m\u001b[0m\n\u001b[1;32m     13\u001b[0m \u001b[0;34m\u001b[0m\u001b[0m\n",
            "\u001b[0;31mAttributeError\u001b[0m: 'NoneType' object has no attribute 'x'"
          ]
        }
      ]
    },
    {
      "cell_type": "code",
      "metadata": {
        "id": "PGQtdtD9PU0f"
      },
      "source": [
        "class Vector:\n",
        "    def __init__(self, x, y):\n",
        "      self.x = x\n",
        "      self.y = y\n",
        "\n",
        "    def __add__ (self,other):\n",
        "      if self.x + other.x and self.y + other.y:\n",
        "        return\n",
        "\n",
        "    # def __eq__(self,other):\n",
        "    #   if self.x == other.x and self.y == other.y:\n",
        "    #     return True\n",
        "\n",
        "\n",
        "\n",
        "u = Vector(4,5)\n",
        "v = Vector(4,5)\n",
        "z = Vector(4,-5)\n"
      ],
      "execution_count": null,
      "outputs": []
    },
    {
      "cell_type": "code",
      "metadata": {
        "colab": {
          "base_uri": "https://localhost:8080/"
        },
        "id": "ZqNWRmXMAmQK",
        "outputId": "ddb18683-d00e-4df7-ce05-e47929854222"
      },
      "source": [
        "u.x == u.x"
      ],
      "execution_count": null,
      "outputs": [
        {
          "output_type": "execute_result",
          "data": {
            "text/plain": [
              "True"
            ]
          },
          "metadata": {},
          "execution_count": 2
        }
      ]
    },
    {
      "cell_type": "code",
      "metadata": {
        "colab": {
          "base_uri": "https://localhost:8080/"
        },
        "id": "0sULaW9jToiY",
        "outputId": "7a13b8a9-e62a-41a4-df77-af26545b9133"
      },
      "source": [
        "v.y + z.y"
      ],
      "execution_count": null,
      "outputs": [
        {
          "output_type": "execute_result",
          "data": {
            "text/plain": [
              "0"
            ]
          },
          "metadata": {},
          "execution_count": 10
        }
      ]
    },
    {
      "cell_type": "code",
      "metadata": {
        "colab": {
          "base_uri": "https://localhost:8080/"
        },
        "id": "gjlS3QnES9Ry",
        "outputId": "5d59dbe2-310a-4903-f618-9713590ed9ca"
      },
      "source": [
        "v.x + z.x"
      ],
      "execution_count": null,
      "outputs": [
        {
          "output_type": "execute_result",
          "data": {
            "text/plain": [
              "8"
            ]
          },
          "metadata": {},
          "execution_count": 5
        }
      ]
    },
    {
      "cell_type": "code",
      "metadata": {
        "colab": {
          "base_uri": "https://localhost:8080/"
        },
        "id": "9lShH2YzToHa",
        "outputId": "05be9ff4-5598-4b39-f1f5-56c3c649e386"
      },
      "source": [
        "v + z == Vector(8,0)"
      ],
      "execution_count": null,
      "outputs": [
        {
          "output_type": "execute_result",
          "data": {
            "text/plain": [
              "False"
            ]
          },
          "metadata": {},
          "execution_count": 11
        }
      ]
    },
    {
      "cell_type": "markdown",
      "metadata": {
        "id": "KUf4C5QzUVwl"
      },
      "source": [
        "### Exercise 6\n",
        "\n",
        "Create a function `exercise_7` that takes a list `lst` and a value `elem` and loops through `lst` looking for `elem`. If `elem` is found, return the index it's at. If not found, return `-1`."
      ]
    },
    {
      "cell_type": "code",
      "metadata": {
        "id": "F3BoBNSCUVwl",
        "colab": {
          "base_uri": "https://localhost:8080/",
          "height": 263
        },
        "outputId": "a08f53d3-c00e-42a6-f9da-7ccce387724f"
      },
      "source": [
        "def exercise_6(lst, elem):\n",
        "  if len(lst)==0:\n",
        "    return -1\n",
        "  x = 0\n",
        "\n",
        "  while x < len(lst):\n",
        "    if lst[x] == elem:\n",
        "      return x\n",
        "    x += 1\n",
        "  return -1\n",
        "\n",
        "\n",
        "  return isinstance\n",
        "\n",
        "try:\n",
        "    assert(exercise_7([], 'a') == -1)\n",
        "    assert(exercise_7(['0'], '0') == 0)\n",
        "    assert(exercise_7([1,2,3,4,5,6,7,8,9], 9) == 8)\n",
        "    print(\"solution is correct\")\n",
        "except AssertionError:\n",
        "    print(\"solution is incorrect\")"
      ],
      "execution_count": null,
      "outputs": [
        {
          "output_type": "error",
          "ename": "NameError",
          "evalue": "ignored",
          "traceback": [
            "\u001b[0;31m---------------------------------------------------------------------------\u001b[0m",
            "\u001b[0;31mNameError\u001b[0m                                 Traceback (most recent call last)",
            "\u001b[0;32m<ipython-input-5-8190f0630e22>\u001b[0m in \u001b[0;36m<module>\u001b[0;34m()\u001b[0m\n\u001b[1;32m     14\u001b[0m \u001b[0;34m\u001b[0m\u001b[0m\n\u001b[1;32m     15\u001b[0m \u001b[0;32mtry\u001b[0m\u001b[0;34m:\u001b[0m\u001b[0;34m\u001b[0m\u001b[0;34m\u001b[0m\u001b[0m\n\u001b[0;32m---> 16\u001b[0;31m     \u001b[0;32massert\u001b[0m\u001b[0;34m(\u001b[0m\u001b[0mexercise_7\u001b[0m\u001b[0;34m(\u001b[0m\u001b[0;34m[\u001b[0m\u001b[0;34m]\u001b[0m\u001b[0;34m,\u001b[0m \u001b[0;34m'a'\u001b[0m\u001b[0;34m)\u001b[0m \u001b[0;34m==\u001b[0m \u001b[0;34m-\u001b[0m\u001b[0;36m1\u001b[0m\u001b[0;34m)\u001b[0m\u001b[0;34m\u001b[0m\u001b[0;34m\u001b[0m\u001b[0m\n\u001b[0m\u001b[1;32m     17\u001b[0m     \u001b[0;32massert\u001b[0m\u001b[0;34m(\u001b[0m\u001b[0mexercise_7\u001b[0m\u001b[0;34m(\u001b[0m\u001b[0;34m[\u001b[0m\u001b[0;34m'0'\u001b[0m\u001b[0;34m]\u001b[0m\u001b[0;34m,\u001b[0m \u001b[0;34m'0'\u001b[0m\u001b[0;34m)\u001b[0m \u001b[0;34m==\u001b[0m \u001b[0;36m0\u001b[0m\u001b[0;34m)\u001b[0m\u001b[0;34m\u001b[0m\u001b[0;34m\u001b[0m\u001b[0m\n\u001b[1;32m     18\u001b[0m     \u001b[0;32massert\u001b[0m\u001b[0;34m(\u001b[0m\u001b[0mexercise_7\u001b[0m\u001b[0;34m(\u001b[0m\u001b[0;34m[\u001b[0m\u001b[0;36m1\u001b[0m\u001b[0;34m,\u001b[0m\u001b[0;36m2\u001b[0m\u001b[0;34m,\u001b[0m\u001b[0;36m3\u001b[0m\u001b[0;34m,\u001b[0m\u001b[0;36m4\u001b[0m\u001b[0;34m,\u001b[0m\u001b[0;36m5\u001b[0m\u001b[0;34m,\u001b[0m\u001b[0;36m6\u001b[0m\u001b[0;34m,\u001b[0m\u001b[0;36m7\u001b[0m\u001b[0;34m,\u001b[0m\u001b[0;36m8\u001b[0m\u001b[0;34m,\u001b[0m\u001b[0;36m9\u001b[0m\u001b[0;34m]\u001b[0m\u001b[0;34m,\u001b[0m \u001b[0;36m9\u001b[0m\u001b[0;34m)\u001b[0m \u001b[0;34m==\u001b[0m \u001b[0;36m8\u001b[0m\u001b[0;34m)\u001b[0m\u001b[0;34m\u001b[0m\u001b[0;34m\u001b[0m\u001b[0m\n",
            "\u001b[0;31mNameError\u001b[0m: name 'exercise_7' is not defined"
          ]
        }
      ]
    },
    {
      "cell_type": "code",
      "metadata": {
        "colab": {
          "base_uri": "https://localhost:8080/"
        },
        "id": "4-ZKDglpfxXb",
        "outputId": "b42de623-b882-47df-c44b-6c27ec412f68"
      },
      "source": [
        "ints = [8, 23, 45, 12, 78]\n",
        "\n",
        "\n",
        "for i in range(len(ints)):\n",
        "   print([i])"
      ],
      "execution_count": null,
      "outputs": [
        {
          "output_type": "stream",
          "name": "stdout",
          "text": [
            "[0]\n",
            "[1]\n",
            "[2]\n",
            "[3]\n",
            "[4]\n"
          ]
        }
      ]
    },
    {
      "cell_type": "code",
      "metadata": {
        "colab": {
          "base_uri": "https://localhost:8080/"
        },
        "id": "nKxnStuSko5n",
        "outputId": "339d372b-d35b-44dd-9622-2f07b8e1e98c"
      },
      "source": [
        "mylist = [1,2,3,4,5]\n",
        "element = 0\n",
        "\n",
        "for i in mylist:\n",
        "  if(i == element):\n",
        "    print(\"element found\")\n",
        "else:\n",
        "  if (i != element):\n",
        "    print (\"no\")"
      ],
      "execution_count": null,
      "outputs": [
        {
          "output_type": "stream",
          "name": "stdout",
          "text": [
            "no\n"
          ]
        }
      ]
    },
    {
      "cell_type": "markdown",
      "metadata": {
        "id": "cnN4axVPUVwm"
      },
      "source": [
        "### Exercise 7\n",
        "\n",
        "Create a function `exercise_8` that takes an integer between 0 and 100. Any input of another type passed to the function should return `None`. Any other number that is not an integer in that range should return `-1`. Passing an integer under 50 should return `0`. Passing an integer greater than 50 should return `100`."
      ]
    },
    {
      "cell_type": "code",
      "metadata": {
        "id": "1mz7vqP3ZWsA",
        "colab": {
          "base_uri": "https://localhost:8080/"
        },
        "outputId": "743ab112-e997-4282-cb3d-556705cc4010"
      },
      "source": [
        "def exercise_8(n):\n",
        "\n",
        "\n",
        "  if type(n) != int:\n",
        "    return None\n",
        "  elif n > 100 or n < 0:\n",
        "    return -1\n",
        "  elif n  < 50:\n",
        "    return 0\n",
        "  elif n > 50:\n",
        "    return 100\n",
        "\n",
        "try:\n",
        "    assert(exercise_8(\"0\") == None)\n",
        "    assert(exercise_8(-10) == -1)\n",
        "    assert(exercise_8(40) == 0)\n",
        "    assert(exercise_8(60) == 100)\n",
        "    print(\"solution is correct\")\n",
        "except AssertionError:\n",
        "    print(\"solution is incorrect\")"
      ],
      "execution_count": null,
      "outputs": [
        {
          "output_type": "stream",
          "name": "stdout",
          "text": [
            "solution is incorrect\n"
          ]
        }
      ]
    },
    {
      "cell_type": "code",
      "source": [
        "type(10)"
      ],
      "metadata": {
        "colab": {
          "base_uri": "https://localhost:8080/"
        },
        "id": "aETuAuhVIauz",
        "outputId": "bd213a60-5740-48ec-8308-a665d0f167bb"
      },
      "execution_count": null,
      "outputs": [
        {
          "output_type": "execute_result",
          "data": {
            "text/plain": [
              "int"
            ]
          },
          "metadata": {},
          "execution_count": 4
        }
      ]
    },
    {
      "cell_type": "code",
      "metadata": {
        "colab": {
          "base_uri": "https://localhost:8080/"
        },
        "id": "zpowml6D4hTI",
        "outputId": "09756a61-2703-4700-ae41-8a0ff80e66a5"
      },
      "source": [
        "def num(n):\n",
        "  x =  range(0, 100)\n",
        "  for i in x:\n",
        "    if i != int(): # <---- this does not work\n",
        "      return None\n",
        "    elif n < 50:\n",
        "        return 0\n",
        "    elif n > 50:\n",
        "        return 100\n",
        "    elif n > 100:\n",
        "        return - 1\n",
        "\n",
        "# you cannot compare to function\n",
        "# you must compare data to any other data type\n",
        "num(30)"
      ],
      "execution_count": null,
      "outputs": [
        {
          "output_type": "execute_result",
          "data": {
            "text/plain": [
              "0"
            ]
          },
          "metadata": {},
          "execution_count": 138
        }
      ]
    },
    {
      "cell_type": "code",
      "metadata": {
        "colab": {
          "base_uri": "https://localhost:8080/"
        },
        "id": "2Rp8uVx5IvXR",
        "outputId": "b3ee4b92-9cb9-4d4e-8473-c22f3652f8a0"
      },
      "source": [
        "num(300)"
      ],
      "execution_count": null,
      "outputs": [
        {
          "output_type": "execute_result",
          "data": {
            "text/plain": [
              "100"
            ]
          },
          "metadata": {},
          "execution_count": 139
        }
      ]
    },
    {
      "cell_type": "code",
      "metadata": {
        "colab": {
          "base_uri": "https://localhost:8080/"
        },
        "id": "0JRiFXDeIzeo",
        "outputId": "39fd2086-b844-4299-8c4f-adb9802b399d"
      },
      "source": [
        "num(65)"
      ],
      "execution_count": null,
      "outputs": [
        {
          "output_type": "execute_result",
          "data": {
            "text/plain": [
              "100"
            ]
          },
          "metadata": {},
          "execution_count": 140
        }
      ]
    },
    {
      "cell_type": "markdown",
      "metadata": {
        "id": "9drMb3JMUVwn"
      },
      "source": [
        "### Exercise 8\n",
        "\n",
        "Create a lambda expression that takes `a`, `b`, `c` and `x` and calculates the following:\n",
        "\n",
        "$$  ax^2 + bx + c $$"
      ]
    },
    {
      "cell_type": "code",
      "metadata": {
        "id": "hGlsRZ-WUVwn",
        "colab": {
          "base_uri": "https://localhost:8080/"
        },
        "outputId": "c08a14cf-9204-4e53-dd79-679e79b40678"
      },
      "source": [
        "\n",
        "f = lambda a,b,c,x: a*(x**2) + b*x + c\n",
        "\n",
        "try:\n",
        "    assert(f(0,0,0,0) == 0)\n",
        "    assert(f(0,0,0,2) == 0)\n",
        "    assert(f(0,1,0,0) == 0)\n",
        "    assert(f(3,0,0,0) == 0)\n",
        "    assert(f(0,5,0,0) == 0)\n",
        "    assert(f(2,1,0,2) == 10)\n",
        "    assert(f(5,0,0,2) == 20)\n",
        "    assert(f(5,3,4,2) == 30)\n",
        "    print(\"solution is correct\")\n",
        "except:\n",
        "    print(\"solution is incorrect\")"
      ],
      "execution_count": null,
      "outputs": [
        {
          "output_type": "stream",
          "name": "stdout",
          "text": [
            "solution is correct\n"
          ]
        }
      ]
    },
    {
      "cell_type": "code",
      "metadata": {
        "id": "kzqgzqBwUVwn"
      },
      "source": [
        "# def quadriatic_equation(a,b,c):\n",
        "# # ax^2 + bx + c\n",
        "#     return lambda f: a*f**2 + b*f + c\n",
        "# f = quadriatic_equation\n"
      ],
      "execution_count": null,
      "outputs": []
    },
    {
      "cell_type": "code",
      "metadata": {
        "id": "OkmgRJOgUVwo",
        "outputId": "b681cb29-463c-4c76-e65e-36f365a4cd08"
      },
      "source": [
        "f(0)"
      ],
      "execution_count": null,
      "outputs": [
        {
          "data": {
            "text/plain": [
              "3"
            ]
          },
          "execution_count": 106,
          "metadata": {},
          "output_type": "execute_result"
        }
      ]
    },
    {
      "cell_type": "code",
      "metadata": {
        "id": "PNtEsAX2UVwo",
        "outputId": "c35b758d-136b-4cc4-973d-410bd7f79ca5"
      },
      "source": [
        "# quadriatic_equation(2,1,0)(2)\n",
        "\n",
        "# # x = to the last 2"
      ],
      "execution_count": null,
      "outputs": [
        {
          "data": {
            "text/plain": [
              "10"
            ]
          },
          "execution_count": 117,
          "metadata": {},
          "output_type": "execute_result"
        }
      ]
    },
    {
      "cell_type": "code",
      "metadata": {
        "id": "1tksMg6BUVwo",
        "outputId": "077fca6c-f683-4a4a-9ceb-500aae4b839a"
      },
      "source": [
        "# quadriatic_equation(6,2,-20)(-2)"
      ],
      "execution_count": null,
      "outputs": [
        {
          "data": {
            "text/plain": [
              "0"
            ]
          },
          "execution_count": 58,
          "metadata": {},
          "output_type": "execute_result"
        }
      ]
    },
    {
      "cell_type": "markdown",
      "metadata": {
        "id": "8BLu90ytUVwp"
      },
      "source": [
        "### Exercise 9\n",
        "\n",
        "Using the lambda function from the previous exercise. Create a ternary operatory that sets `solution_possible` to `True` when the result of that lambda function is equal to zero. Otherwise, `solution_possible` should be `False`."
      ]
    },
    {
      "cell_type": "code",
      "metadata": {
        "id": "XHmlrlQ9UVwp",
        "colab": {
          "base_uri": "https://localhost:8080/"
        },
        "outputId": "6ad6f135-2ef4-4a9e-b31c-4cd7ac6c2bc4"
      },
      "source": [
        "# try the following to check your solution\n",
        "\n",
        "# using these values for f(a,b,c,x) == 0\n",
        "a = 6\n",
        "b = 2\n",
        "c = -20\n",
        "x = -2\n",
        "\n",
        "# using these values for f(a,b,c,x) != 0\n",
        "# a = 2\n",
        "# b = 1\n",
        "# c = 0\n",
        "# d = 2\n",
        "\n",
        "print(f(a,b,c,x))\n",
        "\n",
        "solution_possible = True if f(a,b,c,x) == 0 else False\n",
        "\n",
        "\n",
        "print(solution_possible)"
      ],
      "execution_count": null,
      "outputs": [
        {
          "output_type": "stream",
          "name": "stdout",
          "text": [
            "0\n",
            "True\n"
          ]
        }
      ]
    },
    {
      "cell_type": "code",
      "metadata": {
        "colab": {
          "base_uri": "https://localhost:8080/"
        },
        "id": "8AMsiB9O-geU",
        "outputId": "07164bc6-f012-4fa0-df5c-3ebd0cec8cdc"
      },
      "source": [
        "# try the following to check your solution\n",
        "\n",
        "# using these values for f(a,b,c,x) == 0\n",
        "#b = 2\n",
        "#c = -20\n",
        "#x = -2\n",
        "\n",
        "# using these values for f(a,b,c,x) != 0\n",
        "a = 2\n",
        "b = 1\n",
        "c = 0\n",
        "d = 2\n",
        "\n",
        "print(f(a,b,c,x))\n",
        "\n",
        "solution_possible = True if f(a,b,c,x) == 0 else False\n",
        "\n",
        "\n",
        "print(solution_possible)"
      ],
      "execution_count": null,
      "outputs": [
        {
          "output_type": "stream",
          "name": "stdout",
          "text": [
            "6\n",
            "False\n"
          ]
        }
      ]
    },
    {
      "cell_type": "code",
      "metadata": {
        "id": "IyRMiInPUVwp"
      },
      "source": [
        "'''f = lambda a,b,c,x: a*(x**2) + b*x + c\n",
        "\n",
        "def is_int(x):\n",
        "    if x - int(x) == 0:\n",
        "        return True\n",
        "    else:\n",
        "        return False''' #ignore this"
      ],
      "execution_count": null,
      "outputs": []
    },
    {
      "cell_type": "markdown",
      "metadata": {
        "id": "deXRWGkOUVwq"
      },
      "source": [
        "### Exercise 10\n",
        "\n",
        "Write a function that creates a domain name given a `subdomain`, a `domain`, a `tld` and a boolean for `secure`.\n",
        "\n",
        "Use the following arguments:\n",
        "\n",
        "```\n",
        "domain - a string given as input\n",
        "subdomain - either a string given as input or \"www\" by default\n",
        "tld - either a  string given as input or \"com\" (as in .com) by default\n",
        "secure - boolean argument that sets \"https\" if 'secure' is true otherwise use \"http\"\n",
        "```\n",
        "examples:\n",
        "```\n",
        "make_url(\"google\") -> \"https://www.google.com\"\n",
        "make_url(\"example\", subdomain=None, tld=\"com\", secure=False) -> \"http://example.com\"\n",
        "make_url(\"theknowledgehouse\", tld=\"org\", secure=True) -> \"https://www.theknowledgehouse.org\"\n",
        "```\n",
        "\n",
        "Note: A subdomain is optional but providing one means you need to add a period between the subdomain and the domain. So if a subdomain is `None`, you do NOT want to add a period after it. If one is provided, you DO."
      ]
    },
    {
      "cell_type": "code",
      "metadata": {
        "id": "CvujGRIwUVwq",
        "colab": {
          "base_uri": "https://localhost:8080/"
        },
        "outputId": "38a709ab-4235-472b-a942-7bf6f224b3b1"
      },
      "source": [
        "def make_url(f):\n",
        "  return lambda: \"https://www.\" + f() +\".com\"\n",
        "\n",
        "@make_url\n",
        "def hello():\n",
        "  return \"\"\n",
        "\n",
        "\n",
        "try:\n",
        "    assert(make_url(\"google\") == \"https://www.google.com\")\n",
        "    assert(make_url(\"example\", subdomain=None, tld=\"com\", secure=False) == \"http://example.com\")\n",
        "    assert(make_url(\"theknowledgehouse\", tld=\"org\", secure=True) == \"https://www.theknowledgehouse.org\")\n",
        "    print(\"solution is correct\")\n",
        "except AssertionError:\n",
        "    print(\"solution is incorrect\")"
      ],
      "execution_count": null,
      "outputs": [
        {
          "output_type": "stream",
          "name": "stdout",
          "text": [
            "solution is incorrect\n"
          ]
        }
      ]
    },
    {
      "cell_type": "code",
      "metadata": {
        "colab": {
          "base_uri": "https://localhost:8080/"
        },
        "id": "gXS8QDnQMiy5",
        "outputId": "de22865a-2dba-4614-ef9b-2e7030846bbb"
      },
      "source": [
        "def make_url(f):\n",
        "  return lambda: \"https://www.\" + f() +\".com\"\n",
        "\n",
        "@make_url\n",
        "def hello():\n",
        "  return \"google\" # <---- need to find return\n",
        "print (hello())\n"
      ],
      "execution_count": null,
      "outputs": [
        {
          "output_type": "stream",
          "name": "stdout",
          "text": [
            "https://www.google.com\n"
          ]
        }
      ]
    },
    {
      "cell_type": "markdown",
      "metadata": {
        "id": "Ivt015_XUVwr"
      },
      "source": [
        "### Exercise 11\n",
        "\n",
        "Create a function that creates a `n` by `n` matrix (`n` rows and `n` columns) filled with zeros."
      ]
    },
    {
      "cell_type": "code",
      "metadata": {
        "id": "RA4IArKHUVwr",
        "outputId": "406091ca-0cbe-4887-b022-8b832c20e225"
      },
      "source": [
        "def exercise_16(n):\n",
        "    return [[0 for i in range(n)] for i in range(n)]\n",
        "\n",
        "\n",
        "try:\n",
        "    assert(exercise_16(1) == [[0]])\n",
        "    assert(exercise_16(2) == [[0, 0], [0, 0]])\n",
        "    assert(exercise_16(3) == [[0, 0, 0], [0, 0, 0], [0, 0, 0]])\n",
        "    assert(exercise_16(4) == [[0, 0, 0, 0], [0, 0, 0, 0], [0, 0, 0, 0], [0, 0, 0, 0]])\n",
        "    print(\"solution is correct\")\n",
        "except AssertionError:\n",
        "    print(\"solution is incorrect\")"
      ],
      "execution_count": null,
      "outputs": [
        {
          "name": "stdout",
          "output_type": "stream",
          "text": [
            "solution is correct\n"
          ]
        }
      ]
    },
    {
      "cell_type": "code",
      "metadata": {
        "id": "M8HI6h60UVws",
        "outputId": "72bcf0e3-93ff-40ec-f019-c04eebeef8d9"
      },
      "source": [
        "import itertools\n",
        "# initializing N\n",
        "N = 3\n",
        "\n",
        "# printing dimension\n",
        "print(\"The dimension : \" + str(N))\n",
        "\n",
        "# using next() + itertools.count()\n",
        "# matrix creation of n * n\n",
        "temp = itertools.count(0)\n",
        "res = [[0for i in range(N)] for i in range(N)] # <---- nested loop is actually only thing needed\n",
        "\n",
        "# print result\n",
        "print(\"The created matrix of N * N: \" + str(res))\n",
        "\n",
        "#TODO find out how to do it without intertool :("
      ],
      "execution_count": null,
      "outputs": [
        {
          "name": "stdout",
          "output_type": "stream",
          "text": [
            "The dimension : 3\n",
            "The created matrix of N * N: [[0, 0, 0], [0, 0, 0], [0, 0, 0]]\n"
          ]
        }
      ]
    },
    {
      "cell_type": "markdown",
      "metadata": {
        "id": "BJEWwU6eUVws"
      },
      "source": [
        "### Exercise 12\n",
        "\n",
        "Create a function that takes an arbitrary number of keyword arguments and returns list of two-tuples containing their key-value pairs."
      ]
    },
    {
      "cell_type": "code",
      "metadata": {
        "id": "SN209THGUVws",
        "colab": {
          "base_uri": "https://localhost:8080/"
        },
        "outputId": "4f71a362-b9fe-43b5-d222-8a101bcf7ddf"
      },
      "source": [
        "def exercise_17(**kwargs):\n",
        "    return kwargs.keys(),kwargs.items()\n",
        "\n",
        "try:\n",
        "    assert(exercise_17(a=0) == [('a', 0)])\n",
        "    assert(exercise_17(a=0, b=1) == [('a', 0), ('b', 1)])\n",
        "    assert(exercise_17(a=0, b=1, c=2) == [('a', 0), ('b', 1), ('c', 2)])\n",
        "    print(\"solution is correct\")\n",
        "except AssertionError:\n",
        "    print(\"solution is incorrect\")"
      ],
      "execution_count": null,
      "outputs": [
        {
          "output_type": "stream",
          "name": "stdout",
          "text": [
            "solution is incorrect\n"
          ]
        }
      ]
    },
    {
      "cell_type": "code",
      "metadata": {
        "id": "kzbgarOfUVws",
        "colab": {
          "base_uri": "https://localhost:8080/"
        },
        "outputId": "d9dd5151-af82-4ba4-c8e8-f3c5df0481b0"
      },
      "source": [
        "def exercise_17(**kwargs):\n",
        "    return kwargs.keys(),kwargs.items()\n",
        "\n",
        "print(exercise_17(a=0,b=1, c=2))\n",
        "\n",
        "#TODO FIND OUT HOW TO GET OUT WORD DICT KEYS & DICT ITEMS"
      ],
      "execution_count": null,
      "outputs": [
        {
          "output_type": "stream",
          "name": "stdout",
          "text": [
            "(dict_keys(['a', 'b', 'c']), dict_items([('a', 0), ('b', 1), ('c', 2)]))\n"
          ]
        }
      ]
    },
    {
      "cell_type": "markdown",
      "metadata": {
        "id": "4lB-K-a5UVwt"
      },
      "source": [
        "### Exercise 13\n",
        "\n",
        "Given the Entity Relationship Diagram (ERD) for the sakila database (which can be found at https://www.jooq.org/sakila), write a query that will return the staff id, first name, last name, total amount of money that each staff member is responsible for between the months of July and October in the year 2005, ordered from greatest to least by money amount. Include the query and an image of the data output. If you have issues running mySQL, go to the following link to execute: https://demo.phpmyadmin.net/master-config/index.php?route=/database/sql&db=sakila."
      ]
    },
    {
      "cell_type": "code",
      "metadata": {
        "id": "uDmExhGGUVwt"
      },
      "source": [
        "SELECT first_name, last_name, SUM(amount)\n",
        "FROM staff s\n",
        "ON s.staff_id = p.staff_id\n",
        "GROUP BY p.staff_id\n",
        "ORDER BY last_name ASC;"
      ],
      "execution_count": null,
      "outputs": []
    },
    {
      "cell_type": "markdown",
      "metadata": {
        "id": "Va8EZkqOUVwt"
      },
      "source": [
        "### Exercise 14\n",
        "\n",
        "You were recently hired to work at Whole Foods Inc., where you are in charge of predicting grocery sales. In order for any data science algorithms to be used against the data, it needs to be stored in a relational database. You have been tasked with creating the logic behind how the database should be created/organized. Luckily, you know there are only going to be 5 entities (tables) required to capture the data: Customers, Stores, Inventory, Transactions, and Employees. Each table must contain at least 5 attributes and at least one primary key. Primary and foreign keys should be marked specifically, and all attributes should have data types specified. Finally, define the relationships between tables (one-to-one, one-to-many, or many-to-many).\n",
        "\n",
        "Deliverable: upload an image of your Entity Relationship Diagram (ERD) with the requirements listed above, as well as 3-5 sentences describing your logic behind the database that you have designed."
      ]
    },
    {
      "cell_type": "markdown",
      "metadata": {
        "id": "SQTij1HoAyEf"
      },
      "source": [
        "![Whole Foods.jpeg](data:image/jpeg;base64,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)"
      ]
    },
    {
      "cell_type": "markdown",
      "metadata": {
        "id": "iay19KtkBGo5"
      },
      "source": [
        "In my ERD I created a databased that contain 5 entities/ tables for customer, stores, employee, inventory and Transtions.\n",
        "\n",
        "Each table has one primary key and one foriegn key that helps connect it to the coinciding table. The one exception to this is the transaction table.\n",
        "\n",
        "This is because there are  2 foriegn keys in transaction causing it to have a one to many relationship in this database.\n"
      ]
    },
    {
      "cell_type": "markdown",
      "metadata": {
        "id": "XAMD7hgHUVwt"
      },
      "source": [
        "### Exercise 15\n",
        "\n",
        "Add a method called `from_full_name` to the following function so that we are able to create an instance of the class by passing the a full name (string of first and last name separated by a space). Do not remove anything that already exists. Then create an instance using that method."
      ]
    },
    {
      "cell_type": "code",
      "metadata": {
        "id": "Rm7NP_65UVwt",
        "colab": {
          "base_uri": "https://localhost:8080/",
          "height": 235
        },
        "outputId": "4922835d-51de-4290-fff9-f3accfd7b0cc"
      },
      "source": [
        "import inspect # this is necessary for checking your answer - ignore\n",
        "\n",
        "class Person:\n",
        "  def names(first_name, last_name):\n",
        "    first_name = first_name\n",
        "    last_name = last_name\n",
        "    f_n = (first_name)\n",
        "    l_n = (last_name)\n",
        "\n",
        "    full_name = first_name + (\"\") + last_name\n",
        "    return full_name\n",
        "\n",
        "\n",
        "try:\n",
        "    p = Person.from_full_name(\"A P\")\n",
        "    assert(getattr(p, 'first_name', None) == \"A\")\n",
        "    assert(getattr(p, 'last_name', None) == \"P\")\n",
        "    assert(inspect.ismethod(Person.from_full_name) and Person.from_full_name.__self__ is Person)\n",
        "    print(\"solution should probably be correct (not guaranteed)\")\n",
        "except AssertionError:\n",
        "    print(\"solution is incorrect\")"
      ],
      "execution_count": null,
      "outputs": [
        {
          "output_type": "error",
          "ename": "AttributeError",
          "evalue": "ignored",
          "traceback": [
            "\u001b[0;31m---------------------------------------------------------------------------\u001b[0m",
            "\u001b[0;31mAttributeError\u001b[0m                            Traceback (most recent call last)",
            "\u001b[0;32m<ipython-input-25-77aab65b598c>\u001b[0m in \u001b[0;36m<module>\u001b[0;34m()\u001b[0m\n\u001b[1;32m     13\u001b[0m \u001b[0;34m\u001b[0m\u001b[0m\n\u001b[1;32m     14\u001b[0m \u001b[0;32mtry\u001b[0m\u001b[0;34m:\u001b[0m\u001b[0;34m\u001b[0m\u001b[0;34m\u001b[0m\u001b[0m\n\u001b[0;32m---> 15\u001b[0;31m     \u001b[0mp\u001b[0m \u001b[0;34m=\u001b[0m \u001b[0mPerson\u001b[0m\u001b[0;34m.\u001b[0m\u001b[0mfrom_full_name\u001b[0m\u001b[0;34m(\u001b[0m\u001b[0;34m\"A P\"\u001b[0m\u001b[0;34m)\u001b[0m\u001b[0;34m\u001b[0m\u001b[0;34m\u001b[0m\u001b[0m\n\u001b[0m\u001b[1;32m     16\u001b[0m     \u001b[0;32massert\u001b[0m\u001b[0;34m(\u001b[0m\u001b[0mgetattr\u001b[0m\u001b[0;34m(\u001b[0m\u001b[0mp\u001b[0m\u001b[0;34m,\u001b[0m \u001b[0;34m'first_name'\u001b[0m\u001b[0;34m,\u001b[0m \u001b[0;32mNone\u001b[0m\u001b[0;34m)\u001b[0m \u001b[0;34m==\u001b[0m \u001b[0;34m\"A\"\u001b[0m\u001b[0;34m)\u001b[0m\u001b[0;34m\u001b[0m\u001b[0;34m\u001b[0m\u001b[0m\n\u001b[1;32m     17\u001b[0m     \u001b[0;32massert\u001b[0m\u001b[0;34m(\u001b[0m\u001b[0mgetattr\u001b[0m\u001b[0;34m(\u001b[0m\u001b[0mp\u001b[0m\u001b[0;34m,\u001b[0m \u001b[0;34m'last_name'\u001b[0m\u001b[0;34m,\u001b[0m \u001b[0;32mNone\u001b[0m\u001b[0;34m)\u001b[0m \u001b[0;34m==\u001b[0m \u001b[0;34m\"P\"\u001b[0m\u001b[0;34m)\u001b[0m\u001b[0;34m\u001b[0m\u001b[0;34m\u001b[0m\u001b[0m\n",
            "\u001b[0;31mAttributeError\u001b[0m: type object 'Person' has no attribute 'from_full_name'"
          ]
        }
      ]
    },
    {
      "cell_type": "code",
      "metadata": {
        "id": "DcXqNfZfUy2o"
      },
      "source": [
        "\n",
        "def bob(first_name, last_name):\n",
        "  first_name = first_name\n",
        "  last_name = last_name\n",
        "  # f_n = (first_name)\n",
        "  # l_n = (last_name)\n",
        "\n",
        "  full_name = first_name + \"\" + last_name\n",
        "  return full_name\n"
      ],
      "execution_count": null,
      "outputs": []
    },
    {
      "cell_type": "code",
      "metadata": {
        "colab": {
          "base_uri": "https://localhost:8080/",
          "height": 35
        },
        "id": "CVj0D-NGYeSc",
        "outputId": "d049d529-6d23-429c-a4f2-6ca05b09aee5"
      },
      "source": [
        "bob(\"a\", \"p\")"
      ],
      "execution_count": null,
      "outputs": [
        {
          "output_type": "execute_result",
          "data": {
            "application/vnd.google.colaboratory.intrinsic+json": {
              "type": "string"
            },
            "text/plain": [
              "'ap'"
            ]
          },
          "metadata": {},
          "execution_count": 8
        }
      ]
    },
    {
      "cell_type": "code",
      "metadata": {
        "colab": {
          "base_uri": "https://localhost:8080/",
          "height": 165
        },
        "id": "31Z59mWtZLlH",
        "outputId": "bbaee7b1-9e97-461a-c34f-4ff348189bc4"
      },
      "source": [
        "bob.full_name"
      ],
      "execution_count": null,
      "outputs": [
        {
          "output_type": "error",
          "ename": "AttributeError",
          "evalue": "ignored",
          "traceback": [
            "\u001b[0;31m---------------------------------------------------------------------------\u001b[0m",
            "\u001b[0;31mAttributeError\u001b[0m                            Traceback (most recent call last)",
            "\u001b[0;32m<ipython-input-10-62f74ef71bab>\u001b[0m in \u001b[0;36m<module>\u001b[0;34m()\u001b[0m\n\u001b[0;32m----> 1\u001b[0;31m \u001b[0mbob\u001b[0m\u001b[0;34m.\u001b[0m\u001b[0mfull_name\u001b[0m\u001b[0;34m\u001b[0m\u001b[0;34m\u001b[0m\u001b[0m\n\u001b[0m",
            "\u001b[0;31mAttributeError\u001b[0m: 'function' object has no attribute 'full_name'"
          ]
        }
      ]
    }
  ]
}