{
  "cells": [
    {
      "cell_type": "markdown",
      "id": "3b6c1e4d",
      "metadata": {
        "id": "3b6c1e4d"
      },
      "source": [
        "# Exercise 1:\n",
        "\n",
        "    What are the differences between a List and a Tuple?\n",
        "    \n"
      ]
    },
    {
      "cell_type": "code",
      "execution_count": null,
      "id": "1bdd13c4",
      "metadata": {
        "id": "1bdd13c4"
      },
      "outputs": [],
      "source": [
        " #One is that Tuples themselves are immutable( though the element might not be)\n",
        " #Second is that tuples tend to be unpacked rather than iterated over, or accessed with indexes."
      ]
    },
    {
      "cell_type": "markdown",
      "id": "09e5a970",
      "metadata": {
        "id": "09e5a970"
      },
      "source": [
        "# Exercise 2:\n",
        "\n",
        "    Please intialize a list, and then initialize a tuple."
      ]
    },
    {
      "cell_type": "code",
      "execution_count": null,
      "id": "210c366b",
      "metadata": {
        "id": "210c366b",
        "colab": {
          "base_uri": "https://localhost:8080/"
        },
        "outputId": "c15f40f5-ca95-4e83-ef99-5ae11bbaa645"
      },
      "outputs": [
        {
          "output_type": "execute_result",
          "data": {
            "text/plain": [
              "list"
            ]
          },
          "metadata": {},
          "execution_count": 3
        }
      ],
      "source": [
        "x = [1, 2, 3, 4, 5]\n",
        "type(x)"
      ]
    },
    {
      "cell_type": "code",
      "source": [
        "v = (\"hello\",\"yp\\ou\")\n",
        "type(v)"
      ],
      "metadata": {
        "colab": {
          "base_uri": "https://localhost:8080/"
        },
        "id": "9JHFfx5YwuNu",
        "outputId": "d74e07aa-ade7-4446-9827-fa569b9aecff"
      },
      "id": "9JHFfx5YwuNu",
      "execution_count": null,
      "outputs": [
        {
          "output_type": "execute_result",
          "data": {
            "text/plain": [
              "tuple"
            ]
          },
          "metadata": {},
          "execution_count": 4
        }
      ]
    },
    {
      "cell_type": "markdown",
      "id": "74990156",
      "metadata": {
        "id": "74990156"
      },
      "source": [
        "# Exercise 3:\n",
        "    \n",
        "    Print a list, that contains all the indexes of elements with the value 100."
      ]
    },
    {
      "cell_type": "code",
      "execution_count": null,
      "id": "5b19f060",
      "metadata": {
        "id": "5b19f060",
        "colab": {
          "base_uri": "https://localhost:8080/"
        },
        "outputId": "5a743514-24ed-4776-d11e-177848054e02"
      },
      "outputs": [
        {
          "output_type": "stream",
          "name": "stdout",
          "text": [
            "[34]\n"
          ]
        }
      ],
      "source": [
        "list_to_iterate = [3, 45, 21, 85, 9, 20, 23,\n",
        "                   9, 3, 96, 34, 69, 70, 90, 67, 60,\n",
        "                   34, 51, 52, 20, 29, 23, 54, 84, 55,\n",
        "                   82, 32, 8, 44, 30, 8, 94, 71, 62, 100,\n",
        "                   69, 36, 73, 81, 19, 38, 22, 84, 1, 26, 80\n",
        "                   , 73, 95, 53, 54, 25, 4, 43, 84, 72, 17, 53\n",
        "                   , 84, 41, 37, 18, 50, 37, 90, 64, 17, 58, 12,\n",
        "                   70, 67, 6, 76, 67, 20, 75, 16, 82, 26, 83, 10,\n",
        "                   99, 64, 21, 65, 7, 45, 23, 12, 11, 80, 37, 10, 87,\n",
        "                   66, 14, 8, 70, 21, 40]\n",
        "\n",
        "goal = []\n",
        "\n",
        "\n",
        "for i, num in enumerate(list_to_iterate):  #i = index  & nums = value\n",
        "    if num == 100:  #if number is equal to 100\n",
        "        goal.append(i) #put idex (which is i) in goal list\n",
        "print(goal)"
      ]
    },
    {
      "cell_type": "code",
      "source": [
        "#test enumerate\n",
        "list(enumerate(list_to_iterate))\n",
        "\n"
      ],
      "metadata": {
        "id": "thdbzYDcdVf-",
        "colab": {
          "base_uri": "https://localhost:8080/"
        },
        "outputId": "68df8b6f-5bf6-4a51-df53-2e06ae2cca1b"
      },
      "id": "thdbzYDcdVf-",
      "execution_count": null,
      "outputs": [
        {
          "output_type": "execute_result",
          "data": {
            "text/plain": [
              "[(0, 3),\n",
              " (1, 45),\n",
              " (2, 21),\n",
              " (3, 85),\n",
              " (4, 9),\n",
              " (5, 20),\n",
              " (6, 23),\n",
              " (7, 9),\n",
              " (8, 3),\n",
              " (9, 96),\n",
              " (10, 34),\n",
              " (11, 69),\n",
              " (12, 70),\n",
              " (13, 90),\n",
              " (14, 67),\n",
              " (15, 60),\n",
              " (16, 34),\n",
              " (17, 51),\n",
              " (18, 52),\n",
              " (19, 20),\n",
              " (20, 29),\n",
              " (21, 23),\n",
              " (22, 54),\n",
              " (23, 84),\n",
              " (24, 55),\n",
              " (25, 82),\n",
              " (26, 32),\n",
              " (27, 8),\n",
              " (28, 44),\n",
              " (29, 30),\n",
              " (30, 8),\n",
              " (31, 94),\n",
              " (32, 71),\n",
              " (33, 62),\n",
              " (34, 100),\n",
              " (35, 69),\n",
              " (36, 36),\n",
              " (37, 73),\n",
              " (38, 81),\n",
              " (39, 19),\n",
              " (40, 38),\n",
              " (41, 22),\n",
              " (42, 84),\n",
              " (43, 1),\n",
              " (44, 26),\n",
              " (45, 80),\n",
              " (46, 73),\n",
              " (47, 95),\n",
              " (48, 53),\n",
              " (49, 54),\n",
              " (50, 25),\n",
              " (51, 4),\n",
              " (52, 43),\n",
              " (53, 84),\n",
              " (54, 72),\n",
              " (55, 17),\n",
              " (56, 53),\n",
              " (57, 84),\n",
              " (58, 41),\n",
              " (59, 37),\n",
              " (60, 18),\n",
              " (61, 50),\n",
              " (62, 37),\n",
              " (63, 90),\n",
              " (64, 64),\n",
              " (65, 17),\n",
              " (66, 58),\n",
              " (67, 12),\n",
              " (68, 70),\n",
              " (69, 67),\n",
              " (70, 6),\n",
              " (71, 76),\n",
              " (72, 67),\n",
              " (73, 20),\n",
              " (74, 75),\n",
              " (75, 16),\n",
              " (76, 82),\n",
              " (77, 26),\n",
              " (78, 83),\n",
              " (79, 10),\n",
              " (80, 99),\n",
              " (81, 64),\n",
              " (82, 21),\n",
              " (83, 65),\n",
              " (84, 7),\n",
              " (85, 45),\n",
              " (86, 23),\n",
              " (87, 12),\n",
              " (88, 11),\n",
              " (89, 80),\n",
              " (90, 37),\n",
              " (91, 10),\n",
              " (92, 87),\n",
              " (93, 66),\n",
              " (94, 14),\n",
              " (95, 8),\n",
              " (96, 70),\n",
              " (97, 21),\n",
              " (98, 40)]"
            ]
          },
          "metadata": {},
          "execution_count": 3
        }
      ]
    },
    {
      "cell_type": "code",
      "source": [
        "#test uppacking\n",
        "a,b = (1, 2)\n",
        "print(a)\n",
        "print(b)"
      ],
      "metadata": {
        "id": "2iXJCgPKducR",
        "colab": {
          "base_uri": "https://localhost:8080/"
        },
        "outputId": "04789ad3-46bc-44ac-d231-9714d37d794d"
      },
      "id": "2iXJCgPKducR",
      "execution_count": null,
      "outputs": [
        {
          "output_type": "stream",
          "name": "stdout",
          "text": [
            "1\n",
            "2\n"
          ]
        }
      ]
    },
    {
      "cell_type": "markdown",
      "id": "0beb8120",
      "metadata": {
        "id": "0beb8120"
      },
      "source": [
        "# Exercise 4\n",
        "\n",
        "    Using List Comprehension, create a list that contains all the values between 1 and 100 that are divisible by both 3 and 5."
      ]
    },
    {
      "cell_type": "code",
      "execution_count": null,
      "id": "1eb614c6",
      "metadata": {
        "id": "1eb614c6",
        "outputId": "6c3e7b84-3321-42e2-e5f9-b1fefed8f424",
        "colab": {
          "base_uri": "https://localhost:8080/"
        }
      },
      "outputs": [
        {
          "output_type": "stream",
          "name": "stdout",
          "text": [
            "[15, 30, 45, 60, 75, 90]\n"
          ]
        }
      ],
      "source": [
        "l_c = [x for x in range(1,100) if x % 3 == 0 if x % 5 == 0]\n",
        "#you dont have to use (and) in list comprehension\n",
        "print(l_c)"
      ]
    },
    {
      "cell_type": "code",
      "source": [
        "l_c = [x for x in range(1,100) if x % 3 == 0 and x % 5 == 0]\n",
        "print(l_c)\n"
      ],
      "metadata": {
        "colab": {
          "base_uri": "https://localhost:8080/"
        },
        "id": "gG5LUIIKfh87",
        "outputId": "f48fc0b4-912a-4a1b-9650-78e153972f61"
      },
      "id": "gG5LUIIKfh87",
      "execution_count": null,
      "outputs": [
        {
          "output_type": "stream",
          "name": "stdout",
          "text": [
            "[15, 30, 45, 60, 75, 90]\n"
          ]
        }
      ]
    },
    {
      "cell_type": "markdown",
      "id": "1665fd16",
      "metadata": {
        "id": "1665fd16"
      },
      "source": [
        "# Exercise 5\n",
        "\n",
        "    Iterate through the dictionary, and return the count of all values that contain the string\n",
        "    \"RGB\""
      ]
    },
    {
      "cell_type": "code",
      "execution_count": null,
      "id": "e74d38bb",
      "metadata": {
        "id": "e74d38bb"
      },
      "outputs": [],
      "source": [
        "dict_to_iterate = {\n",
        "    \"RGeeBee\":100,\n",
        "    \"Yellow\":200,\n",
        "    \"Red\":300,\n",
        "    \"Teal\":400,\n",
        "    \"rgb\":500,\n",
        "    600:\"RGB\",\n",
        "    300:\"Waffles\",\n",
        "    \"HiddenFigures\":\"Orange\",\n",
        "    \"Wowza\":\"RGB\"\n",
        "}\n",
        "\n",
        "counter = 0"
      ]
    },
    {
      "cell_type": "code",
      "source": [
        "for value in dict_to_iterate.values():\n",
        "    if 'RGB'in str(value):\n",
        "        counter += 1\n",
        "print(counter)"
      ],
      "metadata": {
        "colab": {
          "base_uri": "https://localhost:8080/"
        },
        "id": "it09eXXj_xfl",
        "outputId": "5e0b1e3c-381b-4051-d528-38d54255befc"
      },
      "id": "it09eXXj_xfl",
      "execution_count": null,
      "outputs": [
        {
          "output_type": "stream",
          "name": "stdout",
          "text": [
            "2\n"
          ]
        }
      ]
    },
    {
      "cell_type": "markdown",
      "id": "ef29621b",
      "metadata": {
        "id": "ef29621b"
      },
      "source": [
        "# Exercise 6\n",
        "    \n",
        "    Create a list using list comprehension that produces a 2D Array that looks like the following\n",
        "        [[1,2,3],[4,5,6],[7,8,9]]"
      ]
    },
    {
      "cell_type": "code",
      "execution_count": null,
      "id": "30a47779",
      "metadata": {
        "id": "30a47779",
        "outputId": "00c10cea-78d4-447d-b7dd-e10e3eebf8db",
        "colab": {
          "base_uri": "https://localhost:8080/"
        }
      },
      "outputs": [
        {
          "output_type": "execute_result",
          "data": {
            "text/plain": [
              "[[1, 2, 3], [4, 5, 6], [7, 8, 9]]"
            ]
          },
          "metadata": {},
          "execution_count": 46
        }
      ],
      "source": [
        "new = [ [i+(3*j) for i in range(1,4)] for j in range(0,3)]\n",
        "new"
      ]
    },
    {
      "cell_type": "markdown",
      "id": "abf64340",
      "metadata": {
        "id": "abf64340"
      },
      "source": [
        "# Exercise 7\n",
        "\n",
        "    Using list comprehension, create a new list from the existing list that capitalizes every element."
      ]
    },
    {
      "cell_type": "code",
      "execution_count": null,
      "id": "2b5365c7",
      "metadata": {
        "id": "2b5365c7",
        "outputId": "173ae856-5b02-4e36-882c-5f5341050928",
        "colab": {
          "base_uri": "https://localhost:8080/"
        }
      },
      "outputs": [
        {
          "output_type": "execute_result",
          "data": {
            "text/plain": [
              "['What', 'How', 'Who', 'Where', 'Why']"
            ]
          },
          "metadata": {},
          "execution_count": 18
        }
      ],
      "source": [
        "old = [\"what\",\"how\",100,True,\"who\",\"where\",[100],'why']\n",
        "new = [i.capitalize() for i in old if type(i) == str]\n",
        "new"
      ]
    },
    {
      "cell_type": "markdown",
      "source": [
        "## How to use list comprehension to make all items upper **case** **bold text**"
      ],
      "metadata": {
        "id": "wgBO9bsurJVi"
      },
      "id": "wgBO9bsurJVi"
    },
    {
      "cell_type": "code",
      "source": [
        "new_new = [i.upper()for i in old if type (i) == str]  #how to make every item in the list uppercase using list comprehension\n",
        "new_new"
      ],
      "metadata": {
        "colab": {
          "base_uri": "https://localhost:8080/"
        },
        "id": "IO9oa5uRqr7I",
        "outputId": "07b1ba0f-8516-40db-a1c8-b1deffadb73c"
      },
      "id": "IO9oa5uRqr7I",
      "execution_count": null,
      "outputs": [
        {
          "output_type": "execute_result",
          "data": {
            "text/plain": [
              "['WHAT', 'HOW', 'WHO', 'WHERE', 'WHY']"
            ]
          },
          "metadata": {},
          "execution_count": 3
        }
      ]
    },
    {
      "cell_type": "markdown",
      "source": [
        "## **How to make every item in the list lowercase using list comprehension**\n",
        "\n",
        "\n"
      ],
      "metadata": {
        "id": "EY14LISPriBx"
      },
      "id": "EY14LISPriBx"
    },
    {
      "cell_type": "code",
      "source": [
        "new_new_2 = [i.lower()for i in old if type (i) == str]  #how to make every item in the list lowercase using list comprehension\n",
        "new_new_2"
      ],
      "metadata": {
        "colab": {
          "base_uri": "https://localhost:8080/"
        },
        "id": "jFb3zxT_rT02",
        "outputId": "ca590852-e933-409d-d3b5-6c1a86252221"
      },
      "id": "jFb3zxT_rT02",
      "execution_count": null,
      "outputs": [
        {
          "output_type": "execute_result",
          "data": {
            "text/plain": [
              "['what', 'how', 'who', 'where', 'why']"
            ]
          },
          "metadata": {},
          "execution_count": 5
        }
      ]
    },
    {
      "cell_type": "code",
      "source": [
        "new_new_2 = [i.title()for i in old if type (i) == str]  #how to make every item in the list Upper using list comprehension\n",
        "new_new_2"
      ],
      "metadata": {
        "colab": {
          "base_uri": "https://localhost:8080/"
        },
        "id": "04265TU2hFyI",
        "outputId": "dbe6e922-4946-4a45-f2bd-12a7f4ab6ba4"
      },
      "id": "04265TU2hFyI",
      "execution_count": null,
      "outputs": [
        {
          "output_type": "execute_result",
          "data": {
            "text/plain": [
              "['What', 'How', 'Who', 'Where', 'Why']"
            ]
          },
          "metadata": {},
          "execution_count": 19
        }
      ]
    },
    {
      "cell_type": "markdown",
      "id": "b334cbc8",
      "metadata": {
        "id": "b334cbc8"
      },
      "source": [
        "# Exercise 8\n",
        "\n",
        "    Create a new dictionary from the exisiting dictionary that only contains the key value pairs, whoose sum is equal to 100"
      ]
    },
    {
      "cell_type": "code",
      "execution_count": null,
      "id": "ea6215c9",
      "metadata": {
        "id": "ea6215c9"
      },
      "outputs": [],
      "source": [
        "old = {100:1,99:20,50:100,30:70,22:91,55:92,202:-102,89:11}\n",
        "new = {}\n",
        "\n"
      ]
    },
    {
      "cell_type": "code",
      "source": [
        "for key, value in old.items():\n",
        "    if key + value == 100:\n",
        "        new[key]=value\n",
        "print(new)"
      ],
      "metadata": {
        "colab": {
          "base_uri": "https://localhost:8080/"
        },
        "outputId": "38454bc2-145c-4791-edb7-431078b00beb",
        "id": "1yOm28WqsrN0"
      },
      "execution_count": null,
      "outputs": [
        {
          "output_type": "stream",
          "name": "stdout",
          "text": [
            "{30: 70, 202: -102, 89: 11}\n"
          ]
        }
      ],
      "id": "1yOm28WqsrN0"
    },
    {
      "cell_type": "markdown",
      "id": "86e6cd53",
      "metadata": {
        "id": "86e6cd53"
      },
      "source": [
        "# Bonus Exercise 1\n",
        "\n",
        "    Given a list of strings strs, group the anagrams together. You can return the answer in any order.\n",
        "\n",
        "    An Anagram is a word or phrase formed by rearranging the letters of a different word or\n",
        "    phrase, typically using all the original letters exactly once.\n",
        "    \n",
        "    EX:\n",
        "    Input: strs = [\"eat\",\"tea\",\"tan\",\"ate\",\"nat\",\"bat\"]\n",
        "    Output: [[\"bat\"],[\"nat\",\"tan\"],[\"ate\",\"eat\",\"tea\"]]"
      ]
    },
    {
      "cell_type": "code",
      "execution_count": null,
      "id": "552a1b9e",
      "metadata": {
        "id": "552a1b9e"
      },
      "outputs": [],
      "source": []
    },
    {
      "cell_type": "markdown",
      "id": "00e7cf37",
      "metadata": {
        "id": "00e7cf37"
      },
      "source": [
        "# Bonus Exercise 2\n",
        "\n",
        "    Given an integer array nums, find the contiguous subarray (containing at least one number) which has the largest sum and return its sum.\n",
        "    \n",
        "    A subarray is a contiguous part of an array."
      ]
    },
    {
      "cell_type": "code",
      "execution_count": null,
      "id": "c92cb6ea",
      "metadata": {
        "id": "c92cb6ea"
      },
      "outputs": [],
      "source": []
    },
    {
      "cell_type": "markdown",
      "id": "78375924",
      "metadata": {
        "id": "78375924"
      },
      "source": [
        "# Bonus Exercise 3\n",
        "    \n",
        "    Given an integer array nums, return true if any value appears at least twice in the array, and return false if every element is distinct."
      ]
    },
    {
      "cell_type": "code",
      "execution_count": null,
      "id": "563da390",
      "metadata": {
        "id": "563da390",
        "colab": {
          "base_uri": "https://localhost:8080/",
          "height": 131
        },
        "outputId": "e41b63a9-3c63-422a-d893-91af93a508f4"
      },
      "outputs": [
        {
          "output_type": "error",
          "ename": "SyntaxError",
          "evalue": "ignored",
          "traceback": [
            "\u001b[0;36m  File \u001b[0;32m\"<ipython-input-2-cd9d83578ad8>\"\u001b[0;36m, line \u001b[0;32m3\u001b[0m\n\u001b[0;31m    even_array = [num if num %2 == 0 else \"#\" for num]\u001b[0m\n\u001b[0m                                                     ^\u001b[0m\n\u001b[0;31mSyntaxError\u001b[0m\u001b[0;31m:\u001b[0m invalid syntax\n"
          ]
        }
      ],
      "source": [
        "def sort_array(source_array):\n",
        "    odd_sort = sorted([num for num in x if num %2 != 0]) # set variable odd_sort to numbers not equal to modulo 2/even and wrapped in a sorted function to put in ascending order\n",
        "    even_array = [num if num %2 == 0 else \"#\" for num]"
      ]
    }
  ],
  "metadata": {
    "kernelspec": {
      "display_name": "Python 3",
      "language": "python",
      "name": "python3"
    },
    "language_info": {
      "codemirror_mode": {
        "name": "ipython",
        "version": 3
      },
      "file_extension": ".py",
      "mimetype": "text/x-python",
      "name": "python",
      "nbconvert_exporter": "python",
      "pygments_lexer": "ipython3",
      "version": "3.9.1"
    },
    "colab": {
      "provenance": []
    }
  },
  "nbformat": 4,
  "nbformat_minor": 5
}