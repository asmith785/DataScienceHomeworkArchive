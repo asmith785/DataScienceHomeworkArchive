{
  "cells": [
    {
      "cell_type": "markdown",
      "id": "c6e44769",
      "metadata": {
        "id": "c6e44769"
      },
      "source": [
        "# Exercise 1:\n",
        "\n",
        "    Create a function that is going to take in one input, a string called word.\n",
        "    \n",
        "    The function should return the \"middle\" character of the string.\n",
        "    If the word's length is odd, it is going to return the middle character, if it is even, it should return the middle two.\n"
      ]
    },
    {
      "cell_type": "code",
      "execution_count": null,
      "id": "65208872",
      "metadata": {
        "id": "65208872",
        "outputId": "7493958f-4114-45ff-8687-95f83764f825"
      },
      "outputs": [
        {
          "name": "stdout",
          "output_type": "stream",
          "text": [
            "Solution is incorrect\n"
          ]
        }
      ],
      "source": [
        "def get_middle(word):\n",
        "    if len(word) %2 != 0: #check if length of word is not even\n",
        "        middle_index = len(word)// 2  #make a varable equal the the length or word divided by floor division\n",
        "        #print(word,word[middle_index])\n",
        "    else:\n",
        "        mid_2 = len(word) // 2 +1   #set variable mid_2 to length of word divided by floor division to get the second middle value\n",
        "        mid_1 = mid_2 - 2 # set variable to mid_1 subtracted by 2 to get first middle value in\n",
        "        #print(word[mid_1:mid_2])\n",
        "        return(word[mid_1:mid_2])\n",
        "\n",
        "\n",
        "\n",
        "try:\n",
        "    assert(get_middle(\"test\") == \"es\")\n",
        "    assert(get_middle(\"testing\") == \"t\")\n",
        "    assert(get_middle(\"middle\") == \"dd\")\n",
        "    assert(get_middle(\"A\") == \"A\")\n",
        "    assert(get_middle(\"of\") == \"of\")\n",
        "    print('Correct')\n",
        "\n",
        "except AssertionError:\n",
        "    print(\"Solution is incorrect\")\n",
        "\n",
        "##TODO find out why its correct but gives me incorrect"
      ]
    },
    {
      "cell_type": "code",
      "execution_count": null,
      "id": "0d348c4e",
      "metadata": {
        "id": "0d348c4e",
        "outputId": "5a4cd4ba-92e9-4c4d-fab6-ad6349245df4"
      },
      "outputs": [
        {
          "name": "stdout",
          "output_type": "stream",
          "text": [
            "testing t\n"
          ]
        }
      ],
      "source": [
        "def get_middle(word):\n",
        "    if len(word) %2 != 0:\n",
        "        middle_index = len(word)// 2\n",
        "        print(word,word[middle_index])\n",
        "    else:\n",
        "        mid_2 = len(word) // 2 +1\n",
        "        mid_1 = mid_2 - 2\n",
        "        print(word[mid_1:mid_2])\n",
        "        return(word[mid_1:mid_2])\n",
        "\n",
        "get_middle(\"testing\")"
      ]
    },
    {
      "cell_type": "code",
      "execution_count": null,
      "id": "bf105948",
      "metadata": {
        "id": "bf105948",
        "outputId": "b3339046-96a1-46d0-d8a4-e9136dc6d274",
        "colab": {
          "base_uri": "https://localhost:8080/",
          "height": 52
        }
      },
      "outputs": [
        {
          "output_type": "stream",
          "name": "stdout",
          "text": [
            "es\n"
          ]
        },
        {
          "output_type": "execute_result",
          "data": {
            "application/vnd.google.colaboratory.intrinsic+json": {
              "type": "string"
            },
            "text/plain": [
              "'es'"
            ]
          },
          "metadata": {},
          "execution_count": 15
        }
      ],
      "source": [
        "def get_middle(word):\n",
        "    if len(word) %2 != 0:\n",
        "        middle_index = len(word)// 2\n",
        "        print(word,word[middle_index])\n",
        "    else:\n",
        "        mid_2 = int(len(word) / 2 +1)\n",
        "        mid_1 = mid_2 - 2\n",
        "        print(word[mid_1:mid_2])\n",
        "        return(word[mid_1:mid_2])\n",
        "\n",
        "get_middle(\"test\")"
      ]
    },
    {
      "cell_type": "code",
      "execution_count": null,
      "id": "d99cdf75",
      "metadata": {
        "id": "d99cdf75",
        "outputId": "55c390f2-d1bf-4684-cbf4-af6447254d25"
      },
      "outputs": [
        {
          "data": {
            "text/plain": [
              "'ll'"
            ]
          },
          "execution_count": 62,
          "metadata": {},
          "output_type": "execute_result"
        }
      ],
      "source": [
        "x = \"Hello\"\n",
        "\n",
        "x[2:4]"
      ]
    },
    {
      "cell_type": "markdown",
      "id": "b940d63b",
      "metadata": {
        "id": "b940d63b"
      },
      "source": [
        "# Exercise 2\n",
        "    You will be given an array of numbers. You have to sort the odd numbers\n",
        "    in ascending order while leaving the even numbers at their original positions.\n",
        "    \n",
        "    Examples\n",
        "    \n",
        "    [7, 1]  =>  [1, 7]\n",
        "    [5, 8, 6, 3, 4]  =>  [3, 8, 6, 5, 4]\n",
        "    [9, 8, 7, 6, 5, 4, 3, 2, 1, 0]  =>  [1, 8, 3, 6, 5, 4, 7, 2, 9, 0]\n",
        "    "
      ]
    },
    {
      "cell_type": "code",
      "execution_count": null,
      "id": "73e552d5",
      "metadata": {
        "id": "73e552d5",
        "outputId": "c9f859cd-c653-44cb-b6a2-b9c29422ed4b",
        "colab": {
          "base_uri": "https://localhost:8080/"
        }
      },
      "outputs": [
        {
          "output_type": "stream",
          "name": "stdout",
          "text": [
            "[1, '#', '#']\n",
            "[1, 3, '#']\n",
            "[1, 3, 5]\n",
            "Solution not Correct\n"
          ]
        }
      ],
      "source": [
        "def sort_array(source_array):\n",
        "    odd_sort = sorted([num for num in source_array if num %2 != 0]) # set variable odd_sort to numbers not equal to modulo 2/even and wrapped in a sorted function to put in ascending order\n",
        "    odd_array = [num if num %2 == 0 else \"#\" for num in odd_sort] # set variable odd_array to numbers equal to modulo 2/even else replace with #\n",
        "    for nums in odd_sort:\n",
        "        spot_holder = odd_array.index(\"#\")\n",
        "        odd_array[spot_holder] = nums\n",
        "        print(odd_array)\n",
        "    return odd_array\n",
        "\n",
        "\n",
        "\n",
        "\n",
        "try:\n",
        "    assert(sort_array([5, 3, 2, 8, 1, 4]) ==  [1, 3, 2, 8, 5, 4])\n",
        "    assert(sort_array([5, 3, 1, 8, 0])  == [1, 3, 5, 8, 0])\n",
        "    assert(sort_array([]) == [])\n",
        "    print(\"Correct\")\n",
        "except AssertionError:\n",
        "    print(\"Solution not Correct\")"
      ]
    },
    {
      "cell_type": "code",
      "execution_count": null,
      "id": "286b2e64",
      "metadata": {
        "id": "286b2e64",
        "outputId": "10edbe7b-1f5a-4aa7-90d9-256b9e6581d7"
      },
      "outputs": [
        {
          "name": "stdout",
          "output_type": "stream",
          "text": [
            "[1, 3, 7, 5, 10, 2]\n",
            "[1, 2, 3, 5, 7, 10]\n",
            "[1, 3, 7, 5]\n"
          ]
        }
      ],
      "source": [
        "x = [ 1, 3, 7, 5, 10,2]\n",
        "odd_x = [num for num in x if num %2 != 0]\n",
        "print(x)\n",
        "print(sorted(x))\n",
        "print(odd_x)"
      ]
    },
    {
      "cell_type": "markdown",
      "id": "df9764b1",
      "metadata": {
        "id": "df9764b1"
      },
      "source": [
        "# Exercise 3:\n",
        "\n",
        "    Given an integer x, return true if x is palindrome integer.\n",
        "\n",
        "    An integer is a palindrome when it reads the same backward as forward.\n",
        "\n",
        "    For example, 121 is a palindrome while 123 is not."
      ]
    },
    {
      "cell_type": "code",
      "execution_count": null,
      "id": "a6497f85",
      "metadata": {
        "id": "a6497f85",
        "outputId": "8cfd0876-e4b8-4f4f-eaff-289ee32f4ec1"
      },
      "outputs": [
        {
          "name": "stdout",
          "output_type": "stream",
          "text": [
            "Solution not Correct\n"
          ]
        }
      ],
      "source": [
        "def palindrome_checker(ints):\n",
        "    pass\n",
        "\n",
        "\n",
        "\n",
        "try:\n",
        "    assert(palindrome_checker(111) ==  True)\n",
        "    assert(palindrome_checker(1110) ==  False)\n",
        "    assert(palindrome_checker(100001) ==  True)\n",
        "    print(\"Correct\")\n",
        "except AssertionError:\n",
        "    print(\"Solution not Correct\")"
      ]
    },
    {
      "cell_type": "code",
      "execution_count": null,
      "id": "46ea600f",
      "metadata": {
        "id": "46ea600f"
      },
      "outputs": [],
      "source": []
    }
  ],
  "metadata": {
    "kernelspec": {
      "display_name": "Python 3",
      "language": "python",
      "name": "python3"
    },
    "language_info": {
      "codemirror_mode": {
        "name": "ipython",
        "version": 3
      },
      "file_extension": ".py",
      "mimetype": "text/x-python",
      "name": "python",
      "nbconvert_exporter": "python",
      "pygments_lexer": "ipython3",
      "version": "3.9.5"
    },
    "colab": {
      "provenance": []
    }
  },
  "nbformat": 4,
  "nbformat_minor": 5
}