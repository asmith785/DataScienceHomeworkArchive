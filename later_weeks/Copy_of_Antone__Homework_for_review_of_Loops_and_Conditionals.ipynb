{
  "cells": [
    {
      "cell_type": "markdown",
      "id": "a828e7d7",
      "metadata": {
        "id": "a828e7d7"
      },
      "source": [
        "# Exercise 1:\n",
        "\n",
        "    Identify the following parts of the next 3 code blocks.\n",
        "    The << expression>>, the <<obj>>, the << statement >>, and the\n",
        "    << iterable >>.\n",
        "    Not all code blocks will contain all of these pieces.\n",
        "\n"
      ]
    },
    {
      "cell_type": "code",
      "execution_count": null,
      "id": "095b95b1",
      "metadata": {
        "id": "095b95b1",
        "outputId": "31ebeb53-03f2-4b87-f586-f63e6f893f29",
        "colab": {
          "base_uri": "https://localhost:8080/"
        }
      },
      "outputs": [
        {
          "output_type": "stream",
          "name": "stdout",
          "text": [
            "1\n",
            "2\n",
            "3\n",
            "4\n",
            "5\n"
          ]
        }
      ],
      "source": [
        "x = [1,2,3,4,5]\n",
        "\n",
        "for number in x:\n",
        "    print(number)\n",
        "\n",
        "obj = number\n",
        "iterable = x\n",
        "statment = print number\n"
      ]
    },
    {
      "cell_type": "code",
      "execution_count": null,
      "id": "c4f3f486",
      "metadata": {
        "id": "c4f3f486"
      },
      "outputs": [],
      "source": [
        "i = 10\n",
        "\n",
        "while i > 0 :\n",
        "    print(\"Nom nom\")\n",
        "    i = i-1\n",
        "\n",
        "#while loop only have expressions and statements"
      ]
    },
    {
      "cell_type": "code",
      "execution_count": null,
      "id": "718d0394",
      "metadata": {
        "id": "718d0394",
        "colab": {
          "base_uri": "https://localhost:8080/"
        },
        "outputId": "d58c6381-b232-43fc-a5ed-b515be34455a"
      },
      "outputs": [
        {
          "output_type": "stream",
          "name": "stdout",
          "text": [
            "apples\n",
            "bananas\n",
            "cocoa\n"
          ]
        }
      ],
      "source": [
        "z = {\"apples\":10,\"bananas\":20,\"cocoa\":30}\n",
        "\n",
        "for key in z:\n",
        "    print(key)\n",
        "\n",
        "# obj = key\n",
        "# z = iterable\n",
        "# statement = print key"
      ]
    },
    {
      "cell_type": "markdown",
      "id": "372934d9",
      "metadata": {
        "id": "372934d9"
      },
      "source": [
        "# Exercise 2:\n",
        "\n",
        "    Complete the following code block to print out all of the values in a dictionary.\n",
        "    \n"
      ]
    },
    {
      "cell_type": "code",
      "execution_count": null,
      "id": "4fa97fee",
      "metadata": {
        "id": "4fa97fee",
        "outputId": "1e7f1a4c-3efc-490d-b085-167e4dfcacc0",
        "colab": {
          "base_uri": "https://localhost:8080/"
        }
      },
      "outputs": [
        {
          "output_type": "stream",
          "name": "stdout",
          "text": [
            "apples\n",
            "bananas\n",
            "cocoa\n"
          ]
        }
      ],
      "source": [
        "z = {\"apples\":10,\"bananas\":20,\"cocoa\":30}\n",
        "\n",
        "for food in z:\n",
        "    if \"a\" in food:  #if the letter \"a\" is in food listed in z\n",
        "        print(food) #print all items with the letter a in it\n",
        "\n",
        "#this only prints the items with the letter a in it but we need to keys also"
      ]
    },
    {
      "cell_type": "code",
      "source": [
        "for key in z:\n",
        "    print(key, ' : ', z[key]) #print the key\n",
        "\n",
        "# loop over the keys in dictionary, access value & print line each line\n",
        "\n"
      ],
      "metadata": {
        "id": "72dwt4HodewS",
        "outputId": "9d5d0613-e367-4e92-e969-958af8d7cec7",
        "colab": {
          "base_uri": "https://localhost:8080/"
        }
      },
      "id": "72dwt4HodewS",
      "execution_count": null,
      "outputs": [
        {
          "output_type": "stream",
          "name": "stdout",
          "text": [
            "apples  :  10\n",
            "bananas  :  20\n",
            "cocoa  :  30\n"
          ]
        }
      ]
    },
    {
      "cell_type": "code",
      "source": [
        "#pratice\n",
        "\n",
        "a = {\"pie\":10,\"pizza\":7,\"avacado\":6}\n",
        "\n",
        "for x in a:\n",
        "    if \"i\" in x:\n",
        "        print(x)\n",
        "\n"
      ],
      "metadata": {
        "id": "OhOHFMamfrqZ",
        "outputId": "ac20fb67-1fd4-4367-8ea5-b04f36da6461",
        "colab": {
          "base_uri": "https://localhost:8080/"
        }
      },
      "id": "OhOHFMamfrqZ",
      "execution_count": null,
      "outputs": [
        {
          "output_type": "stream",
          "name": "stdout",
          "text": [
            "pie\n",
            "pizza\n"
          ]
        }
      ]
    },
    {
      "cell_type": "code",
      "source": [
        "#how to print keys\n",
        "\n",
        "for keyss in a:\n",
        "    print (keyss)\n",
        ""
      ],
      "metadata": {
        "id": "KTxnmdVlgUr3",
        "outputId": "8cc28078-ebff-4a53-8c9b-9c2d047c4ea1",
        "colab": {
          "base_uri": "https://localhost:8080/"
        }
      },
      "id": "KTxnmdVlgUr3",
      "execution_count": null,
      "outputs": [
        {
          "output_type": "stream",
          "name": "stdout",
          "text": [
            "pie\n",
            "pizza\n",
            "avacado\n"
          ]
        }
      ]
    },
    {
      "cell_type": "code",
      "source": [
        "#need to master this\n",
        "\n",
        "for values in a:\n",
        "    print (values, \" : \", a[values])"
      ],
      "metadata": {
        "id": "ra25UNvIgub8",
        "outputId": "73117b7f-b896-461d-b729-4186708fc7d7",
        "colab": {
          "base_uri": "https://localhost:8080/"
        }
      },
      "id": "ra25UNvIgub8",
      "execution_count": null,
      "outputs": [
        {
          "output_type": "stream",
          "name": "stdout",
          "text": [
            "pie : 10\n",
            "pizza : 7\n",
            "avacado : 6\n"
          ]
        }
      ]
    },
    {
      "cell_type": "markdown",
      "id": "680ae46f",
      "metadata": {
        "id": "680ae46f"
      },
      "source": [
        "# Exercise 3:\n",
        "\n",
        "    Create a while loop that will print hello 10 times"
      ]
    },
    {
      "cell_type": "code",
      "execution_count": null,
      "id": "a9f5bf63",
      "metadata": {
        "id": "a9f5bf63",
        "outputId": "698589c1-7bbb-4ca2-edf0-face6543d48a",
        "colab": {
          "base_uri": "https://localhost:8080/"
        }
      },
      "outputs": [
        {
          "output_type": "stream",
          "name": "stdout",
          "text": [
            "hello\n",
            "hello\n",
            "hello\n",
            "hello\n",
            "hello\n",
            "hello\n",
            "hello\n",
            "hello\n",
            "hello\n",
            "hello\n"
          ]
        }
      ],
      "source": [
        "counter = 0 # starting number\n",
        "\n",
        "\n",
        "while counter < 10:\n",
        "    print(\"hello\")\n",
        "    counter = counter + 1 #plus one is added so we can count up to 10\n",
        "    #important to have a counter or loop will not end\n",
        "\n"
      ]
    },
    {
      "cell_type": "markdown",
      "id": "2effde4c",
      "metadata": {
        "id": "2effde4c"
      },
      "source": [
        "# Exercise 4:\n",
        "\n",
        "    Create a while loop that will iterate through list_to_fix.\n",
        "    It will add to the updated_list list all elements that do not contain the string apple.\n",
        "\n",
        "    "
      ]
    },
    {
      "cell_type": "code",
      "execution_count": null,
      "id": "4c4feb2e",
      "metadata": {
        "id": "4c4feb2e",
        "outputId": "651a585c-e541-4d3d-be7e-fc81f3f91cf6",
        "colab": {
          "base_uri": "https://localhost:8080/"
        }
      },
      "outputs": [
        {
          "output_type": "stream",
          "name": "stdout",
          "text": [
            "[]\n"
          ]
        }
      ],
      "source": [
        "list_to_fix = [\"apple\",1,\"apple\",2,\"apple\",\"wow\",\"apple\",\"applepie\",100,300,\"fire\"]\n",
        "updated_list = []\n",
        "\n",
        "\n",
        "while items in list_to_fix:\n",
        "    #if \"apple\" in items:\n",
        "    updated_list.append(items)\n",
        "\n",
        "print(updated_list)"
      ]
    },
    {
      "cell_type": "code",
      "source": [
        "#axl example\n",
        "list_to_fix = [\"apple\",1,\"apple\",2,\"apple\",\"wow\",\"apple\",\"applepie\",100,300,\"fire\"]\n",
        "updated_list = []\n",
        "\n",
        "\n",
        "i = 0\n",
        "end = len(list_to_fix)-1\n",
        "\n",
        "while i <= end:\n",
        "    if not (\"apple\" in str(list_to_fix[i])):\n",
        "        updated_list.append(list_to_fix[i])\n",
        "    i +=1\n",
        "\n",
        "print(updated_list)"
      ],
      "metadata": {
        "colab": {
          "base_uri": "https://localhost:8080/"
        },
        "id": "1gVfX4Mwn9VG",
        "outputId": "781b47b7-80f5-445d-d4a6-3556c8c2bd7a"
      },
      "id": "1gVfX4Mwn9VG",
      "execution_count": null,
      "outputs": [
        {
          "output_type": "stream",
          "name": "stdout",
          "text": [
            "[1, 2, 'wow', 100, 300, 'fire']\n"
          ]
        }
      ]
    },
    {
      "cell_type": "markdown",
      "id": "5960e5bb",
      "metadata": {
        "id": "5960e5bb"
      },
      "source": [
        "# Exercise 5:\n",
        "\n",
        "    Create a while loop that will add to the list all the integers from 1 to 100 that are divisible by 3 and 5."
      ]
    },
    {
      "cell_type": "code",
      "execution_count": null,
      "id": "82c66ca3",
      "metadata": {
        "id": "82c66ca3",
        "colab": {
          "base_uri": "https://localhost:8080/"
        },
        "outputId": "1e6b9281-15cf-4d90-ae2b-9481f81c2541"
      },
      "outputs": [
        {
          "output_type": "stream",
          "name": "stdout",
          "text": [
            "[15, 30, 45, 60, 75, 90]\n"
          ]
        }
      ],
      "source": [
        "list_of_numbers = []\n",
        "\n",
        "num = 1\n",
        "\n",
        "while num < 101:\n",
        "  if num % 3 == 0 and num % 5 == 0:\n",
        "    list_of_numbers.append(num)\n",
        "  num += 1\n",
        "\n",
        "print(list_of_numbers)"
      ]
    },
    {
      "cell_type": "code",
      "source": [
        "for num in range(1, 100):\n",
        "    if num %  and num % 5:\n",
        "\n",
        "\n",
        "        continue\n",
        "    print(num)"
      ],
      "metadata": {
        "colab": {
          "base_uri": "https://localhost:8080/"
        },
        "id": "qbGdXKOBu4fH",
        "outputId": "1ccf4db1-2d6f-4644-db11-40c0a349c1b6"
      },
      "id": "qbGdXKOBu4fH",
      "execution_count": null,
      "outputs": [
        {
          "output_type": "stream",
          "name": "stdout",
          "text": [
            "2\n",
            "4\n",
            "5\n",
            "6\n",
            "8\n",
            "10\n",
            "12\n",
            "14\n",
            "15\n",
            "16\n",
            "18\n",
            "20\n",
            "22\n",
            "24\n",
            "25\n",
            "26\n",
            "28\n",
            "30\n",
            "32\n",
            "34\n",
            "35\n",
            "36\n",
            "38\n",
            "40\n",
            "42\n",
            "44\n",
            "45\n",
            "46\n",
            "48\n",
            "50\n",
            "52\n",
            "54\n",
            "55\n",
            "56\n",
            "58\n",
            "60\n",
            "62\n",
            "64\n",
            "65\n",
            "66\n",
            "68\n",
            "70\n",
            "72\n",
            "74\n",
            "75\n",
            "76\n",
            "78\n",
            "80\n",
            "82\n",
            "84\n",
            "85\n",
            "86\n",
            "88\n",
            "90\n",
            "92\n",
            "94\n",
            "95\n",
            "96\n",
            "98\n"
          ]
        }
      ]
    },
    {
      "cell_type": "code",
      "source": [],
      "metadata": {
        "id": "qJ4gt0ftsCon"
      },
      "id": "qJ4gt0ftsCon",
      "execution_count": null,
      "outputs": []
    },
    {
      "cell_type": "markdown",
      "id": "b5abe4f4",
      "metadata": {
        "id": "b5abe4f4"
      },
      "source": [
        "# Exercise 6:\n",
        "\n",
        "    "
      ]
    },
    {
      "cell_type": "code",
      "execution_count": null,
      "id": "fdcb8544",
      "metadata": {
        "id": "fdcb8544"
      },
      "outputs": [],
      "source": []
    },
    {
      "cell_type": "markdown",
      "source": [],
      "metadata": {
        "id": "3tvFkOLowRqN"
      },
      "id": "3tvFkOLowRqN"
    },
    {
      "cell_type": "markdown",
      "id": "3cbdeae9",
      "metadata": {
        "id": "3cbdeae9"
      },
      "source": [
        "# Bonus Exercise 1:\n",
        "\n",
        "    Write a while loop that will iterate through a dictionary.\n",
        "    It should add to the new_dictionary any key,value pairs that don't have the string\n",
        "    \"teehee\" appearing in either the key or the value."
      ]
    },
    {
      "cell_type": "code",
      "execution_count": null,
      "id": "2e0664aa",
      "metadata": {
        "id": "2e0664aa"
      },
      "outputs": [],
      "source": [
        "old_dict = {\"teehee\":10,\"apples\":5,100:\"teehee\",\"teehee\":\"teehee\",\"tehe\":\"hehe\",\"100\":True,\"100\":\"teehee\",\"Oreos\":1000,\"I eat teehees\":\"Do you?\"}\n",
        "new_dict = {}"
      ]
    },
    {
      "cell_type": "markdown",
      "id": "0196c465",
      "metadata": {
        "id": "0196c465"
      },
      "source": [
        "# Bonus Exercise 2:\n",
        "\n",
        "    Using ONLY while loops, for loops, and if statements to find the 2 dictionaries that have a matching value.\n",
        "\n",
        "    Print the Index of the 2 dictionaries that have the same value and print the value match that it found.\n",
        "    \n",
        "    You should not nor do you need to use built in methods for this.\n",
        "    \n"
      ]
    },
    {
      "cell_type": "code",
      "execution_count": null,
      "id": "81f24aa9",
      "metadata": {
        "id": "81f24aa9"
      },
      "outputs": [],
      "source": [
        "list_of_dictionaries_to_search = [\n",
        "    {\"key1\":100,\"key3\":\"Wowza\",\"Wowza\":\"Tofu\"},\n",
        "    {\"carpool\":\"eww\",\"waffles\":\"you_found_me\",1000:10000},\n",
        "    {100:\"key1\",200:\"key2\",300:\"key3\"},\n",
        "    {100:32312431,200:200,300:300},\n",
        "    {\"key1\":600,\"key5\":\"key8\"},\n",
        "    {\"cake\":\"you_found_me\",},\n",
        "    {\"disguise\":\"zorro\",\"hehehe\":\"don't look\",\"i said\":\"stop looking!\"},\n",
        "]\n",
        "\n"
      ]
    },
    {
      "cell_type": "markdown",
      "id": "9de68210",
      "metadata": {
        "id": "9de68210"
      },
      "source": [
        "# Bonus Exercise 3:\n",
        "    Using loops, write a program that will reverse a given string.\n"
      ]
    },
    {
      "cell_type": "code",
      "execution_count": null,
      "id": "eed629e7",
      "metadata": {
        "id": "eed629e7"
      },
      "outputs": [],
      "source": []
    },
    {
      "cell_type": "code",
      "execution_count": null,
      "id": "2c88de7b",
      "metadata": {
        "id": "2c88de7b"
      },
      "outputs": [],
      "source": []
    }
  ],
  "metadata": {
    "kernelspec": {
      "display_name": "Python 3",
      "language": "python",
      "name": "python3"
    },
    "language_info": {
      "codemirror_mode": {
        "name": "ipython",
        "version": 3
      },
      "file_extension": ".py",
      "mimetype": "text/x-python",
      "name": "python",
      "nbconvert_exporter": "python",
      "pygments_lexer": "ipython3",
      "version": "3.9.1"
    },
    "colab": {
      "provenance": []
    }
  },
  "nbformat": 4,
  "nbformat_minor": 5
}