{
  "cells": [
    {
      "cell_type": "markdown",
      "metadata": {
        "id": "9tl33td-DcO-"
      },
      "source": [
        "# Exercise 1\n",
        "\n",
        "Create a function that will take in a list. It should sum up all the values of the integers in the list. Non-Integers should not be included in the sum."
      ]
    },
    {
      "cell_type": "code",
      "execution_count": null,
      "metadata": {
        "id": "aEueEzrqDcPB",
        "outputId": "b1a576b5-7927-40e3-f19f-6f2dd3d8568a",
        "colab": {
          "base_uri": "https://localhost:8080/",
          "height": 131
        }
      },
      "outputs": [
        {
          "output_type": "error",
          "ename": "SyntaxError",
          "evalue": "ignored",
          "traceback": [
            "\u001b[0;36m  File \u001b[0;32m\"<ipython-input-35-d1972eb762b3>\"\u001b[0;36m, line \u001b[0;32m6\u001b[0m\n\u001b[0;31m    continue\u001b[0m\n\u001b[0m    ^\u001b[0m\n\u001b[0;31mSyntaxError\u001b[0m\u001b[0;31m:\u001b[0m 'continue' not properly in loop\n"
          ]
        }
      ],
      "source": [
        "def get_sum(x):\n",
        "    add_int = 0\n",
        "    for item in x:\n",
        "        add_int+= int(item)\n",
        "    else:\n",
        "        continue\n",
        "\n",
        "try:\n",
        "    assert( get_sum([1,2,3,4,5]) == 15)\n",
        "    assert( get_sum([1,2,3,4,5,\"a\"]) == 15)\n",
        "    assert( get_sum([1,2,3,4,-5,\"a\",100,6,\"b\",5]) == 116)\n",
        "    print(\"Correct\")\n",
        "except AssertionError:\n",
        "    print(\"Incorrect\")"
      ]
    },
    {
      "cell_type": "code",
      "source": [
        "x = [1,2,3,4,5]\n",
        "\n",
        "add_int = []\n",
        "for item in x:\n",
        "    if item in x ==\"\":\n",
        "        append\n",
        "    print(sum(add_int))\n",
        "\n",
        "\n"
      ],
      "metadata": {
        "id": "ISmvpQTyDjws",
        "colab": {
          "base_uri": "https://localhost:8080/",
          "height": 236
        },
        "outputId": "12d87cbd-5d73-468b-a067-472f672f7137"
      },
      "execution_count": null,
      "outputs": [
        {
          "output_type": "error",
          "ename": "TypeError",
          "evalue": "ignored",
          "traceback": [
            "\u001b[0;31m---------------------------------------------------------------------------\u001b[0m",
            "\u001b[0;31mTypeError\u001b[0m                                 Traceback (most recent call last)",
            "\u001b[0;32m<ipython-input-12-5f711810f403>\u001b[0m in \u001b[0;36m<module>\u001b[0;34m()\u001b[0m\n\u001b[1;32m      4\u001b[0m \u001b[0;32mfor\u001b[0m \u001b[0mitem\u001b[0m \u001b[0;32min\u001b[0m \u001b[0mx\u001b[0m\u001b[0;34m:\u001b[0m\u001b[0;34m\u001b[0m\u001b[0;34m\u001b[0m\u001b[0m\n\u001b[1;32m      5\u001b[0m     \u001b[0madd_int\u001b[0m\u001b[0;34m+=\u001b[0m \u001b[0mint\u001b[0m\u001b[0;34m(\u001b[0m\u001b[0mitem\u001b[0m\u001b[0;34m)\u001b[0m\u001b[0;34m\u001b[0m\u001b[0;34m\u001b[0m\u001b[0m\n\u001b[0;32m----> 6\u001b[0;31m     \u001b[0mprint\u001b[0m\u001b[0;34m(\u001b[0m\u001b[0msum\u001b[0m\u001b[0;34m(\u001b[0m\u001b[0madd_int\u001b[0m\u001b[0;34m)\u001b[0m\u001b[0;34m)\u001b[0m\u001b[0;34m\u001b[0m\u001b[0;34m\u001b[0m\u001b[0m\n\u001b[0m\u001b[1;32m      7\u001b[0m \u001b[0;34m\u001b[0m\u001b[0m\n\u001b[1;32m      8\u001b[0m \u001b[0;34m\u001b[0m\u001b[0m\n",
            "\u001b[0;31mTypeError\u001b[0m: 'int' object is not iterable"
          ]
        }
      ]
    },
    {
      "cell_type": "code",
      "source": [],
      "metadata": {
        "id": "vVo4Yx3hDjol"
      },
      "execution_count": null,
      "outputs": []
    },
    {
      "cell_type": "markdown",
      "metadata": {
        "id": "F4P84cddDcPC"
      },
      "source": [
        "# Exercise 2\n",
        "\n",
        "Create a function that will take any amount of arguments. It should return a dictionary whoose key,value pairs should be a string that refers to the type of the object, along with the count of the object. For this exercise, your function should only need to handle 3 types, Bools, Ints, and Strings, it should ignore the rest.\n",
        "\n",
        "\n",
        "\n",
        "    EX.\n",
        "\n",
        "    input:\n",
        "    [\"hello\",1,2,3,True]\n",
        "\n",
        "\n",
        "    output:\n",
        "    {\"strings\":1,\"ints\":3,\"booleans\":1}\n",
        "\n",
        "    input:\n",
        "    [1,2,3,4,5]\n",
        "    \n",
        "    output:\n",
        "    {\"strings\":0,\"ints\":5,\"booleans\":0}"
      ]
    },
    {
      "cell_type": "code",
      "execution_count": null,
      "metadata": {
        "id": "nmngRlLsDcPD"
      },
      "outputs": [],
      "source": [
        "def get_counts(*kwargs):\n",
        "    for key in kwargs:\n",
        "        if len(kwargs) ==\n",
        ""
      ]
    },
    {
      "cell_type": "markdown",
      "metadata": {
        "id": "E80BXj76DcPE"
      },
      "source": [
        "# Exercise 3\n",
        "\n",
        "Using List Comprehension, create a list that contains all of the numbers between 1 and 100 that are divisible by 3 and 5."
      ]
    },
    {
      "cell_type": "code",
      "execution_count": null,
      "metadata": {
        "id": "e2qQeIfDDcPF",
        "outputId": "c81209ca-d6be-4a5c-bf9a-194bf9b017fc",
        "colab": {
          "base_uri": "https://localhost:8080/"
        }
      },
      "outputs": [
        {
          "output_type": "stream",
          "name": "stdout",
          "text": [
            "[15, 30, 45, 60, 75, 90]\n"
          ]
        }
      ],
      "source": [
        "gogo= [num for num in range(1,100) if num % 3 == 0 if num % 5 == 0]\n",
        "print(gogo)\n",
        "\n",
        "#for numbers in numbers in the range of 1 - 100 find numbers that modulo 3 and modulo 5\n",
        "\n"
      ]
    },
    {
      "cell_type": "markdown",
      "metadata": {
        "id": "Zlo4Dns-DcPF"
      },
      "source": [
        "# Exercise 4\n",
        "\n",
        "Using the Base Class Person, create a Child Class Adult that inherits from the child class, but takes in an extra argument called career.\n",
        "\n",
        "    Override the print_me() method in the Adult class so that it prints\n",
        "    \"My name is {name} and I work as a {career}\"."
      ]
    },
    {
      "cell_type": "code",
      "execution_count": null,
      "metadata": {
        "id": "6wTbnxybDcPF"
      },
      "outputs": [],
      "source": [
        "class Person():\n",
        "    def __init__(self,name,age):\n",
        "        self.name = name\n",
        "        self.age = age\n",
        "\n",
        "    def print_me(self):\n",
        "        print(f\"Hello my name is {self.name}\")\n",
        "\n",
        "\n",
        "class Adult(Person):\n",
        "    def __init__(self,name,age,career):\n",
        "        super().__init__(name,age)\n",
        "        self.career = career\n",
        "\n",
        "    def print_career(self):\n",
        "        print(f\" My name is {self.name} and I work as {self.career}\")"
      ]
    },
    {
      "cell_type": "code",
      "source": [
        "a = Adult(\"Burnaur\",27, \"google\")\n"
      ],
      "metadata": {
        "id": "S5lbAa1qJyeI"
      },
      "execution_count": null,
      "outputs": []
    },
    {
      "cell_type": "code",
      "source": [
        "a.print_career()"
      ],
      "metadata": {
        "id": "wsJ0ASbAKHjv",
        "outputId": "3101a4b4-35e2-400d-acc6-b7a20034cebb",
        "colab": {
          "base_uri": "https://localhost:8080/"
        }
      },
      "execution_count": null,
      "outputs": [
        {
          "output_type": "stream",
          "name": "stdout",
          "text": [
            " My name is Burnaur and I work as google\n"
          ]
        }
      ]
    },
    {
      "cell_type": "markdown",
      "metadata": {
        "id": "8K2Zi4e5DcPG"
      },
      "source": [
        "# Exercise 5\n",
        "    Create a function that takes in a string. The function should return the string reversed.\n",
        "    You can use any solution except for the reveresed function.\n",
        "\n",
        "    "
      ]
    },
    {
      "cell_type": "code",
      "execution_count": null,
      "metadata": {
        "id": "RbJfGowYDcPG",
        "outputId": "f552a2c7-1d99-4ca5-b12d-cd7d98907a67",
        "colab": {
          "base_uri": "https://localhost:8080/"
        }
      },
      "outputs": [
        {
          "output_type": "stream",
          "name": "stdout",
          "text": [
            "Correct\n"
          ]
        }
      ],
      "source": [
        "def reverse_string(word):\n",
        "    counter = 0\n",
        "    x = len(word)-1\n",
        "    string_list = list(word)\n",
        "    while counter<=x:\n",
        "        string_list[counter],string_list[x]=string_list[x],string_list[counter]\n",
        "        counter+=1\n",
        "        x-=1\n",
        "    return \"\".join(string_list)\n",
        "try:\n",
        "    assert(reverse_string(\"Hello\") == \"olleH\")\n",
        "    assert(reverse_string(\"ABBA\") == \"ABBA\")\n",
        "    assert(reverse_string(\"Wowza\") == \"azwoW\")\n",
        "    print(\"Correct\")\n",
        "except AssertionError:\n",
        "    print(\"Incorrect\")"
      ]
    }
  ],
  "metadata": {
    "interpreter": {
      "hash": "6b8157b6fa1ebbaed96c1c1d9635dcd49016c43deea78ac8da8888d62b60131e"
    },
    "kernelspec": {
      "display_name": "Python 3.9.1 64-bit",
      "language": "python",
      "name": "python3"
    },
    "language_info": {
      "codemirror_mode": {
        "name": "ipython",
        "version": 3
      },
      "file_extension": ".py",
      "mimetype": "text/x-python",
      "name": "python",
      "nbconvert_exporter": "python",
      "pygments_lexer": "ipython3",
      "version": "3.9.1"
    },
    "orig_nbformat": 4,
    "colab": {
      "provenance": []
    }
  },
  "nbformat": 4,
  "nbformat_minor": 0
}