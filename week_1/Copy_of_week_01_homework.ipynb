{
  "nbformat": 4,
  "nbformat_minor": 0,
  "metadata": {
    "kernelspec": {
      "display_name": "Python 3",
      "language": "python",
      "name": "python3"
    },
    "language_info": {
      "codemirror_mode": {
        "name": "ipython",
        "version": 3
      },
      "file_extension": ".py",
      "mimetype": "text/x-python",
      "name": "python",
      "nbconvert_exporter": "python",
      "pygments_lexer": "ipython3",
      "version": "3.8.5"
    },
    "colab": {
      "provenance": []
    }
  },
  "cells": [
    {
      "cell_type": "markdown",
      "metadata": {
        "id": "K1lkawQ5iEUJ"
      },
      "source": [
        "# Week 1 HW\n",
        "\n",
        "**Exercise 1 and 3 are due Monday 9/20**  \n",
        "**Exercise 2 and 4 are due Tuesday 9/21**  \n",
        "**Exercise 5 and 6 are due Wednesday 9/22**  "
      ]
    },
    {
      "cell_type": "markdown",
      "metadata": {
        "id": "PTdgegCMiEUK"
      },
      "source": [
        "# Exercise 1"
      ]
    },
    {
      "cell_type": "markdown",
      "metadata": {
        "id": "Jod6PIgIiEUL"
      },
      "source": [
        "a. Set a variable to a user input."
      ]
    },
    {
      "cell_type": "code",
      "metadata": {
        "id": "d5G692d0iEUL",
        "colab": {
          "base_uri": "https://localhost:8080/"
        },
        "outputId": "f9efdee0-a7bf-4282-eec7-c81ace01773c"
      },
      "source": [
        "username = input (\"enter_name\")"
      ],
      "execution_count": null,
      "outputs": [
        {
          "name": "stdout",
          "output_type": "stream",
          "text": [
            "enter_nameAntone\n"
          ]
        }
      ]
    },
    {
      "cell_type": "markdown",
      "metadata": {
        "id": "0gomI9VUiEUL"
      },
      "source": [
        "b. Set two variables in the same statement."
      ]
    },
    {
      "cell_type": "code",
      "metadata": {
        "id": "OGwldXzZiEUL",
        "colab": {
          "base_uri": "https://localhost:8080/"
        },
        "outputId": "8e95f26c-cb18-49e0-fdda-bbedd377ab96"
      },
      "source": [
        "variable1, variable2 = 1,2\n",
        "print (variable1,variable2)"
      ],
      "execution_count": null,
      "outputs": [
        {
          "output_type": "stream",
          "name": "stdout",
          "text": [
            "1 2\n"
          ]
        }
      ]
    },
    {
      "cell_type": "markdown",
      "metadata": {
        "id": "k29xbI6DiEUL"
      },
      "source": [
        "c. Create a variable with a value that when cast as a bool returns True."
      ]
    },
    {
      "cell_type": "code",
      "metadata": {
        "id": "Hwy4nAMdiEUL",
        "colab": {
          "base_uri": "https://localhost:8080/"
        },
        "outputId": "3c7dd3b2-e3e7-4dca-9ae6-74ffd69cbf19"
      },
      "source": [
        "age = 100\n",
        "print (age > 5)"
      ],
      "execution_count": null,
      "outputs": [
        {
          "output_type": "stream",
          "name": "stdout",
          "text": [
            "True\n"
          ]
        }
      ]
    },
    {
      "cell_type": "markdown",
      "metadata": {
        "id": "4Os0w-b-iEUM"
      },
      "source": [
        "d. If we add up all the numbers from 0 to 100, we get 5050.\n",
        "\n",
        "What sum do we get if we add up all the numbers from 0 to 1000?\n",
        "\n",
        "(Show your work)"
      ]
    },
    {
      "cell_type": "code",
      "metadata": {
        "id": "OpHp1iMbiEUM",
        "colab": {
          "base_uri": "https://localhost:8080/"
        },
        "outputId": "d2d08037-5ac8-4ab1-a89b-a63429ff6a6e"
      },
      "source": [
        "j = 0\n",
        "sum = 0\n",
        "while j < 1001:\n",
        "  sum += j\n",
        "  j += 1\n",
        "print(\"sum\", sum)\n"
      ],
      "execution_count": null,
      "outputs": [
        {
          "output_type": "stream",
          "name": "stdout",
          "text": [
            "sum 500500\n"
          ]
        }
      ]
    },
    {
      "cell_type": "markdown",
      "metadata": {
        "id": "c0fO_Q55iEUM"
      },
      "source": [
        "# Exercise 2\n",
        "\n",
        "Convert the following logical statements into python. Print the result for each possible combination (TT, TF, FT, FF)"
      ]
    },
    {
      "cell_type": "markdown",
      "metadata": {
        "id": "ISoInhQwiEUM"
      },
      "source": [
        "¬(p || q )  "
      ]
    },
    {
      "cell_type": "code",
      "metadata": {
        "id": "aGopxEA-iEUM"
      },
      "source": [],
      "execution_count": null,
      "outputs": []
    },
    {
      "cell_type": "markdown",
      "metadata": {
        "id": "Rp33_cJziEUM"
      },
      "source": [
        "( p || q ) ⊕ ( p & q)"
      ]
    },
    {
      "cell_type": "code",
      "metadata": {
        "id": "Hzn-HVFziEUN"
      },
      "source": [],
      "execution_count": null,
      "outputs": []
    },
    {
      "cell_type": "markdown",
      "metadata": {
        "id": "zHn8Umw-iEUN"
      },
      "source": [
        "(p & ¬q ) || (¬p & q)"
      ]
    },
    {
      "cell_type": "code",
      "metadata": {
        "id": "Wvka0rauiEUN"
      },
      "source": [],
      "execution_count": null,
      "outputs": []
    },
    {
      "cell_type": "markdown",
      "metadata": {
        "id": "lLo9HwabiEUN"
      },
      "source": [
        "# Exercise 3"
      ]
    },
    {
      "cell_type": "markdown",
      "metadata": {
        "id": "ZsEnEHY3iEUN"
      },
      "source": [
        " a. Create an array of strings that consist of five individual zeros followed by five individual ones. Demonstrate that it's an array, and that this is an array of strings using a built-in python function."
      ]
    },
    {
      "cell_type": "code",
      "metadata": {
        "id": "BZ9ofNcPiEUN",
        "colab": {
          "base_uri": "https://localhost:8080/"
        },
        "outputId": "e9444834-e763-45c6-a125-7a5bec41b909"
      },
      "source": [
        "array = [\"0\",\"0\",\"0\",\"0\",\"0\",\"1\",\"1\",\"1\",\"1\"]\n",
        "print (type (\"0\"))\n",
        "print (type (array))\n",
        "isinstance (array, type(array))\n"
      ],
      "execution_count": null,
      "outputs": [
        {
          "output_type": "stream",
          "name": "stdout",
          "text": [
            "<class 'str'>\n",
            "<class 'list'>\n"
          ]
        },
        {
          "output_type": "execute_result",
          "data": {
            "text/plain": [
              "True"
            ]
          },
          "metadata": {},
          "execution_count": 15
        }
      ]
    },
    {
      "cell_type": "markdown",
      "metadata": {
        "id": "2C_sm6IsiEUN"
      },
      "source": [
        "b. Create an array of integers that consists of the same. Output the number of elements in the array using a built-in python function"
      ]
    },
    {
      "cell_type": "code",
      "metadata": {
        "id": "G2BuRdxViEUO",
        "colab": {
          "base_uri": "https://localhost:8080/"
        },
        "outputId": "5a2abd22-5c31-45b0-8b86-d05129d58ff8"
      },
      "source": [
        "array = [\"7\",\"7\",\"7\",\"7\",\"7\",\"7\"]\n",
        "x = array.count(\"7\")\n",
        "print(x)\n"
      ],
      "execution_count": null,
      "outputs": [
        {
          "output_type": "stream",
          "name": "stdout",
          "text": [
            "6\n"
          ]
        }
      ]
    },
    {
      "cell_type": "markdown",
      "metadata": {
        "id": "bat23lo3iEUO"
      },
      "source": [
        "c. Create an array of floats that consists of the same. Demonstrate that this array is one of floats using a built-in python function."
      ]
    },
    {
      "cell_type": "code",
      "metadata": {
        "id": "8wJsqrP2iEUO",
        "colab": {
          "base_uri": "https://localhost:8080/"
        },
        "outputId": "931626ef-8256-4573-da38-0875be59f488"
      },
      "source": [
        "array = [1.2,1.2,1.2,1.2]\n",
        "print (type (1.2))\n",
        "isinstance (array, type(array))"
      ],
      "execution_count": null,
      "outputs": [
        {
          "output_type": "stream",
          "name": "stdout",
          "text": [
            "<class 'float'>\n"
          ]
        },
        {
          "output_type": "execute_result",
          "data": {
            "text/plain": [
              "True"
            ]
          },
          "metadata": {},
          "execution_count": 11
        }
      ]
    },
    {
      "cell_type": "markdown",
      "metadata": {
        "id": "iuDF8dXbiEUO"
      },
      "source": [
        "d. Create an array of bools that consists of the same. Demonstrate that this array is one of bools using a built-in python function."
      ]
    },
    {
      "cell_type": "code",
      "metadata": {
        "id": "6akovZGmiEUO",
        "colab": {
          "base_uri": "https://localhost:8080/"
        },
        "outputId": "b883c002-a865-4506-fc43-08b85c7aa1bc"
      },
      "source": [
        "array = [1.2,1.2,1.2,1.2]\n",
        "isinstance (array, type(array))"
      ],
      "execution_count": null,
      "outputs": [
        {
          "output_type": "execute_result",
          "data": {
            "text/plain": [
              "True"
            ]
          },
          "metadata": {},
          "execution_count": 7
        }
      ]
    },
    {
      "cell_type": "markdown",
      "metadata": {
        "id": "2s0uy2tBiEUO"
      },
      "source": [
        "# Exercise 4\n",
        "\n",
        "Without actually using Python, determine what the following would evaluate\n",
        "to in Python and explain step-by-step how you arrived at this answer:\n",
        "\n",
        "    a. (1 or ((0 or 0) or 1)) or 1\n",
        "    b. ((1 or 0) or 0 or 1) or 1\n",
        "    c. 1 or 0 or 0 or 1 or 1\n",
        "    \n",
        "Change the following cells to markdown and fill your answer in them."
      ]
    },
    {
      "cell_type": "markdown",
      "metadata": {
        "id": "Y8cKD59-iEUO"
      },
      "source": []
    },
    {
      "cell_type": "markdown",
      "metadata": {
        "id": "rt35JBEHiEUO"
      },
      "source": [
        "# Exercise 5\n",
        "\n",
        "To convert Fahrenheit to Celsius, you use the following formula:\n",
        "\n",
        "$$\n",
        "    C^{\\circ} = \\frac{ (F^{\\circ} - 32)}{1.8}\n",
        "$$\n",
        "\n",
        "Given a Fahrenheit input `temperature`, write some python statements to print the temperature in Celsius.\n"
      ]
    },
    {
      "cell_type": "code",
      "metadata": {
        "id": "oVXJEBTkiEUO"
      },
      "source": [
        "temperature = input(\"Enter temperature in Fahrenheit: \")"
      ],
      "execution_count": null,
      "outputs": []
    },
    {
      "cell_type": "markdown",
      "metadata": {
        "id": "JEnEqy6fiEUP"
      },
      "source": [
        "# Exercise 6\n",
        "\n",
        "If given a height and a radius, print the volume of a cylinder.\n",
        "\n",
        "$$\n",
        "    V = \\pi r^2h\n",
        "$$"
      ]
    },
    {
      "cell_type": "code",
      "metadata": {
        "id": "FuZk2mCZiEUP"
      },
      "source": [
        "height = input(\"Enter a height: \")\n",
        "radius = input(\"Enter a radius: \")"
      ],
      "execution_count": null,
      "outputs": []
    },
    {
      "cell_type": "code",
      "metadata": {
        "id": "0b6n1I2SiEUP"
      },
      "source": [],
      "execution_count": null,
      "outputs": []
    }
  ]
}