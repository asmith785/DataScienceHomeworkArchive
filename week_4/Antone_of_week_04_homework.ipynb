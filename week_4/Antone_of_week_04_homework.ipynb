{
  "nbformat": 4,
  "nbformat_minor": 0,
  "metadata": {
    "kernelspec": {
      "display_name": "Python 3 (ipykernel)",
      "language": "python",
      "name": "python3"
    },
    "language_info": {
      "codemirror_mode": {
        "name": "ipython",
        "version": 3
      },
      "file_extension": ".py",
      "mimetype": "text/x-python",
      "name": "python",
      "nbconvert_exporter": "python",
      "pygments_lexer": "ipython3",
      "version": "3.8.2"
    },
    "colab": {
      "provenance": []
    }
  },
  "cells": [
    {
      "cell_type": "markdown",
      "metadata": {
        "id": "2YDtYKJoi7Hg"
      },
      "source": [
        "<div style=\"background: #000;\n",
        "            color: #FFF;\n",
        "            margin: 0px;\n",
        "                padding: 10px 0px 20px 0px;\n",
        "            text-align: center;\n",
        "                \">\n",
        "    <h1>Week 4 - Homework</h1>\n",
        "</div>\n",
        "\n",
        "<hr>\n",
        "<pre style=\"text-align: center;\">\n",
        "<h3>Due Tuesday before class time.</h3>\n",
        "Be prepared to present Exercise 1 and 2 on Tuesday.\n",
        "Be prepared to present Exercise 3 and 4 on Tuesday.\n",
        "</pre>\n",
        "<hr>\n"
      ]
    },
    {
      "cell_type": "markdown",
      "metadata": {
        "id": "NXKpv8Tci7Hi"
      },
      "source": [
        "# Exercise 1\n",
        "\n",
        "Create a function that takes both postional arguments and a keyword arguments."
      ]
    },
    {
      "cell_type": "code",
      "metadata": {
        "id": "vwDmHFqgi7Hi",
        "colab": {
          "base_uri": "https://localhost:8080/"
        },
        "outputId": "9b8f4feb-3ac6-448e-8b4f-d5728e3ea73d"
      },
      "source": [
        "def greet(name, message):\n",
        "  print(\"Hello\", name)\n",
        "  print(message)\n",
        "\n",
        "greet(message = \"What it do homie?\", name = \"Gohan\")"
      ],
      "execution_count": null,
      "outputs": [
        {
          "output_type": "stream",
          "name": "stdout",
          "text": [
            "Hello Gohan\n",
            "What it do homie?\n"
          ]
        }
      ]
    },
    {
      "cell_type": "markdown",
      "metadata": {
        "id": "oJkp-Buzi7Hi"
      },
      "source": [
        "# Exercise 2\n",
        "\n",
        "Fix the following function so that it takes an arbitrary number of arguments. Demonstrate this function works by unpacking `lst` into the function as 11 arguements."
      ]
    },
    {
      "cell_type": "code",
      "metadata": {
        "id": "XSxGOYa9i7Hj",
        "outputId": "70e93a58-079a-4517-ffcd-219f0f70b694"
      },
      "source": [
        "lst = [1,2,3,4,5,6,7,8,9,10]\n",
        "\n",
        "def values_to_string(lst):\n",
        "    new_list = []\n",
        "    for i in lst:\n",
        "        new_list.append(str(i))\n",
        "    return new_list\n",
        "\n",
        "values_to_string(lst)"
      ],
      "execution_count": null,
      "outputs": [
        {
          "data": {
            "text/plain": [
              "['1', '2', '3', '4', '5', '6', '7', '8', '9', '10']"
            ]
          },
          "execution_count": 7,
          "metadata": {},
          "output_type": "execute_result"
        }
      ]
    },
    {
      "cell_type": "markdown",
      "metadata": {
        "id": "QZfPJJdni7Hj"
      },
      "source": [
        "# Exercise 3\n",
        "\n",
        "Write a function that has an algorithm that is worst case 0(n)."
      ]
    },
    {
      "cell_type": "code",
      "metadata": {
        "id": "Pj0iNtsui7Hk"
      },
      "source": [],
      "execution_count": null,
      "outputs": []
    },
    {
      "cell_type": "markdown",
      "metadata": {
        "id": "NY_4-9NUi7Hk"
      },
      "source": [
        "# Exercise 4\n",
        "\n",
        "Write a function called `summer` that takes an arbitrary number of keyword arguments and then adds any arguments that are ints/floats to produce a sum.\n",
        "\n",
        "Hint:  \n",
        "`summer(**{a=True, b=1})` would return 1.   \n",
        "`summer(**{c=3, d=\"4\" })` would return 3."
      ]
    },
    {
      "cell_type": "code",
      "metadata": {
        "id": "DTpLVRndi7Hl"
      },
      "source": [],
      "execution_count": null,
      "outputs": []
    },
    {
      "cell_type": "markdown",
      "metadata": {
        "id": "xd2irPgRi7Hl"
      },
      "source": [
        "# Bonus\n",
        "\n",
        "Create a function that returns a lambda function. Show how it can be used to create new functions. Can you turn this into a decorator?\n",
        "\n",
        "Hint: see example from `week-04-class-02.ipynb` with the `mytripler` function"
      ]
    },
    {
      "cell_type": "code",
      "metadata": {
        "id": "vfZD45Agi7Hl",
        "colab": {
          "base_uri": "https://localhost:8080/"
        },
        "outputId": "c7bb74e4-190f-4d33-84e3-a196075a09e4"
      },
      "source": [
        "multiply_by = lambda x : multiplier_lambda(x)\n",
        "\n",
        "def multiplier_lambda(x):\n",
        "    return lambda y : x * y\n",
        "\n",
        "a = multiply_by(5)\n",
        "b = multiply_by(10)\n",
        "\n",
        "print(a(2))\n",
        "print(b(2))"
      ],
      "execution_count": null,
      "outputs": [
        {
          "output_type": "stream",
          "name": "stdout",
          "text": [
            "10\n",
            "20\n"
          ]
        }
      ]
    }
  ]
}