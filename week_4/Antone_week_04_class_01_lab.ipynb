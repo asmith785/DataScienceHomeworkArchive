{
  "nbformat": 4,
  "nbformat_minor": 0,
  "metadata": {
    "kernelspec": {
      "display_name": "Python 3 (ipykernel)",
      "language": "python",
      "name": "python3"
    },
    "language_info": {
      "codemirror_mode": {
        "name": "ipython",
        "version": 3
      },
      "file_extension": ".py",
      "mimetype": "text/x-python",
      "name": "python",
      "nbconvert_exporter": "python",
      "pygments_lexer": "ipython3",
      "version": "3.8.2"
    },
    "colab": {
      "provenance": []
    }
  },
  "cells": [
    {
      "cell_type": "markdown",
      "metadata": {
        "id": "8uwvQQnVyCju"
      },
      "source": [
        "<div style=\"background: #000;\n",
        "            color: #FFF;\n",
        "            margin: 0px;\n",
        "                padding: 10px 0px 20px 0px;\n",
        "            text-align: center;\n",
        "                \">\n",
        "    <h1>Lab</h1>\n",
        "</div>\n"
      ]
    },
    {
      "cell_type": "markdown",
      "metadata": {
        "id": "rMHbwyN2yCjw"
      },
      "source": [
        "# Question 1\n",
        "\n",
        "We'd like to create a function that takes a number and outputs the number with it's ordinal indictator (e.g. 1 -> 1st, 2 -> 2nd, and so on).\n",
        "\n",
        "Walk us through the steps we might need to take. DO NOT write any code. Try writing what we call \"pseudocode\"."
      ]
    },
    {
      "cell_type": "markdown",
      "metadata": {
        "id": "S1J97XAPyCjx"
      },
      "source": [
        "# Exercise 1\n",
        "\n",
        "Create a function that takes two parameters and returns a list."
      ]
    },
    {
      "cell_type": "code",
      "metadata": {
        "id": "c1yGhufPyCjx"
      },
      "source": [
        "def list_maker(b, c):\n",
        "  new_list = [b, c]\n",
        "  return new_list"
      ],
      "execution_count": null,
      "outputs": []
    },
    {
      "cell_type": "code",
      "metadata": {
        "id": "elcMOvRzzwVa",
        "colab": {
          "base_uri": "https://localhost:8080/"
        },
        "outputId": "28cddac7-9098-4d40-fe0a-068b8da909f9"
      },
      "source": [
        "type(list_maker (1,2))"
      ],
      "execution_count": null,
      "outputs": [
        {
          "output_type": "execute_result",
          "data": {
            "text/plain": [
              "list"
            ]
          },
          "metadata": {},
          "execution_count": 2
        }
      ]
    },
    {
      "cell_type": "markdown",
      "metadata": {
        "id": "Sv-M1skCyCjx"
      },
      "source": [
        "# Exercise 2\n"
      ]
    },
    {
      "cell_type": "markdown",
      "metadata": {
        "id": "sfU2tXMUyCjy"
      },
      "source": [
        "Create a function that will return the list of square roots from numbers from 1 to `n` (where `n` is the input)\n",
        "\n"
      ]
    },
    {
      "cell_type": "code",
      "metadata": {
        "id": "ca55v5qw0Yg2",
        "colab": {
          "base_uri": "https://localhost:8080/"
        },
        "outputId": "54e6b88e-00f5-4024-ff4f-3afca9c2ee28"
      },
      "source": [
        "n = int(input())\n",
        "square_lists = []\n",
        "\n",
        "def square_root(n):\n",
        "  for n in range(1, n+1):\n",
        "    square_lists.append(n**(1/2))\n",
        "  return square_lists\n",
        "square_root(n)\n",
        "\n"
      ],
      "execution_count": null,
      "outputs": [
        {
          "name": "stdout",
          "output_type": "stream",
          "text": [
            "9\n"
          ]
        },
        {
          "output_type": "execute_result",
          "data": {
            "text/plain": [
              "[1.0,\n",
              " 1.4142135623730951,\n",
              " 1.7320508075688772,\n",
              " 2.0,\n",
              " 2.23606797749979,\n",
              " 2.449489742783178,\n",
              " 2.6457513110645907,\n",
              " 2.8284271247461903,\n",
              " 3.0]"
            ]
          },
          "metadata": {},
          "execution_count": 10
        }
      ]
    },
    {
      "cell_type": "code",
      "metadata": {
        "id": "T728bxFF4FIP",
        "colab": {
          "base_uri": "https://localhost:8080/"
        },
        "outputId": "b0188b25-e2b2-4df9-ea62-04c0b57d450a"
      },
      "source": [
        "for i in range(1, 11):\n",
        "    print(i)"
      ],
      "execution_count": null,
      "outputs": [
        {
          "output_type": "stream",
          "name": "stdout",
          "text": [
            "1\n",
            "2\n",
            "3\n",
            "4\n",
            "5\n",
            "6\n",
            "7\n",
            "8\n",
            "9\n",
            "10\n"
          ]
        }
      ]
    },
    {
      "cell_type": "markdown",
      "metadata": {
        "id": "myz1DmYGyCjy"
      },
      "source": [
        "# Exercise 3\n",
        "\n",
        "Create a function that takes `n` as the input and returns a `n`x`n` matrix where all the values are zeros."
      ]
    },
    {
      "cell_type": "code",
      "metadata": {
        "id": "w0hyWu1MyCjy",
        "colab": {
          "base_uri": "https://localhost:8080/"
        },
        "outputId": "7474c6f8-c574-490e-c4c6-90b084cf71ef"
      },
      "source": [
        "n = int(input())\n",
        "\n",
        "def matrix(n):\n",
        "  l = []\n",
        "  for i in range(n):\n",
        "    list_of_z = [0]*n\n",
        "    print(list_of_z)\n",
        "\n",
        "matrix(n)"
      ],
      "execution_count": null,
      "outputs": [
        {
          "output_type": "stream",
          "name": "stdout",
          "text": [
            "5\n",
            "[0, 0, 0, 0, 0]\n",
            "[0, 0, 0, 0, 0]\n",
            "[0, 0, 0, 0, 0]\n",
            "[0, 0, 0, 0, 0]\n",
            "[0, 0, 0, 0, 0]\n"
          ]
        }
      ]
    }
  ]
}