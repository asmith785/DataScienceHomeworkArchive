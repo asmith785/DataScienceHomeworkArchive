{
  "nbformat": 4,
  "nbformat_minor": 0,
  "metadata": {
    "kernelspec": {
      "name": "python3",
      "display_name": "Python 3.9.5 64-bit"
    },
    "language_info": {
      "codemirror_mode": {
        "name": "ipython",
        "version": 3
      },
      "file_extension": ".py",
      "mimetype": "text/x-python",
      "name": "python",
      "nbconvert_exporter": "python",
      "pygments_lexer": "ipython3",
      "version": "3.9.5"
    },
    "interpreter": {
      "hash": "aee8b7b246df8f9039afb4144a1f6fd8d2ca17a180786b69acc140d282b71a49"
    },
    "colab": {
      "provenance": []
    }
  },
  "cells": [
    {
      "cell_type": "markdown",
      "metadata": {
        "id": "ob9-NjhFFDl2"
      },
      "source": [
        "<div style=\"background: #000;\n",
        "            color: #FFF;\n",
        "            margin: 0px;\n",
        "                padding: 10px 0px 20px 0px;\n",
        "            text-align: center;\n",
        "                \">\n",
        "    <h1>Week 5 - Class 1 - Lab</h1>\n",
        "</div>"
      ]
    },
    {
      "cell_type": "markdown",
      "metadata": {
        "id": "cXqSn4RnFDl4"
      },
      "source": [
        "# Question 1:\n",
        "\n",
        "What are signs you should use a recursive function? What happens when you do a recursive function call in a return statement?\n",
        "\n",
        "Walk us through how recursive functions work in your answer."
      ]
    },
    {
      "cell_type": "markdown",
      "metadata": {
        "id": "lgZWyExJClQi"
      },
      "source": [
        "Recursion is good for solving problems that can be broken down into smaller, repetitive problems. When you used a return statement in a recursion it calls back itself."
      ]
    },
    {
      "cell_type": "markdown",
      "metadata": {
        "id": "iUZfWpjwFDl5"
      },
      "source": [
        "# Exercise 1:\n",
        "\n",
        "Create a function using the following function that will take your choice of the following and input:\n",
        "\n",
        "\"R\" (rock), \"P\" (paper), or \"S\" (scissors)\n",
        "\n",
        "and return whether or not you beat the computer.\n"
      ]
    },
    {
      "cell_type": "code",
      "metadata": {
        "id": "DyOhdrLKFDl5",
        "colab": {
          "base_uri": "https://localhost:8080/"
        },
        "outputId": "51e5b25f-5068-4419-b417-062d2e1bd35e"
      },
      "source": [
        "import random\n",
        "def computers_turn():\n",
        "    choices = {\n",
        "        0: 'rock',\n",
        "        1: 'paper',\n",
        "        2: 'scissors',\n",
        "    }\n",
        "    turn = random.randint(0,2)\n",
        "    return (turn, choices[turn])\n",
        "\n",
        "computers_turn()"
      ],
      "execution_count": null,
      "outputs": [
        {
          "output_type": "execute_result",
          "data": {
            "text/plain": [
              "(1, 'paper')"
            ]
          },
          "metadata": {},
          "execution_count": 1
        }
      ]
    },
    {
      "cell_type": "code",
      "metadata": {
        "colab": {
          "base_uri": "https://localhost:8080/"
        },
        "id": "R8HRPmYqBqRP",
        "outputId": "76528c93-eafc-43d9-96fc-4f90fc935655"
      },
      "source": [
        "print(\"What's your name?\")\n",
        "\n",
        "name = input()\n",
        "\n",
        "print(\"Let's play the best game ever: Rock, Paper, Scissors!n\" ,name,\"!\")\n",
        "\n",
        "\n",
        "\n",
        "import random\n",
        "\n",
        "comp_wins = 0\n",
        "\n",
        "player_wins = 0\n",
        "\n",
        "tie_tie = 0\n",
        "\n",
        "\n",
        "\n",
        "\n",
        "\n",
        "def Choose_Option():\n",
        "\n",
        "   user_choice = input(\"Enter your choice (rock/paper/scissors): n\")\n",
        "\n",
        "   if user_choice in [\"Rock\", \"rock\", \"r\", \"R\"]:\n",
        "\n",
        "       user_choice = \"r\"\n",
        "\n",
        "   elif user_choice in [\"Paper\", \"paper\", \"p\", \"P\"]:\n",
        "\n",
        "       user_choice = \"p\"\n",
        "\n",
        "   elif user_choice in [\"Scissors\", \"scissors\", \"s\", \"S\"]:\n",
        "\n",
        "       user_choice = \"s\"\n",
        "\n",
        "   else:\n",
        "\n",
        "       print(\"try again.\")\n",
        "\n",
        "       Choose_Option()\n",
        "\n",
        "   return user_choice\n",
        "\n",
        "# function for computer\n",
        "\n",
        "def Computer_Option():\n",
        "\n",
        "   comp_choice = random.randint(1, 3)\n",
        "\n",
        "   if comp_choice == 1:\n",
        "\n",
        "       comp_choice = \"r\"\n",
        "\n",
        "   elif comp_choice == 2:\n",
        "\n",
        "       comp_choice = \"p\"\n",
        "\n",
        "   else:\n",
        "\n",
        "       comp_choice = \"s\"\n",
        "\n",
        "   return comp_choice\n",
        "\n",
        "while True:\n",
        "\n",
        "   user_choice = Choose_Option()\n",
        "\n",
        "   comp_choice = Computer_Option()\n",
        "\n",
        "   if user_choice == \"r\":\n",
        "\n",
        "       if comp_choice == \"r\":\n",
        "\n",
        "           print(\"You chose rock. n I chose rock. n Tied.\")\n",
        "\n",
        "           tie_tie += 1\n",
        "\n",
        "       elif comp_choice == \"p\":\n",
        "\n",
        "           print(\"You chose rock. n I chose paper. n You lose.\")\n",
        "\n",
        "           comp_wins += 1\n",
        "\n",
        "       elif comp_choice == \"s\":\n",
        "\n",
        "           print(\"You chose rock. n I chose scissors. n You win.\")\n",
        "\n",
        "           player_wins += 1\n",
        "\n",
        "   elif user_choice == \"p\":\n",
        "\n",
        "       if comp_choice == \"r\":\n",
        "\n",
        "           print(\" You chose paper.n I chose rock. n You win.\")\n",
        "\n",
        "           player_wins += 1\n",
        "\n",
        "       elif comp_choice == \"p\":\n",
        "\n",
        "           print(\"You chose paper.n I chose paper.n Tied.\")\n",
        "\n",
        "           tie_tie += 1\n",
        "\n",
        "       elif comp_choice == \"s\":\n",
        "\n",
        "           print(\"You chose paper.n I chose scissors.n You lose.\")\n",
        "\n",
        "           comp_wins += 1\n",
        "\n",
        "   elif user_choice == \"s\":\n",
        "\n",
        "       if comp_choice == \"r\":\n",
        "\n",
        "           print(\"You chose scissors.n I chose rock.n You lose.\")\n",
        "\n",
        "           comp_wins += 1\n",
        "\n",
        "       elif comp_choice == \"p\":\n",
        "\n",
        "           print(\"You chose scissors.n I chose paper.n You win.\")\n",
        "\n",
        "           player_wins += 1\n",
        "\n",
        "       elif comp_choice == \"s\":\n",
        "\n",
        "           print(\"You chose scissors.n I chose scissors.n You tied.\")\n",
        "\n",
        "           tie_tie += 1\n",
        "\n",
        "   user_choice = input(\"Do you want to play again? (y/n)n\")\n",
        "\n",
        "   if user_choice in [\"Y\", \"y\", \"yes\", \"Yes\"]:\n",
        "\n",
        "       pass\n",
        "\n",
        "   elif user_choice in [\"N\", \"n\", \"no\", \"No\"]:\n",
        "\n",
        "       break\n",
        "\n",
        "   else:\n",
        "\n",
        "       break\n",
        "\n",
        "# print out the total number of the user's wins, losses, and ties.\n",
        "\n",
        "print(\"Player wins: \" + str(player_wins))\n",
        "\n",
        "print(\"Computer wins: \" + str(comp_wins))\n",
        "\n",
        "print(\"Tie: \" + str(tie_tie))"
      ],
      "execution_count": null,
      "outputs": [
        {
          "output_type": "stream",
          "name": "stdout",
          "text": [
            "What's your name?\n",
            "Antone\n",
            "Let's play the best game ever: Rock, Paper, Scissors!n Antone !\n",
            "Enter your choice (rock/paper/scissors): npaper\n",
            "You chose paper.n I chose paper.n Tied.\n",
            "Do you want to play again? (y/n)nn\n",
            "Player wins: 0\n",
            "Computer wins: 0\n",
            "Tie: 1\n"
          ]
        }
      ]
    },
    {
      "cell_type": "markdown",
      "metadata": {
        "id": "WgfVOYX9FDl6"
      },
      "source": [
        "# Exercise 2:\n",
        "\n",
        "Create a function that takes a string, converts it to upper, sorts it and then take the `ord()` of each element of the string and adds it to a list. Output the final list."
      ]
    },
    {
      "cell_type": "code",
      "metadata": {
        "id": "kl3Y7v0lFDl6",
        "colab": {
          "base_uri": "https://localhost:8080/"
        },
        "outputId": "6705de01-15d6-448e-ac4a-c0db0a0499a7"
      },
      "source": [
        "def string_function(value):\n",
        "  upper_val = value.upper()\n",
        "  print(\"uppercase: \", upper_val)\n",
        "  sort_val = sorted(upper_val)\n",
        "  print(\"Sorted list: \", sort_val)\n",
        "\n",
        "  order_list =[]\n",
        "  for i in sort_val:\n",
        "    order_list.append(ord(i))\n",
        "\n",
        "  print(\"ASCII values: \")\n",
        "  return order_list\n",
        "string_function(\"table\")"
      ],
      "execution_count": null,
      "outputs": [
        {
          "output_type": "stream",
          "name": "stdout",
          "text": [
            "uppercase:  TABLE\n",
            "Sorted list:  ['A', 'B', 'E', 'L', 'T']\n",
            "ASCII values: \n"
          ]
        },
        {
          "output_type": "execute_result",
          "data": {
            "text/plain": [
              "[65, 66, 69, 76, 84]"
            ]
          },
          "metadata": {},
          "execution_count": 2
        }
      ]
    },
    {
      "cell_type": "markdown",
      "metadata": {
        "id": "h3UTQwkmFDl7"
      },
      "source": [
        "# Exercise 3:\n",
        "\n",
        "Create a recursive function that computers the powers of a number using the following equation:\n",
        "\n",
        "   $$ x^{n} = x * x^{n-1} $$"
      ]
    },
    {
      "cell_type": "code",
      "metadata": {
        "id": "LiABZV-GFDl7",
        "colab": {
          "base_uri": "https://localhost:8080/"
        },
        "outputId": "86173f10-3c04-49df-8d68-0f523a0ad916"
      },
      "source": [
        "def power_function(x, n):\n",
        "  if n ==0:\n",
        "    return 1\n",
        "\n",
        "  elif n == 1:\n",
        "    return x\n",
        "\n",
        "  else:\n",
        "    return (x * power_function(x, n-1))\n",
        "\n",
        "print(power_function(2, 2))"
      ],
      "execution_count": null,
      "outputs": [
        {
          "output_type": "stream",
          "name": "stdout",
          "text": [
            "4\n"
          ]
        }
      ]
    }
  ]
}