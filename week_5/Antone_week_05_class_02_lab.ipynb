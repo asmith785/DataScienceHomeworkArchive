{
  "nbformat": 4,
  "nbformat_minor": 0,
  "metadata": {
    "kernelspec": {
      "display_name": "Python 3",
      "language": "python",
      "name": "python3"
    },
    "language_info": {
      "codemirror_mode": {
        "name": "ipython",
        "version": 3
      },
      "file_extension": ".py",
      "mimetype": "text/x-python",
      "name": "python",
      "nbconvert_exporter": "python",
      "pygments_lexer": "ipython3",
      "version": "3.8.5"
    },
    "colab": {
      "provenance": []
    }
  },
  "cells": [
    {
      "cell_type": "markdown",
      "metadata": {
        "id": "zwFbeU0xajRw"
      },
      "source": [
        "<div style=\"background: #000;\n",
        "            color: #FFF;\n",
        "            margin: 0px;\n",
        "                padding: 10px 0px 20px 0px;\n",
        "            text-align: center;\n",
        "                \">\n",
        "    <h1>Week 5 - Class 2 - Lab</h1>\n",
        "</div>"
      ]
    },
    {
      "cell_type": "markdown",
      "metadata": {
        "id": "gQadtbh8ajRx"
      },
      "source": [
        "# Question 1:\n",
        "\n",
        "What is the time complexity of the following code? Explain your answer.\n",
        "\n",
        "```python3\n",
        "def function_a(*args):\n",
        "    array = []\n",
        "    length = len(args)\n",
        "    \n",
        "    for i in range(0, length-1):\n",
        "        print(i)\n",
        "    \n",
        "    for i in range(0, length-1):\n",
        "        for j in range(0, length-1):\n",
        "            for k in range(0, length-1):\n",
        "                array.append([i, j, k])\n",
        "    \n",
        "    for val in array:\n",
        "        print(val)\n",
        "    \n",
        "    return array\n",
        "            \n",
        "\n",
        "\n",
        "```\n"
      ]
    },
    {
      "cell_type": "markdown",
      "metadata": {
        "id": "TF3TD92KKb6j"
      },
      "source": [
        "\n",
        "\n",
        "```\n",
        "# This is formatted as code\n",
        "```\n",
        "\n",
        "It is triple nested because there is a \"for loop\" with three different ranges"
      ]
    },
    {
      "cell_type": "markdown",
      "metadata": {
        "id": "NjKCu8saajRy"
      },
      "source": [
        "# Exercise 1:\n",
        "\n",
        "Create a function of your own choosing that uses `if`, `for` or `while`. What is the time complexity?"
      ]
    },
    {
      "cell_type": "code",
      "metadata": {
        "id": "jP4MHq9SajRy"
      },
      "source": [
        "import time"
      ],
      "execution_count": null,
      "outputs": []
    },
    {
      "cell_type": "code",
      "metadata": {
        "colab": {
          "base_uri": "https://localhost:8080/"
        },
        "id": "Sg1QREv3KwDl",
        "outputId": "3dac1359-135f-46a8-c55b-c678d48fc364"
      },
      "source": [
        "def fact0(i):\n",
        "  if i == 30:\n",
        "    return 1\n",
        "\n",
        "print (fact0(100))\n",
        "\n",
        "#this is constant time because no matter what number you put the answer will always be none"
      ],
      "execution_count": null,
      "outputs": [
        {
          "output_type": "stream",
          "name": "stdout",
          "text": [
            "None\n"
          ]
        }
      ]
    },
    {
      "cell_type": "code",
      "metadata": {
        "colab": {
          "base_uri": "https://localhost:8080/"
        },
        "id": "JDAOUgevqICd",
        "outputId": "e950d9be-b3b8-4114-fa8f-616d414c134e"
      },
      "source": [
        "%timeit(fact0)\n",
        "#time test\n",
        "#please ignore this part added it for study purposes"
      ],
      "execution_count": null,
      "outputs": [
        {
          "output_type": "stream",
          "name": "stdout",
          "text": [
            "The slowest run took 35.36 times longer than the fastest. This could mean that an intermediate result is being cached.\n",
            "10000000 loops, best of 5: 33.6 ns per loop\n"
          ]
        }
      ]
    },
    {
      "cell_type": "markdown",
      "metadata": {
        "id": "yA6Uje69ajRy"
      },
      "source": [
        "# Exercise 2:\n",
        "\n",
        "Write a lambda function that checks whether or not a given string starts with a given character.\n",
        "\n",
        "Hint: Use a string method."
      ]
    },
    {
      "cell_type": "code",
      "metadata": {
        "id": "DdaLjk84ajRy",
        "colab": {
          "base_uri": "https://localhost:8080/"
        },
        "outputId": "c42fb84b-3f53-4a6e-d819-8be0f8d50977"
      },
      "source": [
        "starts_with = lambda x: True if x.startswith(\"G\") else False\n",
        "\n",
        "print(starts_with(\"Smith\"))\n"
      ],
      "execution_count": null,
      "outputs": [
        {
          "output_type": "stream",
          "name": "stdout",
          "text": [
            "True\n"
          ]
        }
      ]
    },
    {
      "cell_type": "code",
      "metadata": {
        "colab": {
          "base_uri": "https://localhost:8080/"
        },
        "id": "XQB2RdqGPJyQ",
        "outputId": "3088ff0e-1f85-42a1-a5f2-8a56339745ae"
      },
      "source": [
        "start = lambda x, y : x.startswith(y)\n",
        "\n",
        "start(\"Hi\", \"H\")"
      ],
      "execution_count": null,
      "outputs": [
        {
          "output_type": "execute_result",
          "data": {
            "text/plain": [
              "True"
            ]
          },
          "metadata": {},
          "execution_count": 6
        }
      ]
    },
    {
      "cell_type": "markdown",
      "metadata": {
        "id": "h14Q8OdPajRz"
      },
      "source": [
        "# Exercise 3:\n",
        "\n",
        "Create a function called `checker` that takes a tuple of three values, checks if there's a pair of numbers and returns the 3rd. If no doubles, return False. If there's a triple return the non-paired number and \"triple\" Use the code in the following cell to generate tuples.\n",
        "\n",
        "E.g.\n",
        "\n",
        "`checker(2,3,2)` would return 3    \n",
        "`checker(1,2,3)` would return False  \n",
        "`checker(3,3,3)` would return 3, \"triple\"  \n"
      ]
    },
    {
      "cell_type": "code",
      "metadata": {
        "id": "OrioI5xvajRz",
        "colab": {
          "base_uri": "https://localhost:8080/"
        },
        "outputId": "8ab73d14-b40b-4bc1-9c4e-77af96243cd2"
      },
      "source": [
        "import random\n",
        "\n",
        "def dice_roller():\n",
        "    return (random.randint(1,6), random.randint(1,6), random.randint(1,6))\n",
        "\n",
        "three_dice_rolls = dice_roller()\n",
        "\n",
        "three_dice_rolls"
      ],
      "execution_count": null,
      "outputs": [
        {
          "output_type": "execute_result",
          "data": {
            "text/plain": [
              "(1, 1, 6)"
            ]
          },
          "metadata": {},
          "execution_count": 9
        }
      ]
    },
    {
      "cell_type": "code",
      "metadata": {
        "colab": {
          "base_uri": "https://localhost:8080/"
        },
        "id": "PNiJEWo6m2Wr",
        "outputId": "cf87c873-dde9-4ba8-a79a-77bad1a1be27"
      },
      "source": [
        "def checker(three_tuple):\n",
        "\n",
        "  if three_tuple[0] == three_tuple[1] == three_tuple[2]:\n",
        "    return \"tuple\", three_tuple[0]\n",
        "\n",
        "  elif three_tuple[0] == three_tuple[1]:\n",
        "    return three_tuple[2]\n",
        "\n",
        "  elif three_tuple[0] == three_tuple[2]:\n",
        "    return three_tuple[1]\n",
        "\n",
        "  elif three_tuple[1] == three_tuple[2]:\n",
        "    return three_tuple[0]\n",
        "\n",
        "  else:\n",
        "    return False\n",
        "\n",
        "  return three_tuple\n",
        "\n",
        "checker(three_dice_rolls)"
      ],
      "execution_count": null,
      "outputs": [
        {
          "output_type": "execute_result",
          "data": {
            "text/plain": [
              "6"
            ]
          },
          "metadata": {},
          "execution_count": 10
        }
      ]
    },
    {
      "cell_type": "markdown",
      "metadata": {
        "id": "EX6C0nE1ajR0"
      },
      "source": [
        "# Bonus:\n",
        "\n",
        "Create your own naive (unsophisticated) sorting algorithm that takes a list of ints and sorts the elements. It doesn't not have to be efficient, it just needs to give the correct sorted list as output. No points for using any built in or library method that sorts."
      ]
    },
    {
      "cell_type": "code",
      "metadata": {
        "id": "i-iUJcxjajR0"
      },
      "source": [],
      "execution_count": null,
      "outputs": []
    }
  ]
}