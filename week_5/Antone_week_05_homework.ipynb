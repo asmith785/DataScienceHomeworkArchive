{
  "nbformat": 4,
  "nbformat_minor": 0,
  "metadata": {
    "kernelspec": {
      "display_name": "Python 3",
      "language": "python",
      "name": "python3"
    },
    "language_info": {
      "codemirror_mode": {
        "name": "ipython",
        "version": 3
      },
      "file_extension": ".py",
      "mimetype": "text/x-python",
      "name": "python",
      "nbconvert_exporter": "python",
      "pygments_lexer": "ipython3",
      "version": "3.7.4"
    },
    "colab": {
      "provenance": []
    }
  },
  "cells": [
    {
      "cell_type": "markdown",
      "metadata": {
        "id": "HS3B-ORWWGwA"
      },
      "source": [
        "<div style=\"background: #000;\n",
        "            color: #FFF;\n",
        "            margin: 0px;\n",
        "                padding: 10px 0px 20px 0px;\n",
        "            text-align: center;\n",
        "                \">\n",
        "    <h1>Week 5 - Homework</h1>\n",
        "</div>\n",
        "\n",
        "<hr>\n",
        "<pre style=\"text-align: center;\">\n",
        "Exercise 1 due Monday before class time.\n",
        "Exercise 2 due Tuesday before class time.\n",
        "Exercise 3 due Wednesday before class time.\n",
        "</pre>\n",
        "<hr>\n"
      ]
    },
    {
      "cell_type": "markdown",
      "metadata": {
        "id": "83NXX3UkWGwG"
      },
      "source": [
        "# Exercise 1\n",
        "\n",
        "Create a function that calculates the double factorial of an odd number. The double factorial of `n` is denoted by `n!!` and is the product of all odd integers up to and including `n`. You can do it using recursion (for bonus points) or any other method you can come up with.\n",
        "\n",
        "e.g.\n",
        "\n",
        "```\n",
        "9!! = 1 x 3 x 5 x 7 x 9 = 945\n",
        "```\n",
        "\n",
        "Output the following once your function works.\n",
        "\n",
        "`double_factorial(13)`"
      ]
    },
    {
      "cell_type": "code",
      "metadata": {
        "id": "d0ws03DpWGwI",
        "colab": {
          "base_uri": "https://localhost:8080/"
        },
        "outputId": "579c3800-23bd-4e14-91e4-c40566d640db"
      },
      "source": [
        "def double_factorial(n=13):\n",
        "    pass\n",
        "    if n == 0 or n == 1:\n",
        "      #if number==0 or number==1:\n",
        "      #n == 0 is even\n",
        "      #n == is odd\n",
        "        return 1\n",
        "    else:\n",
        "      #return number * double_fact (number-2)\n",
        "      #need to ask why we minus 2\n",
        "        return n * double_factorial(n-2)\n",
        "double_factorial()"
      ],
      "execution_count": null,
      "outputs": [
        {
          "output_type": "execute_result",
          "data": {
            "text/plain": [
              "135135"
            ]
          },
          "metadata": {},
          "execution_count": 11
        }
      ]
    },
    {
      "cell_type": "code",
      "metadata": {
        "id": "2WFjKq0IXsqE",
        "colab": {
          "base_uri": "https://localhost:8080/"
        },
        "outputId": "2dbc8306-70e6-42ec-d8b4-e91ad73f17e6"
      },
      "source": [
        "#test to see if it works\n",
        "double_factorial(9)"
      ],
      "execution_count": null,
      "outputs": [
        {
          "output_type": "execute_result",
          "data": {
            "text/plain": [
              "945"
            ]
          },
          "metadata": {},
          "execution_count": 9
        }
      ]
    },
    {
      "cell_type": "markdown",
      "metadata": {
        "id": "V1rVAPtrWGwK"
      },
      "source": [
        "# Exercise 2\n",
        "\n",
        "Create the decorator function(s) that wraps the `hello` function in the following html tags.\n",
        "\n",
        "hello() -> `<div><p><b>hello</b></p></div>`\n",
        "\n"
      ]
    },
    {
      "cell_type": "code",
      "metadata": {
        "id": "ickKtoIGWGwK"
      },
      "source": [
        "def hello():\n",
        "    return \"hello\""
      ],
      "execution_count": null,
      "outputs": []
    },
    {
      "cell_type": "code",
      "metadata": {
        "id": "y6LNEtzIjhxm",
        "colab": {
          "base_uri": "https://localhost:8080/"
        },
        "outputId": "01da8902-1f90-488a-b9f5-6cfe89ec62c7"
      },
      "source": [
        "def makebold(f):\n",
        "    return lambda: \"<div>\" + f() + \"</div>\"\n",
        "def makeitalic(f):\n",
        "    return lambda: \"<p><b>\" + f() + \"</b></p>\"\n",
        "\n",
        "@makebold\n",
        "@makeitalic\n",
        "def hello():\n",
        "    return \"hello\"\n",
        "\n",
        "print (hello())"
      ],
      "execution_count": null,
      "outputs": [
        {
          "output_type": "stream",
          "name": "stdout",
          "text": [
            "<div><p><b>hello</b></p></div>\n"
          ]
        }
      ]
    },
    {
      "cell_type": "markdown",
      "metadata": {
        "id": "Fv0CMj398lRO"
      },
      "source": [
        "Ignore code below trying to decipher for learning purposes"
      ]
    },
    {
      "cell_type": "code",
      "metadata": {
        "id": "KLcKcUWyjyVM",
        "colab": {
          "base_uri": "https://localhost:8080/"
        },
        "outputId": "c3987fd9-fa28-4fd0-bebc-9a6469a9990c"
      },
      "source": [
        "#code from stackoverflow\n",
        "\n",
        "\n",
        "from datetime import datetime\n",
        " #function that returns date contains year, month, day, hour, minute, second, and microsecond.\n",
        "\n",
        "def greet(name):\n",
        "    return \"Greetings, {}!\".format(name)\n",
        "\n",
        "\n",
        "def time_wrapper(fn):\n",
        "    def new_function(*args, **kwargs):\n",
        "      #Both Python *args and **kwargs let you pass a variable number of arguments into a function.\n",
        "       #*args arguments have no keywords whereas\n",
        "       #**kwargs arguments each are associated with a keyword\n",
        "        msg = fn(*args, **kwargs)\n",
        "        new_msg = \"Time: {} {} \".format(datetime.now(), msg)\n",
        "\n",
        "        return new_msg\n",
        "\n",
        "    return new_function\n",
        "\n",
        "\n",
        "greet = time_wrapper(greet)\n",
        "\n",
        "print(greet(\"masnun\"))"
      ],
      "execution_count": null,
      "outputs": [
        {
          "output_type": "stream",
          "name": "stdout",
          "text": [
            "Time: 2021-10-17 15:52:19.847755 Greetings, masnun! \n"
          ]
        }
      ]
    },
    {
      "cell_type": "markdown",
      "metadata": {
        "id": "wIC6tdwSWGwL"
      },
      "source": [
        "# Exercise 3\n",
        "\n",
        "If we list all the natural numbers below 10 that are multiples of 3 or 5, we get 3, 5, 6 and 9. The sum of these multiples is 23.\n",
        "\n",
        "Create a function that returns the sum of all the multiples of 3 or 5 below `n` where `n` is the inputted number.\n",
        "\n",
        "e.g.\n",
        "\n",
        "```\n",
        "n=10 -> 23\n",
        "n=25 -> 143\n",
        "n=50 -> 543\n",
        "n=100 -> 2318\n",
        "```"
      ]
    },
    {
      "cell_type": "code",
      "metadata": {
        "id": "2X0bxoeFxjoC"
      },
      "source": [],
      "execution_count": null,
      "outputs": []
    },
    {
      "cell_type": "code",
      "metadata": {
        "id": "T9gLG0uTWGwL"
      },
      "source": [
        "def sum_of_threes_and_fives(n=100):\n",
        "    pass\n",
        "\n",
        "sum_of_threes_and_fives()"
      ],
      "execution_count": null,
      "outputs": []
    },
    {
      "cell_type": "code",
      "metadata": {
        "id": "q2NlrzDZWGwM",
        "colab": {
          "base_uri": "https://localhost:8080/",
          "height": 200
        },
        "outputId": "f079ae72-a0dc-43ba-f635-b88e19308dc3"
      },
      "source": [
        "def multiples(m, count):\n",
        "    for i in range(0,count*m,m):\n",
        "        print(i)\n",
        "\n",
        "print(multiples(2))"
      ],
      "execution_count": null,
      "outputs": [
        {
          "output_type": "error",
          "ename": "TypeError",
          "evalue": "ignored",
          "traceback": [
            "\u001b[0;31m---------------------------------------------------------------------------\u001b[0m",
            "\u001b[0;31mTypeError\u001b[0m                                 Traceback (most recent call last)",
            "\u001b[0;32m<ipython-input-1-e7b838ab5e8d>\u001b[0m in \u001b[0;36m<module>\u001b[0;34m()\u001b[0m\n\u001b[1;32m      3\u001b[0m         \u001b[0mprint\u001b[0m\u001b[0;34m(\u001b[0m\u001b[0mi\u001b[0m\u001b[0;34m)\u001b[0m\u001b[0;34m\u001b[0m\u001b[0;34m\u001b[0m\u001b[0m\n\u001b[1;32m      4\u001b[0m \u001b[0;34m\u001b[0m\u001b[0m\n\u001b[0;32m----> 5\u001b[0;31m \u001b[0mprint\u001b[0m\u001b[0;34m(\u001b[0m\u001b[0mmultiples\u001b[0m\u001b[0;34m(\u001b[0m\u001b[0;36m2\u001b[0m\u001b[0;34m)\u001b[0m\u001b[0;34m)\u001b[0m\u001b[0;34m\u001b[0m\u001b[0;34m\u001b[0m\u001b[0m\n\u001b[0m",
            "\u001b[0;31mTypeError\u001b[0m: multiples() missing 1 required positional argument: 'count'"
          ]
        }
      ]
    },
    {
      "cell_type": "code",
      "metadata": {
        "id": "0l9pWZgI2EMv"
      },
      "source": [],
      "execution_count": null,
      "outputs": []
    }
  ]
}