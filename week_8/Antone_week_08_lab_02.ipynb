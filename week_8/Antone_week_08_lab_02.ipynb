{
  "nbformat": 4,
  "nbformat_minor": 0,
  "metadata": {
    "kernelspec": {
      "display_name": "Python 3",
      "language": "python",
      "name": "python3"
    },
    "language_info": {
      "codemirror_mode": {
        "name": "ipython",
        "version": 3
      },
      "file_extension": ".py",
      "mimetype": "text/x-python",
      "name": "python",
      "nbconvert_exporter": "python",
      "pygments_lexer": "ipython3",
      "version": "3.8.6"
    },
    "colab": {
      "provenance": []
    }
  },
  "cells": [
    {
      "cell_type": "markdown",
      "metadata": {
        "id": "sNBxkR7SHyX5"
      },
      "source": [
        "<div style=\"background: #000;\n",
        "            color: #FFF;\n",
        "            margin: 0px;\n",
        "                padding: 10px 0px 20px 0px;\n",
        "            text-align: center;\n",
        "                \">\n",
        "    <h1>Week 8 - Lab</h1>\n",
        "</div>\n"
      ]
    },
    {
      "cell_type": "markdown",
      "metadata": {
        "id": "jevVoxKTHyYA"
      },
      "source": [
        "# Exercise 1\n",
        "\n",
        "Create a class called `Person`.\n",
        "Make an attribute for the class called `x` and set it equal to 5.\n",
        "\n",
        "Create an instance of the `Person` class.\n",
        "Print out the `x` attribute of the instance."
      ]
    },
    {
      "cell_type": "code",
      "metadata": {
        "id": "BzVopWT3H3fZ",
        "colab": {
          "base_uri": "https://localhost:8080/"
        },
        "outputId": "fb9c616d-9e7b-4eb9-bf04-fc079b08b8b4"
      },
      "source": [
        "class Person():\n",
        "  def __init__(self):\n",
        "    self._x = 5\n",
        "\n",
        "p1 = Person()\n",
        "print(p1._x)"
      ],
      "execution_count": null,
      "outputs": [
        {
          "output_type": "stream",
          "name": "stdout",
          "text": [
            "5\n"
          ]
        }
      ]
    },
    {
      "cell_type": "markdown",
      "metadata": {
        "id": "kTrhFdetHyYB"
      },
      "source": [
        "# Excerise 2\n",
        "\n",
        "Create a class called `Student` with  the following attributes\n",
        "<br>`first_name`\n",
        "<br>`last_name`\n",
        "<br>`age`\n",
        "<br>`hw_grades`\n",
        "# `THINK ABOUT WHAT DATA STRUCTURE WE SHOULD BE USING FOR HW GRADES`\n",
        "# `THINK ABOUT THE DATA STRUCTURES WE KNOW. WHAT SEEMS APPROPRIATE? LISTS, DICTS, TUPLES OR SETS?`\n",
        "\n",
        "Create methods that:\n",
        "<br>Print the full name of the student\n",
        "<br>Adds a grade to the attribute `hw_grades`\n",
        "<br>Calculates the Student's average hw grade\n",
        "\n",
        "Create an instance of the class and ensure that all the methods works."
      ]
    },
    {
      "cell_type": "code",
      "metadata": {
        "id": "vpmHMdRdIpQR"
      },
      "source": [
        "class Student():\n",
        "  def __init__ (self,first_name, last_name, age, hw_grades):\n",
        "    self.first_name = first_name\n",
        "    self.last_name = last_name\n",
        "    self.age = age\n",
        "    self.hw_grades = hw_grades\n",
        "\n",
        "  def full_name(self):\n",
        "    print(self.first_name,self.last_name)\n",
        "\n",
        "  def add_hw_grade(self, grade):\n",
        "    self.grade = grade\n",
        "    if self.grade < 0 or self.grade > 100:\n",
        "      raise ValueError(\"INVADLID\")\n",
        "    self.hw_grades.append(self.grade)\n",
        "\n",
        "  def avg_hw_grades(self):\n",
        "    total = sum(self.hw_grades)/len(self.hw_grades)\n",
        "    return f\"This student's homework average is {total}.\"\n",
        "\n",
        "\n",
        "\n"
      ],
      "execution_count": null,
      "outputs": []
    },
    {
      "cell_type": "code",
      "metadata": {
        "id": "VXRcciWAMMPv",
        "colab": {
          "base_uri": "https://localhost:8080/",
          "height": 52
        },
        "outputId": "935fb8ff-f8a3-4117-b68b-12b1013fca13"
      },
      "source": [
        "ace = Student(\"Antone\", \"Smith\" , 34, [95])\n",
        "ace.full_name()\n",
        "ace.add_hw_grade(80)\n",
        "ace.add_hw_grade(96)\n",
        "ace.avg_hw_grades()\n",
        "\n",
        "\n"
      ],
      "execution_count": null,
      "outputs": [
        {
          "output_type": "stream",
          "name": "stdout",
          "text": [
            "Antone Smith\n"
          ]
        },
        {
          "output_type": "execute_result",
          "data": {
            "application/vnd.google.colaboratory.intrinsic+json": {
              "type": "string"
            },
            "text/plain": [
              "\"This student's homework average is 90.33333333333333.\""
            ]
          },
          "metadata": {},
          "execution_count": 2
        }
      ]
    },
    {
      "cell_type": "markdown",
      "metadata": {
        "id": "WZWl3ee5HyYC"
      },
      "source": [
        "# Exercise 3:\n",
        "Create a class called `Square` that overloads the addition operator by adding the area of two squares. You will need at least an attribute for length, a method for calculating area and the overloaded + operator method.\n",
        "\n",
        "e.g. Square(3) + Square(4) == 25"
      ]
    },
    {
      "cell_type": "code",
      "metadata": {
        "id": "Xmechz8HN5dq"
      },
      "source": [
        "class Square():\n",
        "  def __init__(self, lenght):\n",
        "    self.lenght = lenght\n",
        "\n",
        "  def area(self):\n",
        "    #if self.lenght != init or self.lenght != float:\n",
        "     # raise ValueError(\"NEED INT VALUE\")\n",
        "    a = self.lenght * self.lenght\n",
        "    return f'The area of the square is {a}'\n",
        "\n",
        "  def __add__(self,other):\n",
        "    lenght = self.lenght + other.lenght\n",
        "    return Square(lenght)\n",
        "\n",
        "\n",
        "\n"
      ],
      "execution_count": null,
      "outputs": []
    },
    {
      "cell_type": "code",
      "metadata": {
        "id": "SMulVjVzP1-M",
        "colab": {
          "base_uri": "https://localhost:8080/",
          "height": 35
        },
        "outputId": "f087fa8b-17c1-4c6c-8427-233ccdfaf235"
      },
      "source": [
        "s = Square(3)\n",
        "\n",
        "s.area()\n"
      ],
      "execution_count": null,
      "outputs": [
        {
          "output_type": "execute_result",
          "data": {
            "application/vnd.google.colaboratory.intrinsic+json": {
              "type": "string"
            },
            "text/plain": [
              "'The area of the square is 9'"
            ]
          },
          "metadata": {},
          "execution_count": 8
        }
      ]
    },
    {
      "cell_type": "markdown",
      "metadata": {
        "id": "4XPds8EJHyYD"
      },
      "source": [
        "\n",
        "# Exercise 4:\n",
        "Create a class called `Store` with an attribute called `inventory` that stores key value pairs which represent a product and its count.\n",
        "<br> `{\"oranges\":100,'apples':20}`\n",
        "\n",
        "Create a `buy` method that decrements from a key's value whenever an item is \"bought\"\n",
        "\n",
        "Create a method that lists the products for sale.\n",
        "<br>Create a method that allows you to add more products to the store's inventory.\n",
        "\n",
        "\n",
        "When you're finished, create an instance of Store and demonstrate that your methods/code work. Bonus points for addtional methods/functionality."
      ]
    },
    {
      "cell_type": "code",
      "metadata": {
        "id": "P8kixx0VhJ5z"
      },
      "source": [
        "class Store():\n",
        "  def __init__(self,inventory : dict):\n",
        "    self.inventory = inventory\n",
        "\n",
        "  def show_inventory(self):\n",
        "    for item, qty in self.inventory.items():\n",
        "      print(f\"{item}:{qty}\")\n",
        "\n",
        "  def buy(self, item, quantity):\n",
        "    if self.inventory.get(item):\n",
        "      updated_qty = self.inventory.get(item) - quantity\n",
        "      if updated_qty < 0:\n",
        "        self.inventory[item] = 0\n",
        "      else: inventory[item] = updated_qty\n",
        "    print(self.inventory)"
      ],
      "execution_count": null,
      "outputs": []
    },
    {
      "cell_type": "code",
      "metadata": {
        "id": "yEDdOh7OiBul"
      },
      "source": [
        "inventory = {\"pizza\": 5, \"oreos\": 3 , \"ice_cream\": 3, \"rice\": 4 }"
      ],
      "execution_count": null,
      "outputs": []
    },
    {
      "cell_type": "code",
      "metadata": {
        "id": "5Cj-nNbRiaux"
      },
      "source": [
        "corner_store = Store(inventory)"
      ],
      "execution_count": null,
      "outputs": []
    },
    {
      "cell_type": "code",
      "metadata": {
        "colab": {
          "base_uri": "https://localhost:8080/"
        },
        "id": "Us1iCzi7ir1d",
        "outputId": "974ef6ca-4561-4791-9e05-c8bc19be5b05"
      },
      "source": [
        "corner_store.inventory"
      ],
      "execution_count": null,
      "outputs": [
        {
          "output_type": "execute_result",
          "data": {
            "text/plain": [
              "{'ice_cream': 3, 'oreos': 3, 'pizza': 5, 'rice': 4}"
            ]
          },
          "metadata": {},
          "execution_count": 5
        }
      ]
    },
    {
      "cell_type": "code",
      "metadata": {
        "colab": {
          "base_uri": "https://localhost:8080/"
        },
        "id": "XqMjtzzgiw2A",
        "outputId": "052cabf9-9b17-45cf-e970-9816526e430f"
      },
      "source": [
        "corner_store.buy(\"pizza\", 2)"
      ],
      "execution_count": null,
      "outputs": [
        {
          "output_type": "stream",
          "name": "stdout",
          "text": [
            "{'pizza': 3, 'oreos': 3, 'ice_cream': 3, 'rice': 4}\n"
          ]
        }
      ]
    },
    {
      "cell_type": "code",
      "metadata": {
        "colab": {
          "base_uri": "https://localhost:8080/"
        },
        "id": "Hz_62Cydi7V0",
        "outputId": "be07624a-7a4b-49ab-8306-dabd4231b2b9"
      },
      "source": [
        "corner_store.inventory"
      ],
      "execution_count": null,
      "outputs": [
        {
          "output_type": "execute_result",
          "data": {
            "text/plain": [
              "{'ice_cream': 3, 'oreos': 3, 'pizza': 3, 'rice': 4}"
            ]
          },
          "metadata": {},
          "execution_count": 8
        }
      ]
    }
  ]
}