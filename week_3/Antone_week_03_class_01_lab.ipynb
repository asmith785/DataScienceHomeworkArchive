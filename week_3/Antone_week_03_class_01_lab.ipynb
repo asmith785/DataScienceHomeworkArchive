{
  "nbformat": 4,
  "nbformat_minor": 0,
  "metadata": {
    "kernelspec": {
      "display_name": "Python 3",
      "language": "python",
      "name": "python3"
    },
    "language_info": {
      "codemirror_mode": {
        "name": "ipython",
        "version": 3
      },
      "file_extension": ".py",
      "mimetype": "text/x-python",
      "name": "python",
      "nbconvert_exporter": "python",
      "pygments_lexer": "ipython3",
      "version": "3.9.0"
    },
    "colab": {
      "provenance": []
    }
  },
  "cells": [
    {
      "cell_type": "markdown",
      "metadata": {
        "id": "0uQfflOwE6CI"
      },
      "source": [
        "<div style=\"background: #000;\n",
        "            color: #FFF;\n",
        "            margin: 0px;\n",
        "                padding: 10px 0px 20px 0px;\n",
        "            text-align: center;\n",
        "                \">\n",
        "    <h1>Week 3 - Class 1 - Lab</h1>\n",
        "</div>\n"
      ]
    },
    {
      "cell_type": "markdown",
      "metadata": {
        "id": "S3Fzld-ZE6CK"
      },
      "source": [
        "# Question 1\n",
        "    \n",
        "Why do we need control structures and conditionals? Name one scenario we've encountered in previous assignments that could have benefitted from the use of these things. How would it have helped?"
      ]
    },
    {
      "cell_type": "markdown",
      "metadata": {
        "id": "HppBRCXB5SSJ"
      },
      "source": [
        "We need control structures to help the computer or program make proper decisions. There was a previous assignment to find out if the number we inputed was odd or even. We could of use a if statement to give us a boolin value to show if user put in a odd or even input."
      ]
    },
    {
      "cell_type": "markdown",
      "metadata": {
        "id": "kR01dJ6jE6CL"
      },
      "source": [
        "# Exercise 1\n",
        "\n",
        "Given the input variable, write conditional statements to return True if an element:\n",
        "* contains a string longer than 30.\n",
        "* is a number greater than 30.\n",
        "* is a string less than 30 characters containing a number.\n",
        "* otherwise store the value to a list."
      ]
    },
    {
      "cell_type": "code",
      "metadata": {
        "id": "fsCpFqPwE6CL",
        "colab": {
          "base_uri": "https://localhost:8080/"
        },
        "outputId": "9615d54f-9799-43ec-a0c0-0294a9934ad7"
      },
      "source": [
        "var = input(\"Enter input\")\n",
        "list_var = []\n",
        "\n",
        "if len (var) > 30:\n",
        "  print(\"type 1\", True)\n",
        "\n",
        "elif var.isnumeric:\n",
        "  if letters in int(var) < 30:\n",
        "    print(\"type 2\", True)\n",
        "\n",
        "elif var.isnumeric:\n",
        "  if int(var) > 30:\n",
        "    print(\"type 3\", True)\n",
        "\n",
        "else:\n",
        "  list_var.append(var)\n",
        "  print(list_var)"
      ],
      "execution_count": null,
      "outputs": [
        {
          "output_type": "stream",
          "name": "stdout",
          "text": [
            "Enter inputjjknknkdnknfsdkfnkjsadfnjkadsnbfjknaskdnfa\n",
            "type 1 True\n"
          ]
        }
      ]
    },
    {
      "cell_type": "markdown",
      "metadata": {
        "id": "lzX_RnEcE6CL"
      },
      "source": [
        "# Exercise 2\n",
        "\n",
        "Create a \"switch\" statement that takes a number and prints \"fizz\" if the number is greater than 0 **and** even, \"buzz\" if greater than 0 and odd, an absolute value of the number if negative, \"ZERO\" if 0 and \"not a number\" otherwise.\n"
      ]
    },
    {
      "cell_type": "code",
      "metadata": {
        "id": "pbTiArL9E6CL",
        "colab": {
          "base_uri": "https://localhost:8080/"
        },
        "outputId": "0e4719f2-bfd6-48d5-97aa-1c76999a204c"
      },
      "source": [
        "num = input(\"Enter a number:\")\n",
        "\n",
        "if not num.strip('-').isnumeric():\n",
        "  print(\"Not a number.\")\n",
        "\n",
        "elif int(num) > 0 and int(num) % 2 == 0:\n",
        "  print(\"fizz\")\n",
        "\n",
        "elif int(num) > 0 and int(num) % 2 == 1:\n",
        "  print(\"buzz\")\n",
        "\n",
        "elif int(num) < 0:\n",
        "  print(abs(int(num)))\n",
        "\n",
        "else:\n",
        "  print(\"Zero\")"
      ],
      "execution_count": null,
      "outputs": [
        {
          "output_type": "stream",
          "name": "stdout",
          "text": [
            "Enter a number:0\n",
            "Zero\n"
          ]
        }
      ]
    }
  ]
}