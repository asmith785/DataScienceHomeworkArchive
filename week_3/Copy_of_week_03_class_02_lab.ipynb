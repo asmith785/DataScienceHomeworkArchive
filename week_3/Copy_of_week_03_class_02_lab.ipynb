{
  "nbformat": 4,
  "nbformat_minor": 0,
  "metadata": {
    "kernelspec": {
      "display_name": "Python 3",
      "language": "python",
      "name": "python3"
    },
    "language_info": {
      "codemirror_mode": {
        "name": "ipython",
        "version": 3
      },
      "file_extension": ".py",
      "mimetype": "text/x-python",
      "name": "python",
      "nbconvert_exporter": "python",
      "pygments_lexer": "ipython3",
      "version": "3.9.0"
    },
    "colab": {
      "provenance": []
    }
  },
  "cells": [
    {
      "cell_type": "markdown",
      "metadata": {
        "id": "UJumHxpGwovG"
      },
      "source": [
        "<div style=\"background: #000;\n",
        "            color: #FFF;\n",
        "            margin: 0px;\n",
        "                padding: 10px 0px 20px 0px;\n",
        "            text-align: center;\n",
        "                \">\n",
        "    <h1>Week 3 - Class -2 - Lab</h1>\n",
        "</div>\n"
      ]
    },
    {
      "cell_type": "markdown",
      "metadata": {
        "id": "U8HVM__MwovI"
      },
      "source": [
        "# Question 1:\n",
        "\n",
        "In the future we will be using different datasets, how do you think we can utilize condtionals and control structures to clean, sort, and separate data?"
      ]
    },
    {
      "cell_type": "markdown",
      "metadata": {
        "id": "ugojblryGbGW"
      },
      "source": [
        "Datasets are used to store and contain data. Using conditionals and control stuctures help qucikly filtar throught data to get various needed results quicker."
      ]
    },
    {
      "cell_type": "markdown",
      "metadata": {
        "id": "P22ZHvuJwovI"
      },
      "source": [
        "# Exercise 1:\n",
        "\n",
        "Given any integer, create a conditional that checks if the integer is 3 digits. Print \"It's 3 digits\" if the number is three digits, print \"it's not three digits\" otherwise\n"
      ]
    },
    {
      "cell_type": "code",
      "metadata": {
        "id": "bhOA8d_GwovI"
      },
      "source": [
        "num = 36"
      ],
      "execution_count": null,
      "outputs": []
    },
    {
      "cell_type": "code",
      "metadata": {
        "id": "MaYaU0LK4uE3",
        "colab": {
          "base_uri": "https://localhost:8080/"
        },
        "outputId": "0e61ec53-d909-4803-8879-b3b83646330a"
      },
      "source": [
        "if num >= 100 and num < 1000 or num <= -100 and num > -1000:\n",
        "  print(\"It's 3 digits\")\n",
        "else:\n",
        "  print(\"It's not 3 digits\")"
      ],
      "execution_count": null,
      "outputs": [
        {
          "output_type": "stream",
          "name": "stdout",
          "text": [
            "It's not 3 digits\n"
          ]
        }
      ]
    },
    {
      "cell_type": "code",
      "metadata": {
        "id": "YBLkA61D2G6K",
        "colab": {
          "base_uri": "https://localhost:8080/"
        },
        "outputId": "387e0367-0c88-4da5-e6a0-c95f0806e07c"
      },
      "source": [
        "#another way of counting practice\n",
        "\n",
        "n=int(input(\"Enter number:\"))\n",
        "count=0\n",
        "while(n>0):\n",
        "    count=count+1\n",
        "    n=n//10\n",
        "print(\"The number of digits in the number are:\",count)"
      ],
      "execution_count": null,
      "outputs": [
        {
          "output_type": "stream",
          "name": "stdout",
          "text": [
            "Enter number:700\n",
            "The number of digits in the number are: 3\n"
          ]
        }
      ]
    },
    {
      "cell_type": "code",
      "metadata": {
        "id": "FpIYBxA_1yyZ"
      },
      "source": [],
      "execution_count": null,
      "outputs": []
    },
    {
      "cell_type": "markdown",
      "metadata": {
        "id": "8bf5S-akwovJ"
      },
      "source": [
        "# Exercise 2:\n",
        "\n",
        "Write a conditional to apply the correct amount of tax depending on how much is spent on a purchase.\n",
        "\n",
        "        **Cost price**                                                        **Tax**\n",
        "        Greater than 100000                                                    15 %\n",
        "        Greater than 50000 and less than or equal to 100000                    10%\n",
        "        less than or equal to 50000                                            5%\n",
        "        \n",
        "Print the total amount including tax"
      ]
    },
    {
      "cell_type": "code",
      "metadata": {
        "id": "C0-6N3UdwovJ",
        "colab": {
          "base_uri": "https://localhost:8080/"
        },
        "outputId": "abe6121f-4c23-4950-a29f-3cbd0e6c8c05"
      },
      "source": [
        "purchase = input(\"How much was the purchase?\")\n",
        "\n",
        "if int(purchase) > 100000:\n",
        "  purchase = int(purchase)* 0.15 + int(purchase)\n",
        "  print(purchase)\n",
        "elif int(purchase) <= 50000:\n",
        "  purchase = int(purchase)* .05 + int(purchase)\n",
        "  print(purchase)\n",
        "elif int(purchase) > 500000 and int(purchase) <= 100000:\n",
        "  purchase = int(purchase)* 0.1 + int(purchase)\n",
        "  print(purchase)\n",
        "\n",
        "\n",
        "#>500000"
      ],
      "execution_count": null,
      "outputs": [
        {
          "output_type": "stream",
          "name": "stdout",
          "text": [
            "How much was the purchase?600000\n",
            "690000.0\n"
          ]
        }
      ]
    },
    {
      "cell_type": "markdown",
      "metadata": {
        "id": "Xs1J-1KywovK"
      },
      "source": [
        "# Exercise 3\n",
        "\n",
        "Provided a dictionary of users, take an input value and create a conditonal to determine if the password enter matches the user's password.\n",
        "\n",
        "print the users name, admin status and age\n",
        "\n",
        "If the user entered in the input is not in the users print \"Username/Password Incorrect\"\n",
        "\n",
        "If the password enter in the input is incorrect print \"Username/Password Incorrect\""
      ]
    },
    {
      "cell_type": "code",
      "metadata": {
        "id": "EgfhC7vuwovK"
      },
      "source": [
        "users = {\n",
        "    \"Joe\": {\n",
        "        \"is_admin\": False,\n",
        "        \"age\" : 22,\n",
        "        \"password\": \"newpassword1\"\n",
        "    },\n",
        "    \"Craig\": {\n",
        "        \"is_admin\": True,\n",
        "        \"age\" : 35,\n",
        "        \"password\": \"testword4321\"\n",
        "    },\n",
        "    \"Trixy\": {\n",
        "        \"is_admin\": False,\n",
        "        \"age\" : 18,\n",
        "        \"password\": \"catdoor2\"\n",
        "    },\n",
        "    \"Matt\": {\n",
        "        \"is_admin\": True,\n",
        "        \"age\" : 31,\n",
        "        \"password\": \"yoyo45alma\"\n",
        "    },\n",
        "    \"Tim\": {\n",
        "        \"is_admin\": False,\n",
        "        \"age\" : 27,\n",
        "        \"password\": \"p@$$w0rd!23\"\n",
        "    },\n",
        "}"
      ],
      "execution_count": null,
      "outputs": []
    },
    {
      "cell_type": "code",
      "metadata": {
        "colab": {
          "base_uri": "https://localhost:8080/"
        },
        "id": "hLymzhpW_cVe",
        "outputId": "963c23a6-8e42-4a98-f848-7905b80e69dd"
      },
      "source": [
        "input_value = input(\"Enter User's name and password separated by a comma\").split(\",\")\n"
      ],
      "execution_count": null,
      "outputs": [
        {
          "name": "stdout",
          "output_type": "stream",
          "text": [
            "Enter User's name and password separated by a commaTim , p@$$w0rd!23\n"
          ]
        }
      ]
    },
    {
      "cell_type": "code",
      "metadata": {
        "id": "-c-u4YH7Ulc5"
      },
      "source": [
        "input_value[0] = input_value[0].title()\n",
        "input_value[1] = input_value[1].strip()\n"
      ],
      "execution_count": null,
      "outputs": []
    },
    {
      "cell_type": "code",
      "metadata": {
        "id": "aFF3gqM1-zde"
      },
      "source": [
        "if input_value[0] in users.keys():\n",
        "  if password == input_value:\n",
        "    print (input_value(0))"
      ],
      "execution_count": null,
      "outputs": []
    },
    {
      "cell_type": "code",
      "metadata": {
        "id": "D6PJDob8RZbS"
      },
      "source": [],
      "execution_count": null,
      "outputs": []
    }
  ]
}