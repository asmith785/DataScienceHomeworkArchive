{
  "nbformat": 4,
  "nbformat_minor": 0,
  "metadata": {
    "kernelspec": {
      "display_name": "Python 3",
      "language": "python",
      "name": "python3"
    },
    "language_info": {
      "codemirror_mode": {
        "name": "ipython",
        "version": 3
      },
      "file_extension": ".py",
      "mimetype": "text/x-python",
      "name": "python",
      "nbconvert_exporter": "python",
      "pygments_lexer": "ipython3",
      "version": "3.8.5"
    },
    "colab": {
      "provenance": []
    }
  },
  "cells": [
    {
      "cell_type": "markdown",
      "metadata": {
        "id": "goeCRSYlmmNa"
      },
      "source": [
        "# Week 2 HW\n",
        "\n",
        "Exercise 1 is due Monday.  \n",
        "Exercise 2 is due Tuesday.  \n",
        "Exercise 3 is due Wednesday.  "
      ]
    },
    {
      "cell_type": "markdown",
      "metadata": {
        "id": "ixx6cCVnmmNh"
      },
      "source": [
        "# Exercise #1\n",
        "\n",
        "### Given the following variable `money_moves`"
      ]
    },
    {
      "cell_type": "code",
      "metadata": {
        "id": "30zzfA9BmmNi"
      },
      "source": [
        "money_moves = [\"fur coats\",\"money fans\",\"Diamonds\",\"MoNeY FaNs\",\"FUR COATS\",\"barrels of gold\"]"
      ],
      "execution_count": null,
      "outputs": []
    },
    {
      "cell_type": "markdown",
      "metadata": {
        "id": "neUO2y4VmmNl"
      },
      "source": [
        "### a. Print the list of unique elements. Then output the length."
      ]
    },
    {
      "cell_type": "code",
      "metadata": {
        "id": "i1JOwBO1mmNm",
        "colab": {
          "base_uri": "https://localhost:8080/"
        },
        "outputId": "809c921a-ca47-4363-9b97-5cfeadcf55ad"
      },
      "source": [
        "#First find the non unique items of the orginal list\n",
        "#deleted the words that were lower case because they are not unique\n",
        "del money_moves[0:2]\n",
        "\n",
        "print(money_moves)\n"
      ],
      "execution_count": null,
      "outputs": [
        {
          "output_type": "stream",
          "name": "stdout",
          "text": [
            "['Diamonds', 'MoNeY FaNs', 'FUR COATS', 'barrels of gold']\n"
          ]
        }
      ]
    },
    {
      "cell_type": "code",
      "metadata": {
        "colab": {
          "base_uri": "https://localhost:8080/"
        },
        "id": "UGlc8ytRUZGx",
        "outputId": "c480083b-82b9-4f66-ca9d-c22c4183a764"
      },
      "source": [
        "del money_moves[3]\n",
        "print(money_moves)\n",
        "#These values are unique because they are the only words capitalized"
      ],
      "execution_count": null,
      "outputs": [
        {
          "output_type": "stream",
          "name": "stdout",
          "text": [
            "['Diamonds', 'MoNeY FaNs', 'FUR COATS']\n"
          ]
        }
      ]
    },
    {
      "cell_type": "code",
      "metadata": {
        "colab": {
          "base_uri": "https://localhost:8080/"
        },
        "id": "h0EYc9S5M8MQ",
        "outputId": "acfa9d14-4746-4355-cde2-93f8239b9e28"
      },
      "source": [
        "print(len(money_moves))\n"
      ],
      "execution_count": null,
      "outputs": [
        {
          "output_type": "stream",
          "name": "stdout",
          "text": [
            "3\n"
          ]
        }
      ]
    },
    {
      "cell_type": "markdown",
      "metadata": {
        "id": "hILTv8ekmmNm"
      },
      "source": [
        "### b. Set the 4th and 5th elements of the original list in lowercase. Pop that value and append it to the end of the list. Print the list."
      ]
    },
    {
      "cell_type": "code",
      "metadata": {
        "id": "UVW5AS78mmNn"
      },
      "source": [
        "#Due to the non unique words being deleted in example b I had to re-define the function\n",
        "money_moves = [\"fur coats\",\"money fans\",\"Diamonds\",\"MoNeY FaNs\",\"FUR COATS\",\"barrels of gold\"]"
      ],
      "execution_count": null,
      "outputs": []
    },
    {
      "cell_type": "code",
      "metadata": {
        "colab": {
          "base_uri": "https://localhost:8080/"
        },
        "id": "HyriM_NJUlct",
        "outputId": "c9ebe621-7b19-4480-95e1-c32f3af98d4d"
      },
      "source": [
        "money_moves.index(\"FUR COATS\")"
      ],
      "execution_count": null,
      "outputs": [
        {
          "output_type": "execute_result",
          "data": {
            "text/plain": [
              "4"
            ]
          },
          "metadata": {},
          "execution_count": 4
        }
      ]
    },
    {
      "cell_type": "code",
      "metadata": {
        "colab": {
          "base_uri": "https://localhost:8080/"
        },
        "id": "pZx0JjZ3XmJE",
        "outputId": "68aa4c20-9d90-4732-d5b6-169f8d7cbeb3"
      },
      "source": [
        "for i in range(len(money_moves)):\n",
        "    money_moves[i] = money_moves[i].lower()\n",
        "print(money_moves)"
      ],
      "execution_count": null,
      "outputs": [
        {
          "output_type": "stream",
          "name": "stdout",
          "text": [
            "['fur coats', 'money fans', 'diamonds', 'money fans', 'fur coats', 'barrels of gold']\n"
          ]
        }
      ]
    },
    {
      "cell_type": "code",
      "metadata": {
        "colab": {
          "base_uri": "https://localhost:8080/"
        },
        "id": "Aml66btrgrB8",
        "outputId": "bb278d20-8343-49c5-a402-9cee09379845"
      },
      "source": [
        "#assuming the 4th and 5th element is \"MoNeY FaNs\"& \"FUR COATS\"\n",
        "money_moves.append(\"'money fans', 'fur coats'\") #appending newly made lower case value to list\n",
        "\n",
        "print(money_moves)"
      ],
      "execution_count": null,
      "outputs": [
        {
          "output_type": "stream",
          "name": "stdout",
          "text": [
            "['fur coats', 'money fans', 'diamonds', 'money fans', 'fur coats', 'barrels of gold', \"'money fans', 'fur coats'\", \"'money fans', 'fur coats'\"]\n"
          ]
        }
      ]
    },
    {
      "cell_type": "markdown",
      "metadata": {
        "id": "oLbZuusYmmNo"
      },
      "source": [
        "### d. Create a new list, append odd number items from the original list`money_moves` and output the new list"
      ]
    },
    {
      "cell_type": "code",
      "metadata": {
        "id": "V2gisCsfmmNo"
      },
      "source": [
        "money_moves = [\"fur coats\",\"money fans\",\"Diamonds\",\"MoNeY FaNs\",\"FUR COATS\",\"barrels of gold\"]\n",
        ""
      ],
      "execution_count": null,
      "outputs": []
    },
    {
      "cell_type": "markdown",
      "metadata": {
        "id": "BN5MMMbBmmNp"
      },
      "source": [
        "### e. Create a new dict. Add each item of `money_moves` to the dict using it's place in the list as the key for the dict. Print the dict."
      ]
    },
    {
      "cell_type": "code",
      "metadata": {
        "id": "3tZqoA7mmmNq"
      },
      "source": [
        "money_moves = [\"fur coats\",\"money fans\",\"Diamonds\",\"MoNeY FaNs\",\"FUR COATS\",\"barrels of gold\"]\n",
        "price = [ 500, 400, 1000, 450, 425, 5000 ]"
      ],
      "execution_count": null,
      "outputs": []
    },
    {
      "cell_type": "code",
      "metadata": {
        "id": "Iy-9mnUnmmNq",
        "colab": {
          "base_uri": "https://localhost:8080/"
        },
        "outputId": "073f79af-088f-49e1-a137-04b7bedf9138"
      },
      "source": [
        "a1 = dict(zip(money_moves, price))\n",
        "print(a1)"
      ],
      "execution_count": null,
      "outputs": [
        {
          "output_type": "stream",
          "name": "stdout",
          "text": [
            "{'fur coats': 500, 'money fans': 400, 'Diamonds': 1000, 'MoNeY FaNs': 450, 'FUR COATS': 425, 'barrels of gold': 5000}\n"
          ]
        }
      ]
    },
    {
      "cell_type": "code",
      "metadata": {
        "id": "SyV7N6JLmmNr",
        "colab": {
          "base_uri": "https://localhost:8080/"
        },
        "outputId": "77a01086-8c85-4396-cbeb-9ae4f16e6be1"
      },
      "source": [
        "type(a1)"
      ],
      "execution_count": null,
      "outputs": [
        {
          "output_type": "execute_result",
          "data": {
            "text/plain": [
              "dict"
            ]
          },
          "metadata": {},
          "execution_count": 16
        }
      ]
    },
    {
      "cell_type": "markdown",
      "metadata": {
        "id": "Rk0jaLwRmmNr"
      },
      "source": [
        "# Exercise 2\n",
        "\n",
        "### Given the string below:  "
      ]
    },
    {
      "cell_type": "code",
      "metadata": {
        "id": "1eSxV__4mmNr"
      },
      "source": [
        "original_string = \"Supercalifragilisticexpialadocious\""
      ],
      "execution_count": null,
      "outputs": []
    },
    {
      "cell_type": "markdown",
      "metadata": {
        "id": "tplqUqY8mmNs"
      },
      "source": [
        "### a. Extract the 3rd and 4th element separately. Return the two values in a tuple"
      ]
    },
    {
      "cell_type": "code",
      "metadata": {
        "id": "Q_rIjSlOmmNs",
        "colab": {
          "base_uri": "https://localhost:8080/",
          "height": 35
        },
        "outputId": "54040403-cbf0-47ee-dd21-e51e746d87b5"
      },
      "source": [
        "\n",
        "a = original_string[2] + \" \" + original_string [3]\n",
        "a"
      ],
      "execution_count": null,
      "outputs": [
        {
          "output_type": "execute_result",
          "data": {
            "application/vnd.google.colaboratory.intrinsic+json": {
              "type": "string"
            },
            "text/plain": [
              "'p e'"
            ]
          },
          "metadata": {},
          "execution_count": 22
        }
      ]
    },
    {
      "cell_type": "code",
      "metadata": {
        "colab": {
          "base_uri": "https://localhost:8080/"
        },
        "id": "AphrUk617t6m",
        "outputId": "cad76876-1539-424c-fd8e-3df120d99a0e"
      },
      "source": [
        "tup = tuple(a)\n",
        "tup"
      ],
      "execution_count": null,
      "outputs": [
        {
          "output_type": "execute_result",
          "data": {
            "text/plain": [
              "('p', ' ', 'e')"
            ]
          },
          "metadata": {},
          "execution_count": 23
        }
      ]
    },
    {
      "cell_type": "markdown",
      "metadata": {
        "id": "kOm3Jlz5mmNs"
      },
      "source": [
        "### b. Extract the 3rd through 5th element, inclusive.   "
      ]
    },
    {
      "cell_type": "code",
      "metadata": {
        "id": "QnIKNGJdmmNt",
        "colab": {
          "base_uri": "https://localhost:8080/"
        },
        "outputId": "cde0792c-47b8-4b6a-9f23-c50f1d1e6636"
      },
      "source": [
        "original_string [2:4]"
      ],
      "execution_count": null,
      "outputs": [
        {
          "output_type": "execute_result",
          "data": {
            "text/plain": [
              "['r', 'c']"
            ]
          },
          "metadata": {},
          "execution_count": 26
        }
      ]
    },
    {
      "cell_type": "markdown",
      "metadata": {
        "id": "quRpIinmmmNt"
      },
      "source": [
        "### c. Extract the 3rd (inclusive) through 5th (exclusive) element.  "
      ]
    },
    {
      "cell_type": "code",
      "metadata": {
        "id": "iTG02WxmmmNu",
        "colab": {
          "base_uri": "https://localhost:8080/"
        },
        "outputId": "b86ec652-56fa-4d88-a704-89fb630114b4"
      },
      "source": [
        "original_string = list(original_string)\n",
        "d = original_string.pop(2)\n",
        "c = original_string.pop(2)\n",
        "\n",
        "print (d,c)"
      ],
      "execution_count": null,
      "outputs": [
        {
          "output_type": "stream",
          "name": "stdout",
          "text": [
            "p e\n"
          ]
        }
      ]
    },
    {
      "cell_type": "markdown",
      "metadata": {
        "id": "gzkC7rrqmmNu"
      },
      "source": [
        "### d. What is the index of \"S\"? How many elements in the list are \"S\"? Output the results as a tuple"
      ]
    },
    {
      "cell_type": "code",
      "metadata": {
        "id": "GGFVGo0GmmNu",
        "colab": {
          "base_uri": "https://localhost:8080/"
        },
        "outputId": "a946f0ad-71f7-4122-801a-96c9d3a54beb"
      },
      "source": [
        "original_string = \"Supercalifragilisticexpialadocious\"\n",
        "new_str1 = tuple (original_string)\n",
        "new_str1"
      ],
      "execution_count": null,
      "outputs": [
        {
          "output_type": "execute_result",
          "data": {
            "text/plain": [
              "('S',\n",
              " 'u',\n",
              " 'p',\n",
              " 'e',\n",
              " 'r',\n",
              " 'c',\n",
              " 'a',\n",
              " 'l',\n",
              " 'i',\n",
              " 'f',\n",
              " 'r',\n",
              " 'a',\n",
              " 'g',\n",
              " 'i',\n",
              " 'l',\n",
              " 'i',\n",
              " 's',\n",
              " 't',\n",
              " 'i',\n",
              " 'c',\n",
              " 'e',\n",
              " 'x',\n",
              " 'p',\n",
              " 'i',\n",
              " 'a',\n",
              " 'l',\n",
              " 'a',\n",
              " 'd',\n",
              " 'o',\n",
              " 'c',\n",
              " 'i',\n",
              " 'o',\n",
              " 'u',\n",
              " 's')"
            ]
          },
          "metadata": {},
          "execution_count": 18
        }
      ]
    },
    {
      "cell_type": "code",
      "metadata": {
        "colab": {
          "base_uri": "https://localhost:8080/"
        },
        "id": "LFRKUy5eOBwU",
        "outputId": "97339b13-0112-411d-8475-bc30b8c063bb"
      },
      "source": [
        "new_str1.index(\"S\")"
      ],
      "execution_count": null,
      "outputs": [
        {
          "output_type": "execute_result",
          "data": {
            "text/plain": [
              "0"
            ]
          },
          "metadata": {},
          "execution_count": 19
        }
      ]
    },
    {
      "cell_type": "markdown",
      "metadata": {
        "id": "7e6v1PRUmmNu"
      },
      "source": [
        "### e. What are the last 3 elements of the string?  "
      ]
    },
    {
      "cell_type": "code",
      "metadata": {
        "id": "sK47XWcHmmNu",
        "colab": {
          "base_uri": "https://localhost:8080/",
          "height": 35
        },
        "outputId": "23ffb117-bba6-4dae-f5f0-4a67692d9f23"
      },
      "source": [
        "#two different ways of getting the same  results\n",
        "#single ince\n",
        "original_string[-1]"
      ],
      "execution_count": null,
      "outputs": [
        {
          "output_type": "execute_result",
          "data": {
            "application/vnd.google.colaboratory.intrinsic+json": {
              "type": "string"
            },
            "text/plain": [
              "'s'"
            ]
          },
          "metadata": {},
          "execution_count": 16
        }
      ]
    },
    {
      "cell_type": "code",
      "metadata": {
        "colab": {
          "base_uri": "https://localhost:8080/",
          "height": 35
        },
        "id": "jS7GCUZpOmEM",
        "outputId": "4b54932c-7268-485e-88b4-c1bb2b71df2a"
      },
      "source": [
        "original_string[-2]"
      ],
      "execution_count": null,
      "outputs": [
        {
          "output_type": "execute_result",
          "data": {
            "application/vnd.google.colaboratory.intrinsic+json": {
              "type": "string"
            },
            "text/plain": [
              "'u'"
            ]
          },
          "metadata": {},
          "execution_count": 17
        }
      ]
    },
    {
      "cell_type": "code",
      "metadata": {
        "colab": {
          "base_uri": "https://localhost:8080/",
          "height": 35
        },
        "id": "wkMek33ZOrwl",
        "outputId": "4744a842-1f5e-4d47-ee3d-592aacaf5776"
      },
      "source": [
        "original_string[-3]"
      ],
      "execution_count": null,
      "outputs": [
        {
          "output_type": "execute_result",
          "data": {
            "application/vnd.google.colaboratory.intrinsic+json": {
              "type": "string"
            },
            "text/plain": [
              "'o'"
            ]
          },
          "metadata": {},
          "execution_count": 18
        }
      ]
    },
    {
      "cell_type": "code",
      "metadata": {
        "colab": {
          "base_uri": "https://localhost:8080/",
          "height": 35
        },
        "id": "c4X8exH3Pkgd",
        "outputId": "1ba3af84-88c1-4d4e-9e99-3ea00ca83125"
      },
      "source": [
        "original_string[-3:34]"
      ],
      "execution_count": null,
      "outputs": [
        {
          "output_type": "execute_result",
          "data": {
            "application/vnd.google.colaboratory.intrinsic+json": {
              "type": "string"
            },
            "text/plain": [
              "'ous'"
            ]
          },
          "metadata": {},
          "execution_count": 21
        }
      ]
    },
    {
      "cell_type": "markdown",
      "metadata": {
        "id": "VWH81n8RmmNu"
      },
      "source": [
        "### f. Output the string backwards"
      ]
    },
    {
      "cell_type": "code",
      "metadata": {
        "id": "xz5R1H85mmNv",
        "colab": {
          "base_uri": "https://localhost:8080/"
        },
        "outputId": "540b3c73-c8af-49cc-87a8-1ac72e5ef43c"
      },
      "source": [
        "original_string[::-1]"
      ],
      "execution_count": null,
      "outputs": [
        {
          "output_type": "execute_result",
          "data": {
            "text/plain": [
              "['s',\n",
              " 'u',\n",
              " 'o',\n",
              " 'i',\n",
              " 'c',\n",
              " 'o',\n",
              " 'd',\n",
              " 'a',\n",
              " 'l',\n",
              " 'a',\n",
              " 'i',\n",
              " 'p',\n",
              " 'x',\n",
              " 'e',\n",
              " 'c',\n",
              " 'i',\n",
              " 't',\n",
              " 's',\n",
              " 'i',\n",
              " 'l',\n",
              " 'i',\n",
              " 'g',\n",
              " 'a',\n",
              " 'r',\n",
              " 'f',\n",
              " 'i',\n",
              " 'l',\n",
              " 'a',\n",
              " 'c',\n",
              " 'r',\n",
              " 'u',\n",
              " 'S']"
            ]
          },
          "metadata": {},
          "execution_count": 13
        }
      ]
    },
    {
      "cell_type": "markdown",
      "metadata": {
        "id": "sOTgueuHmmNv"
      },
      "source": [
        "# Exercise 3\n",
        "\n",
        "### Given the following code, fix it so the code outputs `\"hello\"`:\n",
        "\n",
        "Hint: for each, you just have to edit one line of code\n",
        "\n",
        "(Don't worry, you aren't meant to understand everything going on in them yet)"
      ]
    },
    {
      "cell_type": "code",
      "metadata": {
        "id": "48OA-MJRmmNv",
        "colab": {
          "base_uri": "https://localhost:8080/",
          "height": 35
        },
        "outputId": "83a67e85-2976-4425-b769-791ab910bf28"
      },
      "source": [
        "def function(x):\n",
        "    if type(x) == True or False:\n",
        "        print(x)\n",
        "\n",
        "x = (\"hello\")\n",
        "x"
      ],
      "execution_count": null,
      "outputs": [
        {
          "output_type": "execute_result",
          "data": {
            "application/vnd.google.colaboratory.intrinsic+json": {
              "type": "string"
            },
            "text/plain": [
              "'hello'"
            ]
          },
          "metadata": {},
          "execution_count": 13
        }
      ]
    },
    {
      "cell_type": "code",
      "metadata": {
        "colab": {
          "base_uri": "https://localhost:8080/"
        },
        "id": "nlGd96DnvngE",
        "outputId": "91043549-682f-4bd0-af08-80e2f89afbec"
      },
      "source": [
        "s = [\"h\", \"e\", \"l\", \"l\", \"o\"]\n",
        "\n",
        "print(\"\".join(s))"
      ],
      "execution_count": null,
      "outputs": [
        {
          "output_type": "stream",
          "name": "stdout",
          "text": [
            "hello\n"
          ]
        }
      ]
    },
    {
      "cell_type": "code",
      "metadata": {
        "id": "JPXMC3OjmmNw"
      },
      "source": [
        "a = True\n",
        "b = False\n",
        "c = True\n",
        "d = False\n"
      ],
      "execution_count": null,
      "outputs": []
    },
    {
      "cell_type": "code",
      "metadata": {
        "colab": {
          "base_uri": "https://localhost:8080/"
        },
        "id": "twiLWNLO8Zmd",
        "outputId": "7b8bf46f-074d-4cea-b085-94791bf36db2"
      },
      "source": [
        "if a or b == d or d == b:\n",
        "  print('hello')"
      ],
      "execution_count": null,
      "outputs": [
        {
          "output_type": "stream",
          "name": "stdout",
          "text": [
            "hello\n"
          ]
        }
      ]
    },
    {
      "cell_type": "code",
      "metadata": {
        "id": "Rga-uqsKmmNw"
      },
      "source": [
        "class Example:\n",
        "    def __init__(self, val):\n",
        "        self.a = val and print(\"hello\")\n",
        "    def say_hi(self):\n",
        "        print(\"hello\") if self.a == \"fixed\" else print(\"\")\n",
        "    def hello(self):\n",
        "        return \"olleh\".reverse()\n",
        "\n",
        "e = Example(\"\")\n",
        "e.say_hi()"
      ],
      "execution_count": null,
      "outputs": []
    }
  ]
}